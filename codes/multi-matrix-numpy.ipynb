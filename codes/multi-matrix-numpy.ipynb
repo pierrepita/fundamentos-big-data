{
 "cells": [
  {
   "cell_type": "code",
   "execution_count": 18,
   "metadata": {},
   "outputs": [],
   "source": [
    "# adapted from: https://br.renatocandido.org/2011/09/python-para-aplicacoes-cientificas-basico-do-basico/\n",
    "# adapted from: https://github.com/khalidgt95/Python-MultiThreading/blob/master/Matrix%20Multiplication.py"
   ]
  },
  {
   "cell_type": "code",
   "execution_count": 4,
   "metadata": {},
   "outputs": [],
   "source": [
    "import numpy as np\n",
    "import time\n",
    "import random\n",
    "import math"
   ]
  },
  {
   "cell_type": "markdown",
   "metadata": {},
   "source": [
    "## Exemplo de código"
   ]
  },
  {
   "cell_type": "code",
   "execution_count": 6,
   "metadata": {},
   "outputs": [],
   "source": [
    "# Matriz 2x2 A = [1 2\n",
    "#                 3 4]\n",
    "A = np.array([[1, 2], [3, 4]])\n",
    "# Matriz 2x2 B = [5 6\n",
    "#                 7 8]\n",
    "B = np.array([[5, 6], [7, 8]])\n",
    "# C = A*B\n",
    "C = np.dot(A,B)"
   ]
  },
  {
   "cell_type": "code",
   "execution_count": 7,
   "metadata": {},
   "outputs": [
    {
     "data": {
      "text/plain": [
       "array([[19, 22],\n",
       "       [43, 50]])"
      ]
     },
     "execution_count": 7,
     "metadata": {},
     "output_type": "execute_result"
    }
   ],
   "source": [
    "C"
   ]
  },
  {
   "cell_type": "markdown",
   "metadata": {},
   "source": [
    "## Execução para exercício"
   ]
  },
  {
   "cell_type": "code",
   "execution_count": 8,
   "metadata": {},
   "outputs": [],
   "source": [
    "def Input_for_matrix_dimensions():\n",
    "    global dimension_N\n",
    "    \n",
    "    dimension_N = int(input(\"Enter the number N to generate NxN matrix : \"))"
   ]
  },
  {
   "cell_type": "code",
   "execution_count": 9,
   "metadata": {},
   "outputs": [],
   "source": [
    "def Initialize_Matrix():\n",
    "    global Matrix_A\n",
    "    global Matrix_B\n",
    "    global Matrix_C\n",
    "    #for i in range(0,dimension_N):\n",
    "    #    Matrix_A.append([random.randint(1,5) for i in range(0,dimension_N)])\n",
    "    #print(Matrix_A)\n",
    "\n",
    "    #Using numpy to generate matrix\n",
    "    Matrix_A = np.random.random((dimension_N,dimension_N))\n",
    "    Matrix_A = Matrix_A * 10\n",
    "    Matrix_A = Matrix_A.astype(int)\n",
    "    \n",
    "    Matrix_B = np.random.random((dimension_N,dimension_N))\n",
    "    Matrix_B = Matrix_B * 10\n",
    "    Matrix_B = Matrix_B.astype(int)\n",
    "    \n",
    "    Matrix_C = np.zeros((dimension_N,dimension_N))\n",
    "    Matrix_C = Matrix_C.astype(int)"
   ]
  },
  {
   "cell_type": "code",
   "execution_count": null,
   "metadata": {},
   "outputs": [
    {
     "name": "stdin",
     "output_type": "stream",
     "text": [
      "Enter the number N to generate NxN matrix :  10000\n"
     ]
    }
   ],
   "source": [
    "if __name__==\"__main__\":\n",
    "    \n",
    "    Input_for_matrix_dimensions()\n",
    "    Initialize_Matrix()\n",
    "    \n",
    "    start_time = time.time()\n",
    "    Matrix_C = np.dot(Matrix_A,Matrix_B)\n",
    "    end_time = time.time()\n",
    "    \n",
    "    print(\"Time taken to multiply two matrices in parallel comes out to be : \" + str(end_time - start_time))"
   ]
  },
  {
   "cell_type": "code",
   "execution_count": null,
   "metadata": {},
   "outputs": [],
   "source": []
  }
 ],
 "metadata": {
  "kernelspec": {
   "display_name": "Python 3",
   "language": "python",
   "name": "python3"
  },
  "language_info": {
   "codemirror_mode": {
    "name": "ipython",
    "version": 3
   },
   "file_extension": ".py",
   "mimetype": "text/x-python",
   "name": "python",
   "nbconvert_exporter": "python",
   "pygments_lexer": "ipython3",
   "version": "3.8.5"
  }
 },
 "nbformat": 4,
 "nbformat_minor": 4
}
