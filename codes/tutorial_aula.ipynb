{
 "cells": [
  {
   "cell_type": "markdown",
   "metadata": {},
   "source": [
    "## FOR GOOGLE COLAB USERS"
   ]
  },
  {
   "cell_type": "code",
   "execution_count": null,
   "metadata": {},
   "outputs": [],
   "source": [
    "#!apt-get install openjdk-8-jdk-headless -qq > /dev/null\n",
    "!wget -q http://archive.apache.org/dist/spark/spark-2.4.2/spark-2.4.2-bin-hadoop2.7.tgz\n",
    "!tar xf spark-2.4.2-bin-hadoop2.7.tgzdf!pip install -q findspark"
   ]
  },
  {
   "cell_type": "code",
   "execution_count": null,
   "metadata": {},
   "outputs": [],
   "source": [
    "!java -version"
   ]
  },
  {
   "cell_type": "code",
   "execution_count": null,
   "metadata": {},
   "outputs": [],
   "source": [
    "import os\n",
    "os.environ[\"JAVA_HOME\"] = \"/usr/lib/jvm/java-1.11.0-openjdk-amd64/\"\n",
    "os.environ[\"SPARK_HOME\"] = \"/content/spark-2.4.2-bin-hadoop2.7\""
   ]
  },
  {
   "cell_type": "code",
   "execution_count": null,
   "metadata": {},
   "outputs": [],
   "source": [
    "import findspark\n",
    "findspark.init()\n",
    "from pyspark.sql import SparkSession\n",
    "spark = SparkSession.builder.master(\"local[*]\").getOrCreate()"
   ]
  },
  {
   "cell_type": "markdown",
   "metadata": {},
   "source": []
  },
  {
   "cell_type": "markdown",
   "metadata": {},
   "source": [
    "### Chamada da biblioteca"
   ]
  },
  {
   "cell_type": "code",
   "execution_count": 1,
   "metadata": {},
   "outputs": [],
   "source": [
    "from pyspark.sql import SparkSession\n",
    "import pyspark.sql.functions as F\n",
    "from pyspark.sql.types import StringType\n",
    "from pyspark.sql.types import IntegerType"
   ]
  },
  {
   "cell_type": "markdown",
   "metadata": {},
   "source": [
    "### Inicializando o Sessão do Spark - \n",
    "##### Para usuários jupyter desktop"
   ]
  },
  {
   "cell_type": "code",
   "execution_count": 2,
   "metadata": {},
   "outputs": [],
   "source": [
    "spark = SparkSession.builder \\\n",
    "                    .appName(\"Tutorial PySpark SQL\") \\\n",
    "                    .config(\"spark.some.config.option\", \"some-value\") \\\n",
    "                    .getOrCreate()"
   ]
  },
  {
   "cell_type": "markdown",
   "metadata": {},
   "source": [
    "### Lendo dataframe com spark DataFrame"
   ]
  },
  {
   "cell_type": "code",
   "execution_count": 3,
   "metadata": {},
   "outputs": [],
   "source": [
    "df = spark.read.csv('DNPBA2017.csv', header=True)"
   ]
  },
  {
   "cell_type": "markdown",
   "metadata": {},
   "source": [
    "### Identificando a estrutura da base"
   ]
  },
  {
   "cell_type": "code",
   "execution_count": 4,
   "metadata": {},
   "outputs": [
    {
     "name": "stdout",
     "output_type": "stream",
     "text": [
      "root\n",
      " |-- _c0: string (nullable = true)\n",
      " |-- NUMERODN: string (nullable = true)\n",
      " |-- CODINST: string (nullable = true)\n",
      " |-- ORIGEM: string (nullable = true)\n",
      " |-- NUMERODV: string (nullable = true)\n",
      " |-- PREFIXODN: string (nullable = true)\n",
      " |-- CODESTAB: string (nullable = true)\n",
      " |-- CODMUNNASC: string (nullable = true)\n",
      " |-- LOCNASC: string (nullable = true)\n",
      " |-- IDADEMAE: string (nullable = true)\n",
      " |-- ESTCIVMAE: string (nullable = true)\n",
      " |-- ESCMAE: string (nullable = true)\n",
      " |-- CODOCUPMAE: string (nullable = true)\n",
      " |-- QTDFILVIVO: string (nullable = true)\n",
      " |-- QTDFILMORT: string (nullable = true)\n",
      " |-- CODMUNRES: string (nullable = true)\n",
      " |-- GESTACAO: string (nullable = true)\n",
      " |-- GRAVIDEZ: string (nullable = true)\n",
      " |-- PARTO: string (nullable = true)\n",
      " |-- CONSULTAS: string (nullable = true)\n",
      " |-- DTNASC: string (nullable = true)\n",
      " |-- HORANASC: string (nullable = true)\n",
      " |-- SEXO: string (nullable = true)\n",
      " |-- APGAR1: string (nullable = true)\n",
      " |-- APGAR5: string (nullable = true)\n",
      " |-- RACACOR: string (nullable = true)\n",
      " |-- PESO: string (nullable = true)\n",
      " |-- IDANOMAL: string (nullable = true)\n",
      " |-- DTCADASTRO: string (nullable = true)\n",
      " |-- CODANOMAL: string (nullable = true)\n",
      " |-- NUMEROLOTE: string (nullable = true)\n",
      " |-- VERSAOSIST: string (nullable = true)\n",
      " |-- DTRECEBIM: string (nullable = true)\n",
      " |-- DIFDATA: string (nullable = true)\n",
      " |-- DTRECORIGA: string (nullable = true)\n",
      " |-- NATURALMAE: string (nullable = true)\n",
      " |-- CODMUNNATU: string (nullable = true)\n",
      " |-- CODUFNATU: string (nullable = true)\n",
      " |-- ESCMAE2010: string (nullable = true)\n",
      " |-- SERIESCMAE: string (nullable = true)\n",
      " |-- DTNASCMAE: string (nullable = true)\n",
      " |-- RACACORMAE: string (nullable = true)\n",
      " |-- QTDGESTANT: string (nullable = true)\n",
      " |-- QTDPARTNOR: string (nullable = true)\n",
      " |-- QTDPARTCES: string (nullable = true)\n",
      " |-- IDADEPAI: string (nullable = true)\n",
      " |-- DTULTMENST: string (nullable = true)\n",
      " |-- SEMAGESTAC: string (nullable = true)\n",
      " |-- TPMETESTIM: string (nullable = true)\n",
      " |-- CONSPRENAT: string (nullable = true)\n",
      " |-- MESPRENAT: string (nullable = true)\n",
      " |-- TPAPRESENT: string (nullable = true)\n",
      " |-- STTRABPART: string (nullable = true)\n",
      " |-- STCESPARTO: string (nullable = true)\n",
      " |-- TPNASCASSI: string (nullable = true)\n",
      " |-- TPFUNCRESP: string (nullable = true)\n",
      " |-- TPDOCRESP: string (nullable = true)\n",
      " |-- DTDECLARAC: string (nullable = true)\n",
      " |-- ESCMAEAGR1: string (nullable = true)\n",
      " |-- STDNEPIDEM: string (nullable = true)\n",
      " |-- STDNNOVA: string (nullable = true)\n",
      " |-- CODPAISRES: string (nullable = true)\n",
      " |-- TPROBSON: string (nullable = true)\n",
      " |-- PARIDADE: string (nullable = true)\n",
      " |-- KOTELCHUCK: string (nullable = true)\n",
      "\n"
     ]
    }
   ],
   "source": [
    "df.printSchema()"
   ]
  },
  {
   "cell_type": "markdown",
   "metadata": {},
   "source": [
    "### Quantificando os registros da base"
   ]
  },
  {
   "cell_type": "code",
   "execution_count": 5,
   "metadata": {},
   "outputs": [
    {
     "data": {
      "text/plain": [
       "203715"
      ]
     },
     "execution_count": 5,
     "metadata": {},
     "output_type": "execute_result"
    }
   ],
   "source": [
    "df.count()"
   ]
  },
  {
   "cell_type": "markdown",
   "metadata": {},
   "source": [
    "### Quantificando municipios distintos"
   ]
  },
  {
   "cell_type": "code",
   "execution_count": 44,
   "metadata": {},
   "outputs": [
    {
     "data": {
      "text/plain": [
       "418"
      ]
     },
     "execution_count": 44,
     "metadata": {},
     "output_type": "execute_result"
    }
   ],
   "source": [
    "df.select('CODMUNRES').distinct().count()"
   ]
  },
  {
   "cell_type": "markdown",
   "metadata": {},
   "source": [
    "### Retornando sexo e data de nascimento dos nascidos"
   ]
  },
  {
   "cell_type": "code",
   "execution_count": 45,
   "metadata": {},
   "outputs": [
    {
     "name": "stdout",
     "output_type": "stream",
     "text": [
      "+----+--------+\n",
      "|SEXO|  DTNASC|\n",
      "+----+--------+\n",
      "|   1|24012017|\n",
      "|   1|27032017|\n",
      "|   1|29052017|\n",
      "|   1|19012017|\n",
      "|   2|23012017|\n",
      "|   1|02032017|\n",
      "|   2|27032017|\n",
      "|   1|11062017|\n",
      "|   2|23022017|\n",
      "|   1|24012017|\n",
      "|   2|07022017|\n",
      "|   2|27032017|\n",
      "|   1|28032017|\n",
      "|   2|29032017|\n",
      "|   2|19052017|\n",
      "|   1|23032017|\n",
      "|   1|02012017|\n",
      "|   1|23012017|\n",
      "|   1|08012017|\n",
      "|   2|25042017|\n",
      "+----+--------+\n",
      "only showing top 20 rows\n",
      "\n"
     ]
    }
   ],
   "source": [
    "df.select('SEXO', 'DTNASC').show()"
   ]
  },
  {
   "cell_type": "markdown",
   "metadata": {},
   "source": [
    "### Retornando sexo e data de nascimento da 3 crianças mais velhas da base"
   ]
  },
  {
   "cell_type": "code",
   "execution_count": 46,
   "metadata": {},
   "outputs": [
    {
     "data": {
      "text/plain": [
       "[Row(SEXO=u'2', DTNASC=u'01012017'),\n",
       " Row(SEXO=u'2', DTNASC=u'01012017'),\n",
       " Row(SEXO=u'2', DTNASC=u'01012017')]"
      ]
     },
     "execution_count": 46,
     "metadata": {},
     "output_type": "execute_result"
    }
   ],
   "source": [
    "df.select('SEXO', 'DTNASC').orderBy('DTNASC').take(3)"
   ]
  },
  {
   "cell_type": "code",
   "execution_count": 47,
   "metadata": {},
   "outputs": [
    {
     "name": "stdout",
     "output_type": "stream",
     "text": [
      "+----+--------+\n",
      "|SEXO|  DTNASC|\n",
      "+----+--------+\n",
      "|   2|01012017|\n",
      "|   1|01012017|\n",
      "|   1|01012017|\n",
      "+----+--------+\n",
      "only showing top 3 rows\n",
      "\n"
     ]
    }
   ],
   "source": [
    "df.select('SEXO', 'DTNASC').orderBy('DTNASC').show(3)"
   ]
  },
  {
   "cell_type": "markdown",
   "metadata": {},
   "source": [
    "### Retornando so o primeiro registo entre as crianças mais velhas"
   ]
  },
  {
   "cell_type": "code",
   "execution_count": 48,
   "metadata": {},
   "outputs": [
    {
     "data": {
      "text/plain": [
       "Row(SEXO=u'2', DTNASC=u'01012017')"
      ]
     },
     "execution_count": 48,
     "metadata": {},
     "output_type": "execute_result"
    }
   ],
   "source": [
    "df.select('SEXO', 'DTNASC').orderBy('DTNASC').first()"
   ]
  },
  {
   "cell_type": "markdown",
   "metadata": {},
   "source": [
    "### Contar os nascimentos que ocorreram em 01 de 01 de 2017"
   ]
  },
  {
   "cell_type": "code",
   "execution_count": 49,
   "metadata": {},
   "outputs": [
    {
     "data": {
      "text/plain": [
       "374"
      ]
     },
     "execution_count": 49,
     "metadata": {},
     "output_type": "execute_result"
    }
   ],
   "source": [
    "df.filter(F.col('DTNASC') == '01012017').count()"
   ]
  },
  {
   "cell_type": "markdown",
   "metadata": {},
   "source": [
    "### Retornando os nascimentos que ocorreram em Julho"
   ]
  },
  {
   "cell_type": "code",
   "execution_count": 50,
   "metadata": {},
   "outputs": [
    {
     "name": "stdout",
     "output_type": "stream",
     "text": [
      "+--------+----------------------------------------------------------+\n",
      "|  DTNASC|CASE WHEN (substring(DTNASC, 2, 4) = 07) THEN 1 ELSE 0 END|\n",
      "+--------+----------------------------------------------------------+\n",
      "|24012017|                                                         0|\n",
      "|27032017|                                                         0|\n",
      "|29052017|                                                         0|\n",
      "|19012017|                                                         0|\n",
      "|23012017|                                                         0|\n",
      "|02032017|                                                         0|\n",
      "|27032017|                                                         0|\n",
      "|11062017|                                                         0|\n",
      "|23022017|                                                         0|\n",
      "|24012017|                                                         0|\n",
      "|07022017|                                                         0|\n",
      "|27032017|                                                         0|\n",
      "|28032017|                                                         0|\n",
      "|29032017|                                                         0|\n",
      "|19052017|                                                         0|\n",
      "|23032017|                                                         0|\n",
      "|02012017|                                                         0|\n",
      "|23012017|                                                         0|\n",
      "|08012017|                                                         0|\n",
      "|25042017|                                                         0|\n",
      "+--------+----------------------------------------------------------+\n",
      "only showing top 20 rows\n",
      "\n"
     ]
    }
   ],
   "source": [
    "df.select('DTNASC', F.when(F.substring(F.col('DTNASC'), 2,4) == '07', 1).otherwise(0)).show()"
   ]
  },
  {
   "cell_type": "markdown",
   "metadata": {},
   "source": [
    "### Criando coluna com o mês de nascimento "
   ]
  },
  {
   "cell_type": "code",
   "execution_count": 51,
   "metadata": {},
   "outputs": [],
   "source": [
    "df = df.withColumn('MESNASC', F.substring(F.col('DTNASC'), 3,2))"
   ]
  },
  {
   "cell_type": "markdown",
   "metadata": {},
   "source": [
    "### Criando coluna através de alias"
   ]
  },
  {
   "cell_type": "code",
   "execution_count": 52,
   "metadata": {},
   "outputs": [
    {
     "name": "stdout",
     "output_type": "stream",
     "text": [
      "+---+--------+\n",
      "|mes|  DTNASC|\n",
      "+---+--------+\n",
      "| 01|24012017|\n",
      "| 03|27032017|\n",
      "| 05|29052017|\n",
      "| 01|19012017|\n",
      "| 01|23012017|\n",
      "| 03|02032017|\n",
      "| 03|27032017|\n",
      "| 06|11062017|\n",
      "| 02|23022017|\n",
      "| 01|24012017|\n",
      "| 02|07022017|\n",
      "| 03|27032017|\n",
      "| 03|28032017|\n",
      "| 03|29032017|\n",
      "| 05|19052017|\n",
      "| 03|23032017|\n",
      "| 01|02012017|\n",
      "| 01|23012017|\n",
      "| 01|08012017|\n",
      "| 04|25042017|\n",
      "+---+--------+\n",
      "only showing top 20 rows\n",
      "\n"
     ]
    }
   ],
   "source": [
    "df.select(F.substring(F.col('DTNASC'), 3, 2).alias('mes'), 'DTNASC').show()"
   ]
  },
  {
   "cell_type": "markdown",
   "metadata": {},
   "source": [
    "### Criando e usando minha primeira UDF\n",
    "#### Note que User Defined Functions precisam ser registradas para funcionar. \n",
    "#### UDFs podem ser usadas em transformações \"withColum\" ou \"select\""
   ]
  },
  {
   "cell_type": "code",
   "execution_count": 53,
   "metadata": {},
   "outputs": [],
   "source": [
    "def mesnasc(col):\n",
    "    return col[2:4]\n",
    "udf_mesnasc = F.udf(mesnasc, StringType())"
   ]
  },
  {
   "cell_type": "code",
   "execution_count": 54,
   "metadata": {},
   "outputs": [],
   "source": [
    "df = df.withColumn('MESNASC_2', udf_mesnasc(F.col('DTNASC')))"
   ]
  },
  {
   "cell_type": "code",
   "execution_count": 55,
   "metadata": {},
   "outputs": [
    {
     "name": "stdout",
     "output_type": "stream",
     "text": [
      "root\n",
      " |-- _c0: string (nullable = true)\n",
      " |-- NUMERODN: string (nullable = true)\n",
      " |-- CODINST: string (nullable = true)\n",
      " |-- ORIGEM: string (nullable = true)\n",
      " |-- NUMERODV: string (nullable = true)\n",
      " |-- PREFIXODN: string (nullable = true)\n",
      " |-- CODESTAB: string (nullable = true)\n",
      " |-- CODMUNNASC: string (nullable = true)\n",
      " |-- LOCNASC: string (nullable = true)\n",
      " |-- IDADEMAE: string (nullable = true)\n",
      " |-- ESTCIVMAE: string (nullable = true)\n",
      " |-- ESCMAE: string (nullable = true)\n",
      " |-- CODOCUPMAE: string (nullable = true)\n",
      " |-- QTDFILVIVO: string (nullable = true)\n",
      " |-- QTDFILMORT: string (nullable = true)\n",
      " |-- CODMUNRES: string (nullable = true)\n",
      " |-- GESTACAO: string (nullable = true)\n",
      " |-- GRAVIDEZ: string (nullable = true)\n",
      " |-- PARTO: string (nullable = true)\n",
      " |-- CONSULTAS: string (nullable = true)\n",
      " |-- DTNASC: string (nullable = true)\n",
      " |-- HORANASC: string (nullable = true)\n",
      " |-- SEXO: string (nullable = true)\n",
      " |-- APGAR1: string (nullable = true)\n",
      " |-- APGAR5: string (nullable = true)\n",
      " |-- RACACOR: string (nullable = true)\n",
      " |-- PESO: string (nullable = true)\n",
      " |-- IDANOMAL: string (nullable = true)\n",
      " |-- DTCADASTRO: string (nullable = true)\n",
      " |-- CODANOMAL: string (nullable = true)\n",
      " |-- NUMEROLOTE: string (nullable = true)\n",
      " |-- VERSAOSIST: string (nullable = true)\n",
      " |-- DTRECEBIM: string (nullable = true)\n",
      " |-- DIFDATA: string (nullable = true)\n",
      " |-- DTRECORIGA: string (nullable = true)\n",
      " |-- NATURALMAE: string (nullable = true)\n",
      " |-- CODMUNNATU: string (nullable = true)\n",
      " |-- CODUFNATU: string (nullable = true)\n",
      " |-- ESCMAE2010: string (nullable = true)\n",
      " |-- SERIESCMAE: string (nullable = true)\n",
      " |-- DTNASCMAE: string (nullable = true)\n",
      " |-- RACACORMAE: string (nullable = true)\n",
      " |-- QTDGESTANT: string (nullable = true)\n",
      " |-- QTDPARTNOR: string (nullable = true)\n",
      " |-- QTDPARTCES: string (nullable = true)\n",
      " |-- IDADEPAI: string (nullable = true)\n",
      " |-- DTULTMENST: string (nullable = true)\n",
      " |-- SEMAGESTAC: string (nullable = true)\n",
      " |-- TPMETESTIM: string (nullable = true)\n",
      " |-- CONSPRENAT: string (nullable = true)\n",
      " |-- MESPRENAT: string (nullable = true)\n",
      " |-- TPAPRESENT: string (nullable = true)\n",
      " |-- STTRABPART: string (nullable = true)\n",
      " |-- STCESPARTO: string (nullable = true)\n",
      " |-- TPNASCASSI: string (nullable = true)\n",
      " |-- TPFUNCRESP: string (nullable = true)\n",
      " |-- TPDOCRESP: string (nullable = true)\n",
      " |-- DTDECLARAC: string (nullable = true)\n",
      " |-- ESCMAEAGR1: string (nullable = true)\n",
      " |-- STDNEPIDEM: string (nullable = true)\n",
      " |-- STDNNOVA: string (nullable = true)\n",
      " |-- CODPAISRES: string (nullable = true)\n",
      " |-- TPROBSON: string (nullable = true)\n",
      " |-- PARIDADE: string (nullable = true)\n",
      " |-- KOTELCHUCK: string (nullable = true)\n",
      " |-- MESNASC: string (nullable = true)\n",
      " |-- MESNASC_2: string (nullable = true)\n",
      "\n"
     ]
    }
   ],
   "source": [
    "df.printSchema()"
   ]
  },
  {
   "cell_type": "code",
   "execution_count": 56,
   "metadata": {},
   "outputs": [
    {
     "data": {
      "text/html": [
       "<div>\n",
       "<style scoped>\n",
       "    .dataframe tbody tr th:only-of-type {\n",
       "        vertical-align: middle;\n",
       "    }\n",
       "\n",
       "    .dataframe tbody tr th {\n",
       "        vertical-align: top;\n",
       "    }\n",
       "\n",
       "    .dataframe thead th {\n",
       "        text-align: right;\n",
       "    }\n",
       "</style>\n",
       "<table border=\"1\" class=\"dataframe\">\n",
       "  <thead>\n",
       "    <tr style=\"text-align: right;\">\n",
       "      <th></th>\n",
       "      <th>MESNASC</th>\n",
       "      <th>MESNASC_2</th>\n",
       "    </tr>\n",
       "  </thead>\n",
       "  <tbody>\n",
       "    <tr>\n",
       "      <th>0</th>\n",
       "      <td>01</td>\n",
       "      <td>01</td>\n",
       "    </tr>\n",
       "    <tr>\n",
       "      <th>1</th>\n",
       "      <td>03</td>\n",
       "      <td>03</td>\n",
       "    </tr>\n",
       "    <tr>\n",
       "      <th>2</th>\n",
       "      <td>05</td>\n",
       "      <td>05</td>\n",
       "    </tr>\n",
       "    <tr>\n",
       "      <th>3</th>\n",
       "      <td>01</td>\n",
       "      <td>01</td>\n",
       "    </tr>\n",
       "    <tr>\n",
       "      <th>4</th>\n",
       "      <td>01</td>\n",
       "      <td>01</td>\n",
       "    </tr>\n",
       "    <tr>\n",
       "      <th>5</th>\n",
       "      <td>03</td>\n",
       "      <td>03</td>\n",
       "    </tr>\n",
       "    <tr>\n",
       "      <th>6</th>\n",
       "      <td>03</td>\n",
       "      <td>03</td>\n",
       "    </tr>\n",
       "    <tr>\n",
       "      <th>7</th>\n",
       "      <td>06</td>\n",
       "      <td>06</td>\n",
       "    </tr>\n",
       "    <tr>\n",
       "      <th>8</th>\n",
       "      <td>02</td>\n",
       "      <td>02</td>\n",
       "    </tr>\n",
       "    <tr>\n",
       "      <th>9</th>\n",
       "      <td>01</td>\n",
       "      <td>01</td>\n",
       "    </tr>\n",
       "  </tbody>\n",
       "</table>\n",
       "</div>"
      ],
      "text/plain": [
       "  MESNASC MESNASC_2\n",
       "0      01        01\n",
       "1      03        03\n",
       "2      05        05\n",
       "3      01        01\n",
       "4      01        01\n",
       "5      03        03\n",
       "6      03        03\n",
       "7      06        06\n",
       "8      02        02\n",
       "9      01        01"
      ]
     },
     "execution_count": 56,
     "metadata": {},
     "output_type": "execute_result"
    }
   ],
   "source": [
    "df.select('MESNASC', 'MESNASC_2').limit(10).toPandas()"
   ]
  },
  {
   "cell_type": "markdown",
   "metadata": {},
   "source": [
    "### Agrupando os dados em função do mês de nascimento"
   ]
  },
  {
   "cell_type": "code",
   "execution_count": 57,
   "metadata": {},
   "outputs": [
    {
     "name": "stdout",
     "output_type": "stream",
     "text": [
      "+-------+-----+\n",
      "|MESNASC|count|\n",
      "+-------+-----+\n",
      "|     01|15924|\n",
      "|     02|15787|\n",
      "|     03|18435|\n",
      "|     04|17821|\n",
      "|     05|18952|\n",
      "|     06|18041|\n",
      "|     07|17118|\n",
      "|     08|16643|\n",
      "|     09|15984|\n",
      "|     10|16423|\n",
      "|     11|16337|\n",
      "|     12|16250|\n",
      "+-------+-----+\n",
      "\n"
     ]
    }
   ],
   "source": [
    "df.groupBy('MESNASC').count().orderBy('MESNASC').show()"
   ]
  },
  {
   "cell_type": "markdown",
   "metadata": {},
   "source": [
    "### Usando o agrupamento para conhecer a proporção de nascidos por mês"
   ]
  },
  {
   "cell_type": "code",
   "execution_count": 58,
   "metadata": {},
   "outputs": [
    {
     "name": "stdout",
     "output_type": "stream",
     "text": [
      "+-------+-----+-----------------+\n",
      "|MESNASC|count|                %|\n",
      "+-------+-----+-----------------+\n",
      "|     01|15924|7.816802886385392|\n",
      "|     02|15787|7.749552070294284|\n",
      "|     03|18435|9.049407260142846|\n",
      "|     04|17821|8.748005792406058|\n",
      "|     05|18952|9.303193186559655|\n",
      "|     06|18041|8.855999803647252|\n",
      "|     07|17118|8.402915838303512|\n",
      "|     08|16643|8.169746950396387|\n",
      "|     09|15984|7.846255798542081|\n",
      "|     10|16423|8.061752939155193|\n",
      "|     11|16337| 8.01953709839727|\n",
      "|     12|16250|7.976830375770071|\n",
      "+-------+-----+-----------------+\n",
      "\n"
     ]
    }
   ],
   "source": [
    "tot = df.count()\n",
    "df.groupBy('MESNASC').count().orderBy('MESNASC').withColumn('%', F.col('count')/tot*100).show()"
   ]
  },
  {
   "cell_type": "markdown",
   "metadata": {},
   "source": [
    "### Buscando ou contando registros cujo valor do atributo inicia, termina ou está entre... "
   ]
  },
  {
   "cell_type": "code",
   "execution_count": 59,
   "metadata": {},
   "outputs": [
    {
     "data": {
      "text/plain": [
       "203715"
      ]
     },
     "execution_count": 59,
     "metadata": {},
     "output_type": "execute_result"
    }
   ],
   "source": [
    "df.filter(F.col('CODMUNRES').startswith(\"29\")).count()"
   ]
  },
  {
   "cell_type": "code",
   "execution_count": 60,
   "metadata": {},
   "outputs": [
    {
     "name": "stdout",
     "output_type": "stream",
     "text": [
      "+---------+\n",
      "|CODMUNRES|\n",
      "+---------+\n",
      "|   291110|\n",
      "|   291110|\n",
      "|   291955|\n",
      "|   291955|\n",
      "|   291955|\n",
      "|   290000|\n",
      "|   291955|\n",
      "|   290000|\n",
      "|   292440|\n",
      "|   292840|\n",
      "|   291110|\n",
      "|   291110|\n",
      "|   292840|\n",
      "|   291110|\n",
      "|   292840|\n",
      "|   291110|\n",
      "|   290590|\n",
      "|   290590|\n",
      "|   292440|\n",
      "|   291840|\n",
      "+---------+\n",
      "only showing top 20 rows\n",
      "\n"
     ]
    }
   ],
   "source": [
    "df.filter(F.col('CODMUNRES').startswith(\"29\")).select('CODMUNRES').show()"
   ]
  },
  {
   "cell_type": "code",
   "execution_count": 61,
   "metadata": {},
   "outputs": [
    {
     "data": {
      "text/plain": [
       "35366"
      ]
     },
     "execution_count": 61,
     "metadata": {},
     "output_type": "execute_result"
    }
   ],
   "source": [
    "df.filter(F.col('CODMUNRES').endswith(\"2740\")).count()"
   ]
  },
  {
   "cell_type": "code",
   "execution_count": 62,
   "metadata": {},
   "outputs": [
    {
     "name": "stdout",
     "output_type": "stream",
     "text": [
      "+---------+\n",
      "|CODMUNRES|\n",
      "+---------+\n",
      "|   292740|\n",
      "|   292740|\n",
      "|   292740|\n",
      "|   292740|\n",
      "|   292740|\n",
      "|   292740|\n",
      "|   292740|\n",
      "|   292740|\n",
      "|   292740|\n",
      "|   292740|\n",
      "|   292740|\n",
      "|   292740|\n",
      "|   292740|\n",
      "|   292740|\n",
      "|   292740|\n",
      "|   292740|\n",
      "|   292740|\n",
      "|   292740|\n",
      "|   292740|\n",
      "|   292740|\n",
      "+---------+\n",
      "only showing top 20 rows\n",
      "\n"
     ]
    }
   ],
   "source": [
    "df.filter(F.col('CODMUNRES').endswith(\"2740\")).select('CODMUNRES').show()"
   ]
  },
  {
   "cell_type": "code",
   "execution_count": 63,
   "metadata": {},
   "outputs": [
    {
     "data": {
      "text/plain": [
       "203645"
      ]
     },
     "execution_count": 63,
     "metadata": {},
     "output_type": "execute_result"
    }
   ],
   "source": [
    "df.filter(F.col('PESO').between('0110', '6710' )).count()"
   ]
  },
  {
   "cell_type": "markdown",
   "metadata": {},
   "source": [
    "### Descrevendo uma variável"
   ]
  },
  {
   "cell_type": "code",
   "execution_count": 64,
   "metadata": {},
   "outputs": [
    {
     "name": "stdout",
     "output_type": "stream",
     "text": [
      "+-------+------------------+\n",
      "|summary|              PESO|\n",
      "+-------+------------------+\n",
      "|  count|            203715|\n",
      "|   mean|3198.3266173979227|\n",
      "| stddev| 575.2462242684788|\n",
      "|    min|              0110|\n",
      "|    max|                NA|\n",
      "+-------+------------------+\n",
      "\n"
     ]
    }
   ],
   "source": [
    "df.describe('PESO').show()"
   ]
  },
  {
   "cell_type": "markdown",
   "metadata": {},
   "source": [
    "### Contando valores \"NA\" "
   ]
  },
  {
   "cell_type": "code",
   "execution_count": 65,
   "metadata": {},
   "outputs": [
    {
     "data": {
      "text/plain": [
       "70"
      ]
     },
     "execution_count": 65,
     "metadata": {},
     "output_type": "execute_result"
    }
   ],
   "source": [
    "df.filter(F.col('PESO')=='NA').count()"
   ]
  },
  {
   "cell_type": "markdown",
   "metadata": {},
   "source": [
    "### Contando valores Nulos"
   ]
  },
  {
   "cell_type": "code",
   "execution_count": 66,
   "metadata": {},
   "outputs": [
    {
     "data": {
      "text/plain": [
       "0"
      ]
     },
     "execution_count": 66,
     "metadata": {},
     "output_type": "execute_result"
    }
   ],
   "source": [
    "df.filter(F.col('PESO').isNull()).count()"
   ]
  },
  {
   "cell_type": "markdown",
   "metadata": {},
   "source": [
    "### Buscando valores \"NA\" em \"PESO\" e criando uma coluna nova para guardar os resultados\n",
    "#### As demais linhas são para validar os resultados"
   ]
  },
  {
   "cell_type": "code",
   "execution_count": 67,
   "metadata": {},
   "outputs": [],
   "source": [
    "df = df.withColumn('NOVO_PESO', F.when(F.col('PESO') == 'NA', None).otherwise(F.col('PESO')))"
   ]
  },
  {
   "cell_type": "code",
   "execution_count": 68,
   "metadata": {},
   "outputs": [
    {
     "name": "stdout",
     "output_type": "stream",
     "text": [
      "+----+---------+\n",
      "|PESO|NOVO_PESO|\n",
      "+----+---------+\n",
      "|  NA|     null|\n",
      "|  NA|     null|\n",
      "|  NA|     null|\n",
      "|  NA|     null|\n",
      "|  NA|     null|\n",
      "|  NA|     null|\n",
      "|  NA|     null|\n",
      "|  NA|     null|\n",
      "|  NA|     null|\n",
      "|  NA|     null|\n",
      "|  NA|     null|\n",
      "|  NA|     null|\n",
      "|  NA|     null|\n",
      "|  NA|     null|\n",
      "|  NA|     null|\n",
      "|  NA|     null|\n",
      "|  NA|     null|\n",
      "|  NA|     null|\n",
      "|  NA|     null|\n",
      "|  NA|     null|\n",
      "+----+---------+\n",
      "only showing top 20 rows\n",
      "\n"
     ]
    }
   ],
   "source": [
    "df.filter(F.col('PESO')=='NA').select('PESO', 'NOVO_PESO').show()"
   ]
  },
  {
   "cell_type": "code",
   "execution_count": 69,
   "metadata": {},
   "outputs": [
    {
     "name": "stdout",
     "output_type": "stream",
     "text": [
      "+----+---------+\n",
      "|PESO|NOVO_PESO|\n",
      "+----+---------+\n",
      "|3150|     3150|\n",
      "|3300|     3300|\n",
      "|3330|     3330|\n",
      "|3610|     3610|\n",
      "|3770|     3770|\n",
      "|3140|     3140|\n",
      "|2775|     2775|\n",
      "|2490|     2490|\n",
      "|3450|     3450|\n",
      "|3270|     3270|\n",
      "|3000|     3000|\n",
      "|3200|     3200|\n",
      "|3250|     3250|\n",
      "|3600|     3600|\n",
      "|3650|     3650|\n",
      "|3190|     3190|\n",
      "|2820|     2820|\n",
      "|1900|     1900|\n",
      "|3800|     3800|\n",
      "|3130|     3130|\n",
      "+----+---------+\n",
      "only showing top 20 rows\n",
      "\n"
     ]
    }
   ],
   "source": [
    "df.filter(F.col('PESO')!='NA').select('PESO', 'NOVO_PESO').show()"
   ]
  },
  {
   "cell_type": "markdown",
   "metadata": {},
   "source": [
    "### Renomeando Coluna"
   ]
  },
  {
   "cell_type": "code",
   "execution_count": 70,
   "metadata": {},
   "outputs": [],
   "source": [
    "df = df.withColumnRenamed('NOVO_PESO', 'PESO_PP') #PESO PRE PROCESSADO"
   ]
  },
  {
   "cell_type": "markdown",
   "metadata": {},
   "source": [
    "### Descrevendo coluna nova "
   ]
  },
  {
   "cell_type": "code",
   "execution_count": 71,
   "metadata": {},
   "outputs": [
    {
     "name": "stdout",
     "output_type": "stream",
     "text": [
      "+-------+------------------+\n",
      "|summary|           PESO_PP|\n",
      "+-------+------------------+\n",
      "|  count|            203645|\n",
      "|   mean|3198.3266173979227|\n",
      "| stddev| 575.2462242684788|\n",
      "|    min|              0110|\n",
      "|    max|              6710|\n",
      "+-------+------------------+\n",
      "\n"
     ]
    }
   ],
   "source": [
    "df.describe('PESO_PP').show()"
   ]
  },
  {
   "cell_type": "markdown",
   "metadata": {},
   "source": [
    "# PARTE 2: ROTEIRO PARA LINKAGE"
   ]
  },
  {
   "cell_type": "markdown",
   "metadata": {},
   "source": [
    "### Lendo e visualizando as bases"
   ]
  },
  {
   "cell_type": "code",
   "execution_count": 84,
   "metadata": {},
   "outputs": [],
   "source": [
    "datasetA = spark.read.csv('dataset_a_v3.csv', header=True, sep=';')\n",
    "datasetB = spark.read.csv('dataset_b_v3.csv', header=True, sep=';')"
   ]
  },
  {
   "cell_type": "code",
   "execution_count": 85,
   "metadata": {},
   "outputs": [
    {
     "name": "stdout",
     "output_type": "stream",
     "text": [
      "100\n",
      "20\n",
      "+-----+--------------------+---------+------+--------------------+--------+---------------+\n",
      "|cod_a|              nome_a|     dn_a|sexo_a|               mae_a|cidade_a|primeiro_nome_a|\n",
      "+-----+--------------------+---------+------+--------------------+--------+---------------+\n",
      "|    1|EDSON GOMES    DO...|1-01-2007|     1|WEDILAINE VIEIRA ...|  280030|          EDSON|\n",
      "|    2|ALESSANDRA KAUANÈ...|1-02-2008|     2|VITORIA LUCIA AMO...|  280740|     ALESSANDRA|\n",
      "|    3|DAVI GONÇALVES DA...|1-04-2007|     1| VILMA GOMES MOREIRA|  280030|           DAVI|\n",
      "|    4|ALISON DE JESUS T...|1-05-2007|     2|VERA LUCIA FRANCI...|  280030|         ALISON|\n",
      "|    5|DANNYEL COSTA DE ...|1-12-2006|     1|VANILDA TRINDADE ...|  280030|        DANNYEL|\n",
      "+-----+--------------------+---------+------+--------------------+--------+---------------+\n",
      "\n",
      "+-----+--------------------+----------+------+--------------------+--------+---------------+\n",
      "|cod_b|              nome_b|      dn_b|sexo_b|               mae_b|cidade_b|primeiro_nome_b|\n",
      "+-----+--------------------+----------+------+--------------------+--------+---------------+\n",
      "|    1| EDU PEREIRA TAVACHO|09/13/2007|     1|SIMONE ANTONIA RO...|  280030|            EDU|\n",
      "|    2|JOSE IGOR SANTANA...|05/17/2007|     1|NICOLINA FATIMA M...|  280030|           JOSE|\n",
      "|    3|JOSE ITALO SANTAN...|09/17/2006|     1|NADJA MARINHO DOS...|  280030|           JOSE|\n",
      "|    4|CARLOS ALEXANDRE ...|02/18/2008|     1|MIRIAN BARBOSA DE...|  280030|         CARLOS|\n",
      "|    5|LEON WAGNER DE AR...|11/18/2007|     1|MILLENE SARA ROCH...|  280030|           LEON|\n",
      "+-----+--------------------+----------+------+--------------------+--------+---------------+\n",
      "\n"
     ]
    }
   ],
   "source": [
    "print datasetA.count()\n",
    "print datasetB.count()\n",
    "datasetA.limit(5).show()\n",
    "datasetB.limit(5).show()"
   ]
  },
  {
   "cell_type": "markdown",
   "metadata": {},
   "source": [
    "### Criando colunas com codigos foneticos"
   ]
  },
  {
   "cell_type": "code",
   "execution_count": 86,
   "metadata": {},
   "outputs": [],
   "source": [
    "import jellyfish"
   ]
  },
  {
   "cell_type": "code",
   "execution_count": 87,
   "metadata": {},
   "outputs": [],
   "source": [
    "def criaMetaphone(col):\n",
    "    return jellyfish.metaphone(col)\n",
    "udf_criaMetaphone = F.udf(criaMetaphone, StringType())"
   ]
  },
  {
   "cell_type": "code",
   "execution_count": 89,
   "metadata": {},
   "outputs": [
    {
     "name": "stdout",
     "output_type": "stream",
     "text": [
      "+-----+--------------------+---------+------+--------------------+--------+---------------+--------------------+----------------+\n",
      "|cod_a|              nome_a|     dn_a|sexo_a|               mae_a|cidade_a|primeiro_nome_a|     phonetic_nome_a|  phonetic_mae_a|\n",
      "+-----+--------------------+---------+------+--------------------+--------+---------------+--------------------+----------------+\n",
      "|    1|EDSON GOMES    DO...|1-01-2007|     1|WEDILAINE VIEIRA ...|  280030|          EDSON|    ETSN KMS TS SNTS|     WTLN FR BSR|\n",
      "|    2|ALESSANDRA KAUANÈ...|1-02-2008|     2|VITORIA LUCIA AMO...|  280740|     ALESSANDRA|ALSNTR KN SS TS SNTS|FTR LX AMRM T SS|\n",
      "|    3|DAVI GONÇALVES DA...|1-04-2007|     1| VILMA GOMES MOREIRA|  280030|           DAVI|     TF KNKLFS T  RX|     FLM KMS MRR|\n",
      "+-----+--------------------+---------+------+--------------------+--------+---------------+--------------------+----------------+\n",
      "\n",
      "+-----+--------------------+----------+------+--------------------+--------+---------------+-------------------+----------------+\n",
      "|cod_b|              nome_b|      dn_b|sexo_b|               mae_b|cidade_b|primeiro_nome_b|    phonetic_nome_b|  phonetic_mae_b|\n",
      "+-----+--------------------+----------+------+--------------------+--------+---------------+-------------------+----------------+\n",
      "|    1| EDU PEREIRA TAVACHO|09/13/2007|     1|SIMONE ANTONIA RO...|  280030|            EDU|         ET PRR TFX|  SMN ANTN RTRKS|\n",
      "|    2|JOSE IGOR SANTANA...|05/17/2007|     1|NICOLINA FATIMA M...|  280030|           JOSE|JS IKR SNTN TS SNTS|    NKLN FTM MXT|\n",
      "|    3|JOSE ITALO SANTAN...|09/17/2006|     1|NADJA MARINHO DOS...|  280030|           JOSE|   JS ITL SNTN SNTS|NTJ MRNH TS SNTS|\n",
      "+-----+--------------------+----------+------+--------------------+--------+---------------+-------------------+----------------+\n",
      "\n"
     ]
    }
   ],
   "source": [
    "datasetA = datasetA.withColumn('phonetic_nome_a', udf_criaMetaphone(F.col('nome_a')))\n",
    "datasetA = datasetA.withColumn('phonetic_mae_a', udf_criaMetaphone(F.col('mae_a')))\n",
    "datasetB = datasetB.withColumn('phonetic_nome_b', udf_criaMetaphone(F.col('nome_b')))\n",
    "datasetB = datasetB.withColumn('phonetic_mae_b', udf_criaMetaphone(F.col('mae_b')))\n",
    "\n",
    "datasetA.limit(3).show()\n",
    "datasetB.limit(3).show()"
   ]
  },
  {
   "cell_type": "markdown",
   "metadata": {},
   "source": [
    "### Criando coluna com último nome"
   ]
  },
  {
   "cell_type": "code",
   "execution_count": 92,
   "metadata": {},
   "outputs": [],
   "source": [
    "def criaUltimoNome(col):\n",
    "    return col.split(' ')[-1]\n",
    "udf_criaUltimoNome = F.udf(criaUltimoNome, StringType())"
   ]
  },
  {
   "cell_type": "code",
   "execution_count": 93,
   "metadata": {},
   "outputs": [
    {
     "name": "stdout",
     "output_type": "stream",
     "text": [
      "+-----+--------------------+---------+------+--------------------+--------+---------------+--------------------+----------------+-------------+\n",
      "|cod_a|              nome_a|     dn_a|sexo_a|               mae_a|cidade_a|primeiro_nome_a|     phonetic_nome_a|  phonetic_mae_a|ultimo_nome_a|\n",
      "+-----+--------------------+---------+------+--------------------+--------+---------------+--------------------+----------------+-------------+\n",
      "|    1|EDSON GOMES    DO...|1-01-2007|     1|WEDILAINE VIEIRA ...|  280030|          EDSON|    ETSN KMS TS SNTS|     WTLN FR BSR|       SANTOS|\n",
      "|    2|ALESSANDRA KAUANÈ...|1-02-2008|     2|VITORIA LUCIA AMO...|  280740|     ALESSANDRA|ALSNTR KN SS TS SNTS|FTR LX AMRM T SS|       SANTOS|\n",
      "|    3|DAVI GONÇALVES DA...|1-04-2007|     1| VILMA GOMES MOREIRA|  280030|           DAVI|     TF KNKLFS T  RX|     FLM KMS MRR|        ROCHA|\n",
      "+-----+--------------------+---------+------+--------------------+--------+---------------+--------------------+----------------+-------------+\n",
      "\n",
      "+-----+--------------------+----------+------+--------------------+--------+---------------+-------------------+----------------+-------------+\n",
      "|cod_b|              nome_b|      dn_b|sexo_b|               mae_b|cidade_b|primeiro_nome_b|    phonetic_nome_b|  phonetic_mae_b|ultimo_nome_b|\n",
      "+-----+--------------------+----------+------+--------------------+--------+---------------+-------------------+----------------+-------------+\n",
      "|    1| EDU PEREIRA TAVACHO|09/13/2007|     1|SIMONE ANTONIA RO...|  280030|            EDU|         ET PRR TFX|  SMN ANTN RTRKS|      TAVACHO|\n",
      "|    2|JOSE IGOR SANTANA...|05/17/2007|     1|NICOLINA FATIMA M...|  280030|           JOSE|JS IKR SNTN TS SNTS|    NKLN FTM MXT|       SANTOS|\n",
      "|    3|JOSE ITALO SANTAN...|09/17/2006|     1|NADJA MARINHO DOS...|  280030|           JOSE|   JS ITL SNTN SNTS|NTJ MRNH TS SNTS|       SANTOS|\n",
      "+-----+--------------------+----------+------+--------------------+--------+---------------+-------------------+----------------+-------------+\n",
      "\n"
     ]
    }
   ],
   "source": [
    "datasetA = datasetA.withColumn('ultimo_nome_a', udf_criaUltimoNome(F.col('nome_a')))\n",
    "datasetB = datasetB.withColumn('ultimo_nome_b', udf_criaUltimoNome(F.col('nome_b')))\n",
    "\n",
    "datasetA.limit(3).show()\n",
    "datasetB.limit(3).show()"
   ]
  },
  {
   "cell_type": "markdown",
   "metadata": {},
   "source": [
    "### Separando atributos para linkage"
   ]
  },
  {
   "cell_type": "code",
   "execution_count": 94,
   "metadata": {},
   "outputs": [],
   "source": [
    "datasetA = datasetA.select(['cod_a', 'dn_a', \n",
    "                            'sexo_a', 'cidade_a', \n",
    "                            'primeiro_nome_a', 'ultimo_nome_a', \n",
    "                            'phonetic_nome_a', 'phonetic_mae_a'])\n",
    "\n",
    "datasetB = datasetB.select(['cod_b', 'dn_b', \n",
    "                            'sexo_b', 'cidade_b', \n",
    "                            'primeiro_nome_b', 'ultimo_nome_b', \n",
    "                            'phonetic_nome_b', 'phonetic_mae_b']) "
   ]
  },
  {
   "cell_type": "markdown",
   "metadata": {},
   "source": [
    "### Criando dataset de comparação"
   ]
  },
  {
   "cell_type": "code",
   "execution_count": 96,
   "metadata": {},
   "outputs": [],
   "source": [
    "dataset_linkage = datasetA.crossJoin(datasetB)"
   ]
  },
  {
   "cell_type": "code",
   "execution_count": 97,
   "metadata": {},
   "outputs": [
    {
     "name": "stdout",
     "output_type": "stream",
     "text": [
      "+-----+---------+------+--------+---------------+-------------+----------------+--------------+-----+----------+------+--------+---------------+-------------+--------------------+------------------+\n",
      "|cod_a|     dn_a|sexo_a|cidade_a|primeiro_nome_a|ultimo_nome_a| phonetic_nome_a|phonetic_mae_a|cod_b|      dn_b|sexo_b|cidade_b|primeiro_nome_b|ultimo_nome_b|     phonetic_nome_b|    phonetic_mae_b|\n",
      "+-----+---------+------+--------+---------------+-------------+----------------+--------------+-----+----------+------+--------+---------------+-------------+--------------------+------------------+\n",
      "|    1|1-01-2007|     1|  280030|          EDSON|       SANTOS|ETSN KMS TS SNTS|   WTLN FR BSR|    1|09/13/2007|     1|  280030|            EDU|      TAVACHO|          ET PRR TFX|    SMN ANTN RTRKS|\n",
      "|    1|1-01-2007|     1|  280030|          EDSON|       SANTOS|ETSN KMS TS SNTS|   WTLN FR BSR|    2|05/17/2007|     1|  280030|           JOSE|       SANTOS| JS IKR SNTN TS SNTS|      NKLN FTM MXT|\n",
      "|    1|1-01-2007|     1|  280030|          EDSON|       SANTOS|ETSN KMS TS SNTS|   WTLN FR BSR|    3|09/17/2006|     1|  280030|           JOSE|       SANTOS|    JS ITL SNTN SNTS|  NTJ MRNH TS SNTS|\n",
      "|    1|1-01-2007|     1|  280030|          EDSON|       SANTOS|ETSN KMS TS SNTS|   WTLN FR BSR|    4|02/18/2008|     1|  280030|         CARLOS|    RODRIGUES|KRLS ALKSNTR S RTRKS|    MRN BRBS T ARJ|\n",
      "|    1|1-01-2007|     1|  280030|          EDSON|       SANTOS|ETSN KMS TS SNTS|   WTLN FR BSR|    5|11/18/2007|     1|  280030|           LEON|        TELES|    LN WNR T ARJ TLS|MLN SR RX TS RS MT|\n",
      "+-----+---------+------+--------+---------------+-------------+----------------+--------------+-----+----------+------+--------+---------------+-------------+--------------------+------------------+\n",
      "\n"
     ]
    }
   ],
   "source": [
    "dataset_linkage.count()\n",
    "dataset_linkage.limit(5).show()"
   ]
  },
  {
   "cell_type": "markdown",
   "metadata": {},
   "source": [
    "### Criando função de comparação"
   ]
  },
  {
   "cell_type": "code",
   "execution_count": 109,
   "metadata": {},
   "outputs": [],
   "source": [
    "def compare(cod_a, dn_a, sexo_a, cidade_a, primeiro_nome_a, ultimo_nome_a, phonetic_nome_a, phonetic_mae_a,\n",
    "           cod_b, dn_b, sexo_b, cidade_b, primeiro_nome_b, ultimo_nome_b, phonetic_nome_b, phonetic_mae_b):\n",
    "    sim = 0\n",
    "    \n",
    "    # Comparando atributos nominais\n",
    "    sim_nominais = jellyfish.jaro_winkler(unicode(primeiro_nome_a), unicode(primeiro_nome_b))\n",
    "    sim_nominais += jellyfish.jaro_winkler(unicode(ultimo_nome_a), unicode(ultimo_nome_b))\n",
    "    sim_nominais += jellyfish.jaro_winkler(unicode(phonetic_nome_a), unicode(phonetic_nome_b))\n",
    "    sim_nominais += jellyfish.jaro_winkler(unicode(phonetic_mae_a), unicode(phonetic_mae_b))\n",
    "    \n",
    "    # Comparando categorias\n",
    "    # Note que Hamming é uma distancia, então para saber a similiarade, precisamos\n",
    "    # encontrar o complemento da medida. \n",
    "    sim_cat = 1 - (jellyfish.hamming_distance(unicode(sexo_a), unicode(sexo_b)))\n",
    "    sim_cat += 1 - (jellyfish.hamming_distance(unicode(dn_a), unicode(sexo_b)))\n",
    "    sim_cat += 1 - (jellyfish.hamming_distance(unicode(cidade_a), unicode(cidade_b)))\n",
    "    \n",
    "    # Media aritmetica simples\n",
    "    sim = str(abs(float(sim_nominais + sim_cat)/7))\n",
    "    \n",
    "    return sim\n",
    "udf_compare = F.udf(compare, StringType())"
   ]
  },
  {
   "cell_type": "markdown",
   "metadata": {},
   "source": [
    "### Rodando comparação"
   ]
  },
  {
   "cell_type": "code",
   "execution_count": 110,
   "metadata": {},
   "outputs": [],
   "source": [
    "result_linkage = dataset_linkage.withColumn('similaridade', udf_compare(F.col('cod_a'), F.col('dn_a'), F.col('sexo_a'), F.col('cidade_a'), F.col('primeiro_nome_a'), F.col('ultimo_nome_a'), F.col('phonetic_nome_a'), F.col('phonetic_mae_a'),\n",
    "                                                                       F.col('cod_b'), F.col('dn_b'), F.col('sexo_b'), F.col('cidade_b'), F.col('primeiro_nome_b'), F.col('ultimo_nome_b'), F.col('phonetic_nome_b'), F.col('phonetic_mae_b')))"
   ]
  },
  {
   "cell_type": "code",
   "execution_count": 111,
   "metadata": {},
   "outputs": [
    {
     "name": "stdout",
     "output_type": "stream",
     "text": [
      "+-----+-----+--------------+\n",
      "|cod_a|cod_b|  similaridade|\n",
      "+-----+-----+--------------+\n",
      "|    1|    1|0.371142547928|\n",
      "|    1|    2|0.313484739988|\n",
      "|    1|    3|0.311724386724|\n",
      "|    1|    4|0.404577234934|\n",
      "|    1|    5|0.378786160929|\n",
      "|    1|    6|0.971446608947|\n",
      "|    1|    7|0.431389311746|\n",
      "|    1|    8| 0.34897443826|\n",
      "|    1|    9|0.739332096475|\n",
      "|    1|   10|0.575290582433|\n",
      "|    1|   11|0.664727709266|\n",
      "|    1|   12|0.697595856524|\n",
      "|    1|   13|0.436555403661|\n",
      "|    1|   14|0.846889221889|\n",
      "|    1|   15|0.712662337662|\n",
      "|    1|   16| 0.34705988456|\n",
      "|    1|   17|0.487968975469|\n",
      "|    1|   18|0.688083718336|\n",
      "|    1|   19|0.407490128919|\n",
      "|    1|   20|0.713810726311|\n",
      "+-----+-----+--------------+\n",
      "only showing top 20 rows\n",
      "\n"
     ]
    }
   ],
   "source": [
    "result_linkage.select(['cod_a', 'cod_b', 'similaridade']).show()"
   ]
  },
  {
   "cell_type": "markdown",
   "metadata": {},
   "source": [
    "## DESAFIOS"
   ]
  },
  {
   "cell_type": "markdown",
   "metadata": {},
   "source": [
    "##### Desafio 1: Deduplique a base de linkage para encontrar os melhores resultados para cada registro do datasetB\n",
    "##### Desafio 2: Separe a data em três colunas diferentes (dia, mês e ano) e reimplemente a função 'compare' para que a distancia de hamming participe do calculo da similaridade\n",
    "##### Desafio 3: Quais os atributos mais importantes a serem comparados? Ao invés de uma média aritmética simples, implemente uma média aritmética ponderada dando pesos diferentes para cada atributos.\n",
    "##### Desafio 4: Explore novas similaridades. Faça uso de diferentes medidas para identidficar as que melhor se encaixam nesse par de datasets. ##### Desafio 5: Leia um pouco sobre penalidades, um decréscimo que se dá à similaridade quando um valor nulo participa da comparação. \n",
    "##### Desafio 6: Leia um pouco sobre avaliação de acurácia e faça uma planilha tabulando os resultados de sensibilidade, especificidade e precisão para todos os seus experimentos. \n",
    "##### Desafio 7: Tem como melhorar essa implementação? Tente otimizar essa implementação usando os conceitos discutidos em sala. "
   ]
  },
  {
   "cell_type": "code",
   "execution_count": null,
   "metadata": {},
   "outputs": [],
   "source": []
  }
 ],
 "metadata": {
  "kernelspec": {
   "display_name": "Python 2",
   "language": "python",
   "name": "python2"
  },
  "language_info": {
   "codemirror_mode": {
    "name": "ipython",
    "version": 2
   },
   "file_extension": ".py",
   "mimetype": "text/x-python",
   "name": "python",
   "nbconvert_exporter": "python",
   "pygments_lexer": "ipython2",
   "version": "2.7.16"
  }
 },
 "nbformat": 4,
 "nbformat_minor": 2
}
