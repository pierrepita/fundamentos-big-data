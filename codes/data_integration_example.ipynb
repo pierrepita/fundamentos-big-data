{
 "cells": [
  {
   "cell_type": "markdown",
   "metadata": {},
   "source": [
    "### Chamada de bibliotecas"
   ]
  },
  {
   "cell_type": "code",
   "execution_count": 39,
   "metadata": {},
   "outputs": [],
   "source": [
    "from pyspark.sql import SparkSession\n",
    "import pyspark.sql.functions as F\n",
    "from pyspark.sql.types import StringType\n",
    "from pyspark.sql.types import IntegerType\n",
    "from pyspark.sql.types import DoubleType\n",
    "import pandas as pd"
   ]
  },
  {
   "cell_type": "markdown",
   "metadata": {},
   "source": [
    "# ROTEIRO PARA LINKAGE"
   ]
  },
  {
   "cell_type": "markdown",
   "metadata": {},
   "source": [
    "### Lendo e visualizando as bases"
   ]
  },
  {
   "cell_type": "code",
   "execution_count": 2,
   "metadata": {},
   "outputs": [],
   "source": [
    "datasetA = spark.read.csv('dataset_a_v3.csv', header=True, sep=';')\n",
    "datasetB = spark.read.csv('dataset_b_v3.csv', header=True, sep=';')"
   ]
  },
  {
   "cell_type": "code",
   "execution_count": 5,
   "metadata": {},
   "outputs": [
    {
     "name": "stdout",
     "output_type": "stream",
     "text": [
      "100\n",
      "20\n",
      "+-----+--------------------+---------+------+--------------------+--------+---------------+\n",
      "|cod_a|              nome_a|     dn_a|sexo_a|               mae_a|cidade_a|primeiro_nome_a|\n",
      "+-----+--------------------+---------+------+--------------------+--------+---------------+\n",
      "|    1|EDSON GOMES    DO...|1-01-2007|     1|WEDILAINE VIEIRA ...|  280030|          EDSON|\n",
      "|    2|ALESSANDRA KAUANÈ...|1-02-2008|     2|VITORIA LUCIA AMO...|  280740|     ALESSANDRA|\n",
      "|    3|DAVI GONÇALVES DA...|1-04-2007|     1| VILMA GOMES MOREIRA|  280030|           DAVI|\n",
      "|    4|ALISON DE JESUS T...|1-05-2007|     2|VERA LUCIA FRANCI...|  280030|         ALISON|\n",
      "|    5|DANNYEL COSTA DE ...|1-12-2006|     1|VANILDA TRINDADE ...|  280030|        DANNYEL|\n",
      "+-----+--------------------+---------+------+--------------------+--------+---------------+\n",
      "\n",
      "+-----+--------------------+----------+------+--------------------+--------+---------------+\n",
      "|cod_b|              nome_b|      dn_b|sexo_b|               mae_b|cidade_b|primeiro_nome_b|\n",
      "+-----+--------------------+----------+------+--------------------+--------+---------------+\n",
      "|    1| EDU PEREIRA TAVACHO|09/13/2007|     1|SIMONE ANTONIA RO...|  280030|            EDU|\n",
      "|    2|JOSE IGOR SANTANA...|05/17/2007|     1|NICOLINA FATIMA M...|  280030|           JOSE|\n",
      "|    3|JOSE ITALO SANTAN...|09/17/2006|     1|NADJA MARINHO DOS...|  280030|           JOSE|\n",
      "|    4|CARLOS ALEXANDRE ...|02/18/2008|     1|MIRIAN BARBOSA DE...|  280030|         CARLOS|\n",
      "|    5|LEON WAGNER DE AR...|11/18/2007|     1|MILLENE SARA ROCH...|  280030|           LEON|\n",
      "+-----+--------------------+----------+------+--------------------+--------+---------------+\n",
      "\n"
     ]
    }
   ],
   "source": [
    "print(datasetA.count())\n",
    "print(datasetB.count())\n",
    "datasetA.limit(5).show()\n",
    "datasetB.limit(5).show()"
   ]
  },
  {
   "cell_type": "markdown",
   "metadata": {},
   "source": [
    "### Criando colunas com codigos foneticos"
   ]
  },
  {
   "cell_type": "code",
   "execution_count": 8,
   "metadata": {},
   "outputs": [
    {
     "name": "stdout",
     "output_type": "stream",
     "text": [
      "Collecting jellyfish\n",
      "  Downloading jellyfish-0.8.2-cp38-cp38-manylinux2014_x86_64.whl (94 kB)\n",
      "\u001b[K     |████████████████████████████████| 94 kB 398 kB/s eta 0:00:011\n",
      "\u001b[?25hInstalling collected packages: jellyfish\n",
      "Successfully installed jellyfish-0.8.2\n"
     ]
    }
   ],
   "source": [
    "!pip install jellyfish"
   ]
  },
  {
   "cell_type": "code",
   "execution_count": 9,
   "metadata": {},
   "outputs": [],
   "source": [
    "import jellyfish"
   ]
  },
  {
   "cell_type": "code",
   "execution_count": 10,
   "metadata": {},
   "outputs": [],
   "source": [
    "def criaMetaphone(col):\n",
    "    return jellyfish.metaphone(col)\n",
    "udf_criaMetaphone = F.udf(criaMetaphone, StringType())"
   ]
  },
  {
   "cell_type": "code",
   "execution_count": 11,
   "metadata": {},
   "outputs": [
    {
     "name": "stdout",
     "output_type": "stream",
     "text": [
      "+-----+--------------------+---------+------+--------------------+--------+---------------+--------------------+----------------+\n",
      "|cod_a|              nome_a|     dn_a|sexo_a|               mae_a|cidade_a|primeiro_nome_a|     phonetic_nome_a|  phonetic_mae_a|\n",
      "+-----+--------------------+---------+------+--------------------+--------+---------------+--------------------+----------------+\n",
      "|    1|EDSON GOMES    DO...|1-01-2007|     1|WEDILAINE VIEIRA ...|  280030|          EDSON|    ETSN KMS TS SNTS|     WTLN FR BSR|\n",
      "|    2|ALESSANDRA KAUANÈ...|1-02-2008|     2|VITORIA LUCIA AMO...|  280740|     ALESSANDRA|ALSNTR KN SS TS SNTS|FTR LX AMRM T SS|\n",
      "|    3|DAVI GONÇALVES DA...|1-04-2007|     1| VILMA GOMES MOREIRA|  280030|           DAVI|     TF KNKLFS T  RX|     FLM KMS MRR|\n",
      "+-----+--------------------+---------+------+--------------------+--------+---------------+--------------------+----------------+\n",
      "\n",
      "+-----+--------------------+----------+------+--------------------+--------+---------------+-------------------+----------------+\n",
      "|cod_b|              nome_b|      dn_b|sexo_b|               mae_b|cidade_b|primeiro_nome_b|    phonetic_nome_b|  phonetic_mae_b|\n",
      "+-----+--------------------+----------+------+--------------------+--------+---------------+-------------------+----------------+\n",
      "|    1| EDU PEREIRA TAVACHO|09/13/2007|     1|SIMONE ANTONIA RO...|  280030|            EDU|         ET PRR TFX|  SMN ANTN RTRKS|\n",
      "|    2|JOSE IGOR SANTANA...|05/17/2007|     1|NICOLINA FATIMA M...|  280030|           JOSE|JS IKR SNTN TS SNTS|    NKLN FTM MXT|\n",
      "|    3|JOSE ITALO SANTAN...|09/17/2006|     1|NADJA MARINHO DOS...|  280030|           JOSE|   JS ITL SNTN SNTS|NTJ MRNH TS SNTS|\n",
      "+-----+--------------------+----------+------+--------------------+--------+---------------+-------------------+----------------+\n",
      "\n"
     ]
    }
   ],
   "source": [
    "datasetA = datasetA.withColumn('phonetic_nome_a', udf_criaMetaphone(F.col('nome_a')))\n",
    "datasetA = datasetA.withColumn('phonetic_mae_a', udf_criaMetaphone(F.col('mae_a')))\n",
    "datasetB = datasetB.withColumn('phonetic_nome_b', udf_criaMetaphone(F.col('nome_b')))\n",
    "datasetB = datasetB.withColumn('phonetic_mae_b', udf_criaMetaphone(F.col('mae_b')))\n",
    "\n",
    "datasetA.limit(3).show()\n",
    "datasetB.limit(3).show()"
   ]
  },
  {
   "cell_type": "markdown",
   "metadata": {},
   "source": [
    "### Criando coluna com último nome"
   ]
  },
  {
   "cell_type": "code",
   "execution_count": 12,
   "metadata": {},
   "outputs": [],
   "source": [
    "def criaUltimoNome(col):\n",
    "    return col.split(' ')[-1]\n",
    "udf_criaUltimoNome = F.udf(criaUltimoNome, StringType())"
   ]
  },
  {
   "cell_type": "code",
   "execution_count": 13,
   "metadata": {},
   "outputs": [
    {
     "name": "stdout",
     "output_type": "stream",
     "text": [
      "+-----+--------------------+---------+------+--------------------+--------+---------------+--------------------+----------------+-------------+\n",
      "|cod_a|              nome_a|     dn_a|sexo_a|               mae_a|cidade_a|primeiro_nome_a|     phonetic_nome_a|  phonetic_mae_a|ultimo_nome_a|\n",
      "+-----+--------------------+---------+------+--------------------+--------+---------------+--------------------+----------------+-------------+\n",
      "|    1|EDSON GOMES    DO...|1-01-2007|     1|WEDILAINE VIEIRA ...|  280030|          EDSON|    ETSN KMS TS SNTS|     WTLN FR BSR|       SANTOS|\n",
      "|    2|ALESSANDRA KAUANÈ...|1-02-2008|     2|VITORIA LUCIA AMO...|  280740|     ALESSANDRA|ALSNTR KN SS TS SNTS|FTR LX AMRM T SS|       SANTOS|\n",
      "|    3|DAVI GONÇALVES DA...|1-04-2007|     1| VILMA GOMES MOREIRA|  280030|           DAVI|     TF KNKLFS T  RX|     FLM KMS MRR|        ROCHA|\n",
      "+-----+--------------------+---------+------+--------------------+--------+---------------+--------------------+----------------+-------------+\n",
      "\n",
      "+-----+--------------------+----------+------+--------------------+--------+---------------+-------------------+----------------+-------------+\n",
      "|cod_b|              nome_b|      dn_b|sexo_b|               mae_b|cidade_b|primeiro_nome_b|    phonetic_nome_b|  phonetic_mae_b|ultimo_nome_b|\n",
      "+-----+--------------------+----------+------+--------------------+--------+---------------+-------------------+----------------+-------------+\n",
      "|    1| EDU PEREIRA TAVACHO|09/13/2007|     1|SIMONE ANTONIA RO...|  280030|            EDU|         ET PRR TFX|  SMN ANTN RTRKS|      TAVACHO|\n",
      "|    2|JOSE IGOR SANTANA...|05/17/2007|     1|NICOLINA FATIMA M...|  280030|           JOSE|JS IKR SNTN TS SNTS|    NKLN FTM MXT|       SANTOS|\n",
      "|    3|JOSE ITALO SANTAN...|09/17/2006|     1|NADJA MARINHO DOS...|  280030|           JOSE|   JS ITL SNTN SNTS|NTJ MRNH TS SNTS|       SANTOS|\n",
      "+-----+--------------------+----------+------+--------------------+--------+---------------+-------------------+----------------+-------------+\n",
      "\n"
     ]
    }
   ],
   "source": [
    "datasetA = datasetA.withColumn('ultimo_nome_a', udf_criaUltimoNome(F.col('nome_a')))\n",
    "datasetB = datasetB.withColumn('ultimo_nome_b', udf_criaUltimoNome(F.col('nome_b')))\n",
    "\n",
    "datasetA.limit(3).show()\n",
    "datasetB.limit(3).show()"
   ]
  },
  {
   "cell_type": "markdown",
   "metadata": {},
   "source": [
    "### Separando atributos para linkage"
   ]
  },
  {
   "cell_type": "code",
   "execution_count": 14,
   "metadata": {},
   "outputs": [],
   "source": [
    "datasetA = datasetA.select(['cod_a', 'dn_a', \n",
    "                            'sexo_a', 'cidade_a', \n",
    "                            'primeiro_nome_a', 'ultimo_nome_a', \n",
    "                            'phonetic_nome_a', 'phonetic_mae_a'])\n",
    "\n",
    "datasetB = datasetB.select(['cod_b', 'dn_b', \n",
    "                            'sexo_b', 'cidade_b', \n",
    "                            'primeiro_nome_b', 'ultimo_nome_b', \n",
    "                            'phonetic_nome_b', 'phonetic_mae_b']) "
   ]
  },
  {
   "cell_type": "markdown",
   "metadata": {},
   "source": [
    "### Criando dataset de comparação"
   ]
  },
  {
   "cell_type": "code",
   "execution_count": 15,
   "metadata": {},
   "outputs": [],
   "source": [
    "dataset_linkage = datasetA.crossJoin(datasetB)"
   ]
  },
  {
   "cell_type": "code",
   "execution_count": 16,
   "metadata": {},
   "outputs": [
    {
     "name": "stdout",
     "output_type": "stream",
     "text": [
      "+-----+---------+------+--------+---------------+-------------+----------------+--------------+-----+----------+------+--------+---------------+-------------+--------------------+------------------+\n",
      "|cod_a|     dn_a|sexo_a|cidade_a|primeiro_nome_a|ultimo_nome_a| phonetic_nome_a|phonetic_mae_a|cod_b|      dn_b|sexo_b|cidade_b|primeiro_nome_b|ultimo_nome_b|     phonetic_nome_b|    phonetic_mae_b|\n",
      "+-----+---------+------+--------+---------------+-------------+----------------+--------------+-----+----------+------+--------+---------------+-------------+--------------------+------------------+\n",
      "|    1|1-01-2007|     1|  280030|          EDSON|       SANTOS|ETSN KMS TS SNTS|   WTLN FR BSR|    1|09/13/2007|     1|  280030|            EDU|      TAVACHO|          ET PRR TFX|    SMN ANTN RTRKS|\n",
      "|    1|1-01-2007|     1|  280030|          EDSON|       SANTOS|ETSN KMS TS SNTS|   WTLN FR BSR|    2|05/17/2007|     1|  280030|           JOSE|       SANTOS| JS IKR SNTN TS SNTS|      NKLN FTM MXT|\n",
      "|    1|1-01-2007|     1|  280030|          EDSON|       SANTOS|ETSN KMS TS SNTS|   WTLN FR BSR|    3|09/17/2006|     1|  280030|           JOSE|       SANTOS|    JS ITL SNTN SNTS|  NTJ MRNH TS SNTS|\n",
      "|    1|1-01-2007|     1|  280030|          EDSON|       SANTOS|ETSN KMS TS SNTS|   WTLN FR BSR|    4|02/18/2008|     1|  280030|         CARLOS|    RODRIGUES|KRLS ALKSNTR S RTRKS|    MRN BRBS T ARJ|\n",
      "|    1|1-01-2007|     1|  280030|          EDSON|       SANTOS|ETSN KMS TS SNTS|   WTLN FR BSR|    5|11/18/2007|     1|  280030|           LEON|        TELES|   LN WKNR T ARJ TLS|MLN SR RX TS RS MT|\n",
      "+-----+---------+------+--------+---------------+-------------+----------------+--------------+-----+----------+------+--------+---------------+-------------+--------------------+------------------+\n",
      "\n"
     ]
    }
   ],
   "source": [
    "dataset_linkage.count()\n",
    "dataset_linkage.limit(5).show()"
   ]
  },
  {
   "cell_type": "markdown",
   "metadata": {},
   "source": [
    "### Criando função de comparação"
   ]
  },
  {
   "cell_type": "code",
   "execution_count": 20,
   "metadata": {},
   "outputs": [],
   "source": [
    "import sys\n",
    "if sys.version_info[0] >= 3:\n",
    "    unicode = str"
   ]
  },
  {
   "cell_type": "code",
   "execution_count": 53,
   "metadata": {},
   "outputs": [],
   "source": [
    "def compare(cod_a, dn_a, sexo_a, cidade_a, primeiro_nome_a, ultimo_nome_a, phonetic_nome_a, phonetic_mae_a,\n",
    "           cod_b, dn_b, sexo_b, cidade_b, primeiro_nome_b, ultimo_nome_b, phonetic_nome_b, phonetic_mae_b):\n",
    "    sim = 0\n",
    "    \n",
    "    # Comparando atributos nominais\n",
    "    sim_nominais = jellyfish.jaro_winkler(unicode(primeiro_nome_a), unicode(primeiro_nome_b))\n",
    "    sim_nominais += jellyfish.jaro_winkler(unicode(ultimo_nome_a), unicode(ultimo_nome_b))\n",
    "    sim_nominais += jellyfish.jaro_winkler(unicode(phonetic_nome_a), unicode(phonetic_nome_b))\n",
    "    sim_nominais += jellyfish.jaro_winkler(unicode(phonetic_mae_a), unicode(phonetic_mae_b))\n",
    "    \n",
    "    # Comparando categorias\n",
    "    # Note que Hamming é uma distancia, então para saber a similiarade, precisamos\n",
    "    # encontrar o complemento da medida. \n",
    "    sim_cat = 1 - (jellyfish.hamming_distance(unicode(sexo_a), unicode(sexo_b)))\n",
    "    sim_cat += 1 - (jellyfish.hamming_distance(unicode(dn_a), unicode(sexo_b)))\n",
    "    sim_cat += 1 - (jellyfish.hamming_distance(unicode(cidade_a), unicode(cidade_b)))\n",
    "    \n",
    "    # Media aritmetica simples\n",
    "    sim = str(abs(float(sim_nominais + sim_cat)/7))\n",
    "    \n",
    "    return sim\n",
    "udf_compare = F.udf(compare, StringType())"
   ]
  },
  {
   "cell_type": "markdown",
   "metadata": {},
   "source": [
    "### Rodando comparação"
   ]
  },
  {
   "cell_type": "code",
   "execution_count": 54,
   "metadata": {},
   "outputs": [],
   "source": [
    "result_linkage = dataset_linkage.withColumn('similaridade', udf_compare(F.col('cod_a'), F.col('dn_a'), F.col('sexo_a'), F.col('cidade_a'), F.col('primeiro_nome_a'), F.col('ultimo_nome_a'), F.col('phonetic_nome_a'), F.col('phonetic_mae_a'),\n",
    "                                                                       F.col('cod_b'), F.col('dn_b'), F.col('sexo_b'), F.col('cidade_b'), F.col('primeiro_nome_b'), F.col('ultimo_nome_b'), F.col('phonetic_nome_b'), F.col('phonetic_mae_b')))"
   ]
  },
  {
   "cell_type": "code",
   "execution_count": 55,
   "metadata": {},
   "outputs": [
    {
     "name": "stdout",
     "output_type": "stream",
     "text": [
      "+-----+-----+-------------------+\n",
      "|cod_a|cod_b|       similaridade|\n",
      "+-----+-----+-------------------+\n",
      "|    1|    1|0.37114254792826223|\n",
      "|    1|    2| 0.3134847399884994|\n",
      "|    1|    3| 0.3117243867243867|\n",
      "|    1|    4| 0.4045772349343778|\n",
      "|    1|    5|0.37763570074494446|\n",
      "|    1|    6|  0.971446608946609|\n",
      "|    1|    7| 0.4313893117464546|\n",
      "|    1|    8| 0.3489744382601526|\n",
      "|    1|    9| 0.7393320964749536|\n",
      "|    1|   10| 0.5752905824334397|\n",
      "|    1|   11| 0.6647277092655245|\n",
      "|    1|   12|  0.697595856524428|\n",
      "|    1|   13|0.43655540366066686|\n",
      "|    1|   14| 0.8468892218892219|\n",
      "|    1|   15| 0.7126623376623377|\n",
      "|    1|   16|0.34705988455988457|\n",
      "|    1|   17|0.48796897546897544|\n",
      "|    1|   18| 0.6880837183358192|\n",
      "|    1|   19|0.40749012891870035|\n",
      "|    1|   20| 0.7138107263107264|\n",
      "+-----+-----+-------------------+\n",
      "only showing top 20 rows\n",
      "\n"
     ]
    }
   ],
   "source": [
    "result_linkage.select(['cod_a', 'cod_b', 'similaridade']).show()"
   ]
  },
  {
   "cell_type": "code",
   "execution_count": 62,
   "metadata": {},
   "outputs": [],
   "source": [
    "datamart = result_linkage.orderBy(['similaridade'], ascending=False).dropDuplicates(['cod_b'])"
   ]
  },
  {
   "cell_type": "code",
   "execution_count": 63,
   "metadata": {},
   "outputs": [
    {
     "data": {
      "text/plain": [
       "20"
      ]
     },
     "execution_count": 63,
     "metadata": {},
     "output_type": "execute_result"
    }
   ],
   "source": [
    "datamart.count()"
   ]
  },
  {
   "cell_type": "code",
   "execution_count": 66,
   "metadata": {},
   "outputs": [
    {
     "name": "stdout",
     "output_type": "stream",
     "text": [
      "+-----+---------------+-----+---------------+------------------+\n",
      "|cod_a|primeiro_nome_a|cod_b|primeiro_nome_b|      similaridade|\n",
      "+-----+---------------+-----+---------------+------------------+\n",
      "|   78|           JOSE|    7|         FELIPE| 1.143372562700294|\n",
      "|   22|          LUCAS|   15|         JOSEFA|1.1344250778461304|\n",
      "|   52|          DAVID|   11|          LUCAS|1.2207842111203457|\n",
      "|   62|        MAYLANA|    3|           JOSE|1.2613997113997115|\n",
      "|   78|           JOSE|    8|           KAIO|1.2331665999733228|\n",
      "|   78|           JOSE|   16|         DANILO|1.1657329598506068|\n",
      "|   62|        MAYLANA|    5|           LEON|1.1391202945824794|\n",
      "|   66|         EMILLY|   18|          PLABO|1.1578609221466363|\n",
      "|   68|          EVYLI|   17|         NATHAN|1.2574726860441146|\n",
      "|   16|            EDU|    6|           JOAO|1.2056122448979594|\n",
      "|   62|        MAYLANA|   19|       JEREMIAS|1.1350102278673708|\n",
      "|   78|           JOSE|    9|          MARIA|1.2543484060290784|\n",
      "|   60|        LARYSSA|    1|            EDU| 1.210513296227582|\n",
      "|   63|         MARCOS|   20|           LUIZ|1.2584669298955014|\n",
      "|   62|        MAYLANA|   10|        JAILSON|1.1786258054115197|\n",
      "|   78|           JOSE|    4|         CARLOS|1.1902938953359121|\n",
      "|   68|          EVYLI|   12|        GUSTAVO| 1.220294784580499|\n",
      "|   78|           JOSE|   13|          LUCAS|1.1830667170561022|\n",
      "|   80|        JAILSON|   14|          MARIA| 1.210768794697366|\n",
      "|   62|        MAYLANA|    2|           JOSE| 1.269500048823357|\n",
      "+-----+---------------+-----+---------------+------------------+\n",
      "\n"
     ]
    }
   ],
   "source": [
    "datamart.select(['cod_a', 'primeiro_nome_a', 'cod_b', 'primeiro_nome_b', 'similaridade']).show()"
   ]
  },
  {
   "cell_type": "markdown",
   "metadata": {},
   "source": [
    "# CALCULADORA DE ACURÁCIA"
   ]
  },
  {
   "cell_type": "code",
   "execution_count": 72,
   "metadata": {},
   "outputs": [],
   "source": [
    "# Let us consider a cuttoff point set as 0.85\n",
    "cutoff = 0.5\n",
    "\n",
    "# sorting and deduplicating the resulting dataset\n",
    "data = datamart.withColumn('similaridade', F.col('similaridade').cast(DoubleType()))\n",
    "data = datamart.orderBy('similaridade').dropDuplicates(['cod_b'])\n",
    "data = datamart.withColumn('match', F.when(F.col('similaridade') >= cutoff, '1').otherwise('0'))"
   ]
  },
  {
   "cell_type": "code",
   "execution_count": 73,
   "metadata": {},
   "outputs": [],
   "source": [
    "def inspect_pairs(cod_a, cod_b, match):\n",
    "    if match == '1':\n",
    "        if cod_a == cod_b:\n",
    "            return \"TP\"\n",
    "        else:\n",
    "            return \"FP\"\n",
    "    else:\n",
    "        if cod_a != cod_b:\n",
    "            return \"TN\"\n",
    "        else: \n",
    "            return \"FN\"\n",
    "udf_inspect_pairs = F.udf(inspect_pairs, StringType())"
   ]
  },
  {
   "cell_type": "code",
   "execution_count": 74,
   "metadata": {},
   "outputs": [],
   "source": [
    "data = data.withColumn('perf', udf_inspect_pairs(F.col('cod_a'), F.col('cod_b'), F.col('match')))"
   ]
  },
  {
   "cell_type": "code",
   "execution_count": null,
   "metadata": {},
   "outputs": [],
   "source": [
    "dic_results = {}\n",
    "TP = data.filter(F.col('perf') == \"TP\").count()\n",
    "TN = data.filter(F.col('perf') == \"TN\").count()\n",
    "FP = data.filter(F.col('perf') == \"FP\").count()\n",
    "FN = data.filter(F.col('perf') == \"FN\").count()\n",
    "\n",
    "print(TP, TN, FP, FN)"
   ]
  },
  {
   "cell_type": "code",
   "execution_count": null,
   "metadata": {},
   "outputs": [],
   "source": [
    "dic_results['accuracy'] =  float(TP + TN) / (FP + TP + FN + TN)\n",
    "dic_results['ppv'] = float(TP) / (TP + FP)\n",
    "dic_results['npv'] = float(TN) / (TN + FN)\n",
    "dic_results['sens'] = float(TP) / (TP + FN)\n",
    "dic_results['spec'] = float(TN) / (TN + FP)"
   ]
  },
  {
   "cell_type": "code",
   "execution_count": null,
   "metadata": {},
   "outputs": [],
   "source": [
    "final_results = pd.DataFrame(dic_results, index=[0])"
   ]
  },
  {
   "cell_type": "code",
   "execution_count": null,
   "metadata": {},
   "outputs": [],
   "source": [
    "final_results"
   ]
  },
  {
   "cell_type": "code",
   "execution_count": null,
   "metadata": {},
   "outputs": [],
   "source": []
  }
 ],
 "metadata": {
  "kernelspec": {
   "display_name": "Python 3",
   "language": "python",
   "name": "python3"
  },
  "language_info": {
   "codemirror_mode": {
    "name": "ipython",
    "version": 3
   },
   "file_extension": ".py",
   "mimetype": "text/x-python",
   "name": "python",
   "nbconvert_exporter": "python",
   "pygments_lexer": "ipython3",
   "version": "3.8.5"
  }
 },
 "nbformat": 4,
 "nbformat_minor": 4
}
