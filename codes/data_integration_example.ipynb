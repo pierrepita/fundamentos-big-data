{
 "cells": [
  {
   "cell_type": "markdown",
   "metadata": {},
   "source": [
    "### Chamada de bibliotecas"
   ]
  },
  {
   "cell_type": "code",
   "execution_count": 1,
   "metadata": {},
   "outputs": [],
   "source": [
    "from pyspark.sql import SparkSession\n",
    "import pyspark.sql.functions as F\n",
    "from pyspark.sql.types import StringType\n",
    "from pyspark.sql.types import IntegerType"
   ]
  },
  {
   "cell_type": "markdown",
   "metadata": {},
   "source": [
    "# ROTEIRO PARA LINKAGE"
   ]
  },
  {
   "cell_type": "markdown",
   "metadata": {},
   "source": [
    "### Lendo e visualizando as bases"
   ]
  },
  {
   "cell_type": "code",
   "execution_count": 84,
   "metadata": {},
   "outputs": [],
   "source": [
    "datasetA = spark.read.csv('dataset_a_v3.csv', header=True, sep=';')\n",
    "datasetB = spark.read.csv('dataset_b_v3.csv', header=True, sep=';')"
   ]
  },
  {
   "cell_type": "code",
   "execution_count": 85,
   "metadata": {},
   "outputs": [
    {
     "name": "stdout",
     "output_type": "stream",
     "text": [
      "100\n",
      "20\n",
      "+-----+--------------------+---------+------+--------------------+--------+---------------+\n",
      "|cod_a|              nome_a|     dn_a|sexo_a|               mae_a|cidade_a|primeiro_nome_a|\n",
      "+-----+--------------------+---------+------+--------------------+--------+---------------+\n",
      "|    1|EDSON GOMES    DO...|1-01-2007|     1|WEDILAINE VIEIRA ...|  280030|          EDSON|\n",
      "|    2|ALESSANDRA KAUANÈ...|1-02-2008|     2|VITORIA LUCIA AMO...|  280740|     ALESSANDRA|\n",
      "|    3|DAVI GONÇALVES DA...|1-04-2007|     1| VILMA GOMES MOREIRA|  280030|           DAVI|\n",
      "|    4|ALISON DE JESUS T...|1-05-2007|     2|VERA LUCIA FRANCI...|  280030|         ALISON|\n",
      "|    5|DANNYEL COSTA DE ...|1-12-2006|     1|VANILDA TRINDADE ...|  280030|        DANNYEL|\n",
      "+-----+--------------------+---------+------+--------------------+--------+---------------+\n",
      "\n",
      "+-----+--------------------+----------+------+--------------------+--------+---------------+\n",
      "|cod_b|              nome_b|      dn_b|sexo_b|               mae_b|cidade_b|primeiro_nome_b|\n",
      "+-----+--------------------+----------+------+--------------------+--------+---------------+\n",
      "|    1| EDU PEREIRA TAVACHO|09/13/2007|     1|SIMONE ANTONIA RO...|  280030|            EDU|\n",
      "|    2|JOSE IGOR SANTANA...|05/17/2007|     1|NICOLINA FATIMA M...|  280030|           JOSE|\n",
      "|    3|JOSE ITALO SANTAN...|09/17/2006|     1|NADJA MARINHO DOS...|  280030|           JOSE|\n",
      "|    4|CARLOS ALEXANDRE ...|02/18/2008|     1|MIRIAN BARBOSA DE...|  280030|         CARLOS|\n",
      "|    5|LEON WAGNER DE AR...|11/18/2007|     1|MILLENE SARA ROCH...|  280030|           LEON|\n",
      "+-----+--------------------+----------+------+--------------------+--------+---------------+\n",
      "\n"
     ]
    }
   ],
   "source": [
    "print datasetA.count()\n",
    "print datasetB.count()\n",
    "datasetA.limit(5).show()\n",
    "datasetB.limit(5).show()"
   ]
  },
  {
   "cell_type": "markdown",
   "metadata": {},
   "source": [
    "### Criando colunas com codigos foneticos"
   ]
  },
  {
   "cell_type": "code",
   "execution_count": 86,
   "metadata": {},
   "outputs": [],
   "source": [
    "import jellyfish"
   ]
  },
  {
   "cell_type": "code",
   "execution_count": 87,
   "metadata": {},
   "outputs": [],
   "source": [
    "def criaMetaphone(col):\n",
    "    return jellyfish.metaphone(col)\n",
    "udf_criaMetaphone = F.udf(criaMetaphone, StringType())"
   ]
  },
  {
   "cell_type": "code",
   "execution_count": 89,
   "metadata": {},
   "outputs": [
    {
     "name": "stdout",
     "output_type": "stream",
     "text": [
      "+-----+--------------------+---------+------+--------------------+--------+---------------+--------------------+----------------+\n",
      "|cod_a|              nome_a|     dn_a|sexo_a|               mae_a|cidade_a|primeiro_nome_a|     phonetic_nome_a|  phonetic_mae_a|\n",
      "+-----+--------------------+---------+------+--------------------+--------+---------------+--------------------+----------------+\n",
      "|    1|EDSON GOMES    DO...|1-01-2007|     1|WEDILAINE VIEIRA ...|  280030|          EDSON|    ETSN KMS TS SNTS|     WTLN FR BSR|\n",
      "|    2|ALESSANDRA KAUANÈ...|1-02-2008|     2|VITORIA LUCIA AMO...|  280740|     ALESSANDRA|ALSNTR KN SS TS SNTS|FTR LX AMRM T SS|\n",
      "|    3|DAVI GONÇALVES DA...|1-04-2007|     1| VILMA GOMES MOREIRA|  280030|           DAVI|     TF KNKLFS T  RX|     FLM KMS MRR|\n",
      "+-----+--------------------+---------+------+--------------------+--------+---------------+--------------------+----------------+\n",
      "\n",
      "+-----+--------------------+----------+------+--------------------+--------+---------------+-------------------+----------------+\n",
      "|cod_b|              nome_b|      dn_b|sexo_b|               mae_b|cidade_b|primeiro_nome_b|    phonetic_nome_b|  phonetic_mae_b|\n",
      "+-----+--------------------+----------+------+--------------------+--------+---------------+-------------------+----------------+\n",
      "|    1| EDU PEREIRA TAVACHO|09/13/2007|     1|SIMONE ANTONIA RO...|  280030|            EDU|         ET PRR TFX|  SMN ANTN RTRKS|\n",
      "|    2|JOSE IGOR SANTANA...|05/17/2007|     1|NICOLINA FATIMA M...|  280030|           JOSE|JS IKR SNTN TS SNTS|    NKLN FTM MXT|\n",
      "|    3|JOSE ITALO SANTAN...|09/17/2006|     1|NADJA MARINHO DOS...|  280030|           JOSE|   JS ITL SNTN SNTS|NTJ MRNH TS SNTS|\n",
      "+-----+--------------------+----------+------+--------------------+--------+---------------+-------------------+----------------+\n",
      "\n"
     ]
    }
   ],
   "source": [
    "datasetA = datasetA.withColumn('phonetic_nome_a', udf_criaMetaphone(F.col('nome_a')))\n",
    "datasetA = datasetA.withColumn('phonetic_mae_a', udf_criaMetaphone(F.col('mae_a')))\n",
    "datasetB = datasetB.withColumn('phonetic_nome_b', udf_criaMetaphone(F.col('nome_b')))\n",
    "datasetB = datasetB.withColumn('phonetic_mae_b', udf_criaMetaphone(F.col('mae_b')))\n",
    "\n",
    "datasetA.limit(3).show()\n",
    "datasetB.limit(3).show()"
   ]
  },
  {
   "cell_type": "markdown",
   "metadata": {},
   "source": [
    "### Criando coluna com último nome"
   ]
  },
  {
   "cell_type": "code",
   "execution_count": 92,
   "metadata": {},
   "outputs": [],
   "source": [
    "def criaUltimoNome(col):\n",
    "    return col.split(' ')[-1]\n",
    "udf_criaUltimoNome = F.udf(criaUltimoNome, StringType())"
   ]
  },
  {
   "cell_type": "code",
   "execution_count": 93,
   "metadata": {},
   "outputs": [
    {
     "name": "stdout",
     "output_type": "stream",
     "text": [
      "+-----+--------------------+---------+------+--------------------+--------+---------------+--------------------+----------------+-------------+\n",
      "|cod_a|              nome_a|     dn_a|sexo_a|               mae_a|cidade_a|primeiro_nome_a|     phonetic_nome_a|  phonetic_mae_a|ultimo_nome_a|\n",
      "+-----+--------------------+---------+------+--------------------+--------+---------------+--------------------+----------------+-------------+\n",
      "|    1|EDSON GOMES    DO...|1-01-2007|     1|WEDILAINE VIEIRA ...|  280030|          EDSON|    ETSN KMS TS SNTS|     WTLN FR BSR|       SANTOS|\n",
      "|    2|ALESSANDRA KAUANÈ...|1-02-2008|     2|VITORIA LUCIA AMO...|  280740|     ALESSANDRA|ALSNTR KN SS TS SNTS|FTR LX AMRM T SS|       SANTOS|\n",
      "|    3|DAVI GONÇALVES DA...|1-04-2007|     1| VILMA GOMES MOREIRA|  280030|           DAVI|     TF KNKLFS T  RX|     FLM KMS MRR|        ROCHA|\n",
      "+-----+--------------------+---------+------+--------------------+--------+---------------+--------------------+----------------+-------------+\n",
      "\n",
      "+-----+--------------------+----------+------+--------------------+--------+---------------+-------------------+----------------+-------------+\n",
      "|cod_b|              nome_b|      dn_b|sexo_b|               mae_b|cidade_b|primeiro_nome_b|    phonetic_nome_b|  phonetic_mae_b|ultimo_nome_b|\n",
      "+-----+--------------------+----------+------+--------------------+--------+---------------+-------------------+----------------+-------------+\n",
      "|    1| EDU PEREIRA TAVACHO|09/13/2007|     1|SIMONE ANTONIA RO...|  280030|            EDU|         ET PRR TFX|  SMN ANTN RTRKS|      TAVACHO|\n",
      "|    2|JOSE IGOR SANTANA...|05/17/2007|     1|NICOLINA FATIMA M...|  280030|           JOSE|JS IKR SNTN TS SNTS|    NKLN FTM MXT|       SANTOS|\n",
      "|    3|JOSE ITALO SANTAN...|09/17/2006|     1|NADJA MARINHO DOS...|  280030|           JOSE|   JS ITL SNTN SNTS|NTJ MRNH TS SNTS|       SANTOS|\n",
      "+-----+--------------------+----------+------+--------------------+--------+---------------+-------------------+----------------+-------------+\n",
      "\n"
     ]
    }
   ],
   "source": [
    "datasetA = datasetA.withColumn('ultimo_nome_a', udf_criaUltimoNome(F.col('nome_a')))\n",
    "datasetB = datasetB.withColumn('ultimo_nome_b', udf_criaUltimoNome(F.col('nome_b')))\n",
    "\n",
    "datasetA.limit(3).show()\n",
    "datasetB.limit(3).show()"
   ]
  },
  {
   "cell_type": "markdown",
   "metadata": {},
   "source": [
    "### Separando atributos para linkage"
   ]
  },
  {
   "cell_type": "code",
   "execution_count": 94,
   "metadata": {},
   "outputs": [],
   "source": [
    "datasetA = datasetA.select(['cod_a', 'dn_a', \n",
    "                            'sexo_a', 'cidade_a', \n",
    "                            'primeiro_nome_a', 'ultimo_nome_a', \n",
    "                            'phonetic_nome_a', 'phonetic_mae_a'])\n",
    "\n",
    "datasetB = datasetB.select(['cod_b', 'dn_b', \n",
    "                            'sexo_b', 'cidade_b', \n",
    "                            'primeiro_nome_b', 'ultimo_nome_b', \n",
    "                            'phonetic_nome_b', 'phonetic_mae_b']) "
   ]
  },
  {
   "cell_type": "markdown",
   "metadata": {},
   "source": [
    "### Criando dataset de comparação"
   ]
  },
  {
   "cell_type": "code",
   "execution_count": 96,
   "metadata": {},
   "outputs": [],
   "source": [
    "dataset_linkage = datasetA.crossJoin(datasetB)"
   ]
  },
  {
   "cell_type": "code",
   "execution_count": 97,
   "metadata": {},
   "outputs": [
    {
     "name": "stdout",
     "output_type": "stream",
     "text": [
      "+-----+---------+------+--------+---------------+-------------+----------------+--------------+-----+----------+------+--------+---------------+-------------+--------------------+------------------+\n",
      "|cod_a|     dn_a|sexo_a|cidade_a|primeiro_nome_a|ultimo_nome_a| phonetic_nome_a|phonetic_mae_a|cod_b|      dn_b|sexo_b|cidade_b|primeiro_nome_b|ultimo_nome_b|     phonetic_nome_b|    phonetic_mae_b|\n",
      "+-----+---------+------+--------+---------------+-------------+----------------+--------------+-----+----------+------+--------+---------------+-------------+--------------------+------------------+\n",
      "|    1|1-01-2007|     1|  280030|          EDSON|       SANTOS|ETSN KMS TS SNTS|   WTLN FR BSR|    1|09/13/2007|     1|  280030|            EDU|      TAVACHO|          ET PRR TFX|    SMN ANTN RTRKS|\n",
      "|    1|1-01-2007|     1|  280030|          EDSON|       SANTOS|ETSN KMS TS SNTS|   WTLN FR BSR|    2|05/17/2007|     1|  280030|           JOSE|       SANTOS| JS IKR SNTN TS SNTS|      NKLN FTM MXT|\n",
      "|    1|1-01-2007|     1|  280030|          EDSON|       SANTOS|ETSN KMS TS SNTS|   WTLN FR BSR|    3|09/17/2006|     1|  280030|           JOSE|       SANTOS|    JS ITL SNTN SNTS|  NTJ MRNH TS SNTS|\n",
      "|    1|1-01-2007|     1|  280030|          EDSON|       SANTOS|ETSN KMS TS SNTS|   WTLN FR BSR|    4|02/18/2008|     1|  280030|         CARLOS|    RODRIGUES|KRLS ALKSNTR S RTRKS|    MRN BRBS T ARJ|\n",
      "|    1|1-01-2007|     1|  280030|          EDSON|       SANTOS|ETSN KMS TS SNTS|   WTLN FR BSR|    5|11/18/2007|     1|  280030|           LEON|        TELES|    LN WNR T ARJ TLS|MLN SR RX TS RS MT|\n",
      "+-----+---------+------+--------+---------------+-------------+----------------+--------------+-----+----------+------+--------+---------------+-------------+--------------------+------------------+\n",
      "\n"
     ]
    }
   ],
   "source": [
    "dataset_linkage.count()\n",
    "dataset_linkage.limit(5).show()"
   ]
  },
  {
   "cell_type": "markdown",
   "metadata": {},
   "source": [
    "### Criando função de comparação"
   ]
  },
  {
   "cell_type": "code",
   "execution_count": 109,
   "metadata": {},
   "outputs": [],
   "source": [
    "def compare(cod_a, dn_a, sexo_a, cidade_a, primeiro_nome_a, ultimo_nome_a, phonetic_nome_a, phonetic_mae_a,\n",
    "           cod_b, dn_b, sexo_b, cidade_b, primeiro_nome_b, ultimo_nome_b, phonetic_nome_b, phonetic_mae_b):\n",
    "    sim = 0\n",
    "    \n",
    "    # Comparando atributos nominais\n",
    "    sim_nominais = jellyfish.jaro_winkler(unicode(primeiro_nome_a), unicode(primeiro_nome_b))\n",
    "    sim_nominais += jellyfish.jaro_winkler(unicode(ultimo_nome_a), unicode(ultimo_nome_b))\n",
    "    sim_nominais += jellyfish.jaro_winkler(unicode(phonetic_nome_a), unicode(phonetic_nome_b))\n",
    "    sim_nominais += jellyfish.jaro_winkler(unicode(phonetic_mae_a), unicode(phonetic_mae_b))\n",
    "    \n",
    "    # Comparando categorias\n",
    "    # Note que Hamming é uma distancia, então para saber a similiarade, precisamos\n",
    "    # encontrar o complemento da medida. \n",
    "    sim_cat = 1 - (jellyfish.hamming_distance(unicode(sexo_a), unicode(sexo_b)))\n",
    "    sim_cat += 1 - (jellyfish.hamming_distance(unicode(dn_a), unicode(sexo_b)))\n",
    "    sim_cat += 1 - (jellyfish.hamming_distance(unicode(cidade_a), unicode(cidade_b)))\n",
    "    \n",
    "    # Media aritmetica simples\n",
    "    sim = str(abs(float(sim_nominais + sim_cat)/7))\n",
    "    \n",
    "    return sim\n",
    "udf_compare = F.udf(compare, StringType())"
   ]
  },
  {
   "cell_type": "markdown",
   "metadata": {},
   "source": [
    "### Rodando comparação"
   ]
  },
  {
   "cell_type": "code",
   "execution_count": 110,
   "metadata": {},
   "outputs": [],
   "source": [
    "result_linkage = dataset_linkage.withColumn('similaridade', udf_compare(F.col('cod_a'), F.col('dn_a'), F.col('sexo_a'), F.col('cidade_a'), F.col('primeiro_nome_a'), F.col('ultimo_nome_a'), F.col('phonetic_nome_a'), F.col('phonetic_mae_a'),\n",
    "                                                                       F.col('cod_b'), F.col('dn_b'), F.col('sexo_b'), F.col('cidade_b'), F.col('primeiro_nome_b'), F.col('ultimo_nome_b'), F.col('phonetic_nome_b'), F.col('phonetic_mae_b')))"
   ]
  },
  {
   "cell_type": "code",
   "execution_count": 111,
   "metadata": {},
   "outputs": [
    {
     "name": "stdout",
     "output_type": "stream",
     "text": [
      "+-----+-----+--------------+\n",
      "|cod_a|cod_b|  similaridade|\n",
      "+-----+-----+--------------+\n",
      "|    1|    1|0.371142547928|\n",
      "|    1|    2|0.313484739988|\n",
      "|    1|    3|0.311724386724|\n",
      "|    1|    4|0.404577234934|\n",
      "|    1|    5|0.378786160929|\n",
      "|    1|    6|0.971446608947|\n",
      "|    1|    7|0.431389311746|\n",
      "|    1|    8| 0.34897443826|\n",
      "|    1|    9|0.739332096475|\n",
      "|    1|   10|0.575290582433|\n",
      "|    1|   11|0.664727709266|\n",
      "|    1|   12|0.697595856524|\n",
      "|    1|   13|0.436555403661|\n",
      "|    1|   14|0.846889221889|\n",
      "|    1|   15|0.712662337662|\n",
      "|    1|   16| 0.34705988456|\n",
      "|    1|   17|0.487968975469|\n",
      "|    1|   18|0.688083718336|\n",
      "|    1|   19|0.407490128919|\n",
      "|    1|   20|0.713810726311|\n",
      "+-----+-----+--------------+\n",
      "only showing top 20 rows\n",
      "\n"
     ]
    }
   ],
   "source": [
    "result_linkage.select(['cod_a', 'cod_b', 'similaridade']).show()"
   ]
  },
  {
   "cell_type": "markdown",
   "metadata": {},
   "source": [
    "## EXERCÍCIOS DE FIXAÇÃO"
   ]
  },
  {
   "cell_type": "markdown",
   "metadata": {},
   "source": [
    "##### Desafio 1: Deduplique a base de linkage para encontrar os melhores resultados para cada registro do datasetB\n",
    "##### Desafio 2: Separe a data em três colunas diferentes (dia, mês e ano) e reimplemente a função 'compare' para que a distancia de hamming participe do calculo da similaridade\n",
    "##### Desafio 3: Quais os atributos mais importantes a serem comparados? Ao invés de uma média aritmética simples, implemente uma média aritmética ponderada dando pesos diferentes para cada atributos.\n",
    "##### Desafio 4: Explore novas similaridades. Faça uso de diferentes medidas para identidficar as que melhor se encaixam nesse par de datasets. ##### Desafio 5: Leia um pouco sobre penalidades, um decréscimo que se dá à similaridade quando um valor nulo participa da comparação. \n",
    "##### Desafio 6: Leia um pouco sobre avaliação de acurácia e faça uma planilha tabulando os resultados de sensibilidade, especificidade e precisão para todos os seus experimentos. \n",
    "##### Desafio 7: Tem como melhorar essa implementação? Tente otimizar essa implementação usando os conceitos discutidos em sala. "
   ]
  },
  {
   "cell_type": "code",
   "execution_count": null,
   "metadata": {},
   "outputs": [],
   "source": []
  }
 ],
 "metadata": {
  "kernelspec": {
   "display_name": "Python 3",
   "language": "python",
   "name": "python3"
  },
  "language_info": {
   "codemirror_mode": {
    "name": "ipython",
    "version": 3
   },
   "file_extension": ".py",
   "mimetype": "text/x-python",
   "name": "python",
   "nbconvert_exporter": "python",
   "pygments_lexer": "ipython3",
   "version": "3.8.5"
  }
 },
 "nbformat": 4,
 "nbformat_minor": 4
}
