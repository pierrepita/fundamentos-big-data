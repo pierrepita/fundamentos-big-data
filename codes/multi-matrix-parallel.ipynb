{
 "cells": [
  {
   "cell_type": "code",
   "execution_count": 2,
   "metadata": {},
   "outputs": [],
   "source": [
    "# -*- coding: utf-8 -*-\n",
    "\n",
    "#Created on Fri Apr 21 17:37:57 2017\n",
    "#@author: Khalid\n",
    "#from: https://github.com/khalidgt95/Python-MultiThreading/blob/master/Matrix%20Multiplication.py"
   ]
  },
  {
   "cell_type": "code",
   "execution_count": 3,
   "metadata": {},
   "outputs": [],
   "source": [
    "from threading import Thread\n",
    "import random\n",
    "import math\n",
    "import numpy as np\n",
    "import threading\n",
    "import time"
   ]
  },
  {
   "cell_type": "code",
   "execution_count": 4,
   "metadata": {},
   "outputs": [],
   "source": [
    "Matrix_A = []\n",
    "Matrix_B = []\n",
    "Matrix_C = []\n",
    "\n",
    "size_of_vectors_n = [int(math.pow(10,2)),int(math.pow(10,3)),int(math.pow(10,4))]\n",
    "\n",
    "dimension_N = 3 # Default to a 2x2 matrix\n",
    "\n",
    "num_of_threads = 1"
   ]
  },
  {
   "cell_type": "code",
   "execution_count": 5,
   "metadata": {},
   "outputs": [],
   "source": [
    "def Input_for_matrix_dimensions():\n",
    "    global dimension_N\n",
    "    global num_of_threads\n",
    "    \n",
    "    dimension_N = int(input(\"Enter the number N to generate NxN matrix : \"))\n",
    "    num_of_threads = int(input(\"Enter the number of threads : \"))"
   ]
  },
  {
   "cell_type": "code",
   "execution_count": 6,
   "metadata": {},
   "outputs": [],
   "source": [
    "def Initialize_Matrix():\n",
    "    global Matrix_A\n",
    "    global Matrix_B\n",
    "    global Matrix_C\n",
    "    #for i in range(0,dimension_N):\n",
    "    #    Matrix_A.append([random.randint(1,5) for i in range(0,dimension_N)])\n",
    "    #print(Matrix_A)\n",
    "\n",
    "    #Using numpy to generate matrix\n",
    "    Matrix_A = np.random.random((dimension_N,dimension_N))\n",
    "    Matrix_A = Matrix_A * 10\n",
    "    Matrix_A = Matrix_A.astype(int)\n",
    "    \n",
    "    Matrix_B = np.random.random((dimension_N,dimension_N))\n",
    "    Matrix_B = Matrix_B * 10\n",
    "    Matrix_B = Matrix_B.astype(int)\n",
    "    \n",
    "    Matrix_C = np.zeros((dimension_N,dimension_N))\n",
    "    Matrix_C = Matrix_C.astype(int)"
   ]
  },
  {
   "cell_type": "code",
   "execution_count": 7,
   "metadata": {},
   "outputs": [],
   "source": [
    "def Matrix_multiply_parallel(start,end):\n",
    "    for i in range(start,end):\n",
    "        for j in range(dimension_N):\n",
    "            for k in range(dimension_N):\n",
    "                Matrix_C[i][j] += int(Matrix_A[i][k] * Matrix_B[k][j])"
   ]
  },
  {
   "cell_type": "code",
   "execution_count": 8,
   "metadata": {},
   "outputs": [],
   "source": [
    "def Thread_function():\n",
    "    global num_of_threads\n",
    "    thread_handle = []\n",
    "\n",
    "    for j in range(0,num_of_threads):\n",
    "        t = Thread(target = Matrix_multiply_parallel, args=(int((dimension_N/num_of_threads) * j),int((dimension_N/num_of_threads) * (j+1))))\n",
    "        thread_handle.append(t)\n",
    "        t.start()   \n",
    "        \n",
    "    for j in range(0,num_of_threads):\n",
    "        thread_handle[j].join()"
   ]
  },
  {
   "cell_type": "code",
   "execution_count": 9,
   "metadata": {},
   "outputs": [
    {
     "name": "stdin",
     "output_type": "stream",
     "text": [
      "Enter the number N to generate NxN matrix :  3\n",
      "Enter the number of threads :  2\n"
     ]
    },
    {
     "name": "stdout",
     "output_type": "stream",
     "text": [
      "Time taken to multiply two matrices in parallel comes out to be : 0.007211923599243164\n"
     ]
    }
   ],
   "source": [
    "if __name__==\"__main__\":\n",
    "    \n",
    "    Input_for_matrix_dimensions()\n",
    "    Initialize_Matrix()\n",
    "    \n",
    "    start_time = time.time()\n",
    "    Thread_function()\n",
    "    end_time = time.time()\n",
    "    \n",
    "    print(\"Time taken to multiply two matrices in parallel comes out to be : \" + str(end_time - start_time))"
   ]
  }
 ],
 "metadata": {
  "kernelspec": {
   "display_name": "Python 3",
   "language": "python",
   "name": "python3"
  },
  "language_info": {
   "codemirror_mode": {
    "name": "ipython",
    "version": 3
   },
   "file_extension": ".py",
   "mimetype": "text/x-python",
   "name": "python",
   "nbconvert_exporter": "python",
   "pygments_lexer": "ipython3",
   "version": "3.8.5"
  }
 },
 "nbformat": 4,
 "nbformat_minor": 4
}
