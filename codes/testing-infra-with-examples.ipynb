{
 "cells": [
  {
   "cell_type": "markdown",
   "metadata": {},
   "source": [
    "# Testando Spark"
   ]
  },
  {
   "cell_type": "code",
   "execution_count": 1,
   "metadata": {},
   "outputs": [],
   "source": [
    "import pyspark\n",
    "# import pandas as pd"
   ]
  },
  {
   "cell_type": "code",
   "execution_count": 2,
   "metadata": {},
   "outputs": [],
   "source": [
    "# SparkContext.stop(sc)"
   ]
  },
  {
   "cell_type": "code",
   "execution_count": 3,
   "metadata": {},
   "outputs": [],
   "source": [
    "# from pyspark.context import SparkContext\n",
    "# from pyspark.sql.session import SparkSession\n",
    "\n",
    "# sc = pyspark.SparkContext(master = \"spark://node1:7077\",\n",
    "#                         appName='testando Spark')\n",
    "\n",
    "# spark = SparkSession(sc)"
   ]
  },
  {
   "cell_type": "code",
   "execution_count": 4,
   "metadata": {},
   "outputs": [],
   "source": [
    "# pd_df = pd.read_csv('/home/bigdata/repos/fundamentos-big-data/codes/DNPBA2017.csv')"
   ]
  },
  {
   "cell_type": "code",
   "execution_count": 5,
   "metadata": {},
   "outputs": [],
   "source": [
    "# pd_df"
   ]
  },
  {
   "cell_type": "code",
   "execution_count": 6,
   "metadata": {},
   "outputs": [],
   "source": [
    "# df = spark.createDataFrame(pd_df)"
   ]
  },
  {
   "cell_type": "code",
   "execution_count": 7,
   "metadata": {},
   "outputs": [],
   "source": [
    "df = spark.read.csv('/home/bigdata/repos/fundamentos-big-data/codes/DNPBA2017.csv',\n",
    "                   header=True)"
   ]
  },
  {
   "cell_type": "code",
   "execution_count": 8,
   "metadata": {},
   "outputs": [],
   "source": [
    "df = df.select(['NUMERODN', 'CODMUNNASC', 'DTNASC', 'SEXO', 'RACACOR', 'PESO', 'RACACORMAE'])"
   ]
  },
  {
   "cell_type": "code",
   "execution_count": 9,
   "metadata": {},
   "outputs": [
    {
     "name": "stdout",
     "output_type": "stream",
     "text": [
      "root\n",
      " |-- NUMERODN: string (nullable = true)\n",
      " |-- CODMUNNASC: string (nullable = true)\n",
      " |-- DTNASC: string (nullable = true)\n",
      " |-- SEXO: string (nullable = true)\n",
      " |-- RACACOR: string (nullable = true)\n",
      " |-- PESO: string (nullable = true)\n",
      " |-- RACACORMAE: string (nullable = true)\n",
      "\n"
     ]
    }
   ],
   "source": [
    "df.printSchema()"
   ]
  },
  {
   "cell_type": "code",
   "execution_count": 10,
   "metadata": {},
   "outputs": [
    {
     "name": "stdout",
     "output_type": "stream",
     "text": [
      "+--------+----------+--------+----+-------+----+----------+\n",
      "|NUMERODN|CODMUNNASC|  DTNASC|SEXO|RACACOR|PESO|RACACORMAE|\n",
      "+--------+----------+--------+----+-------+----+----------+\n",
      "|72390242|    170700|24012017|   1|      4|3150|         4|\n",
      "|72396320|    291110|27032017|   1|     NA|  NA|        NA|\n",
      "|72374657|    171890|29052017|   1|      4|3300|         4|\n",
      "+--------+----------+--------+----+-------+----+----------+\n",
      "only showing top 3 rows\n",
      "\n"
     ]
    }
   ],
   "source": [
    "df.show(3)"
   ]
  },
  {
   "cell_type": "code",
   "execution_count": 11,
   "metadata": {},
   "outputs": [
    {
     "data": {
      "text/plain": [
       "203715"
      ]
     },
     "execution_count": 11,
     "metadata": {},
     "output_type": "execute_result"
    }
   ],
   "source": [
    "df.count()"
   ]
  },
  {
   "cell_type": "code",
   "execution_count": 12,
   "metadata": {
    "scrolled": true
   },
   "outputs": [
    {
     "name": "stdout",
     "output_type": "stream",
     "text": [
      "+--------+-----+\n",
      "|NUMERODN|count|\n",
      "+--------+-----+\n",
      "|72064662|    1|\n",
      "|72064693|    1|\n",
      "|72064833|    1|\n",
      "|74188853|    1|\n",
      "|72165701|    1|\n",
      "|69257965|    1|\n",
      "|72160627|    1|\n",
      "|72201932|    1|\n",
      "|70502075|    1|\n",
      "|72268568|    1|\n",
      "|72269423|    1|\n",
      "|74218344|    1|\n",
      "|74218943|    1|\n",
      "|74219263|    1|\n",
      "|56707971|    1|\n",
      "|56708417|    1|\n",
      "|72206744|    1|\n",
      "|72267969|    1|\n",
      "|74216935|    1|\n",
      "|74217750|    1|\n",
      "+--------+-----+\n",
      "only showing top 20 rows\n",
      "\n",
      "+----------+-----+\n",
      "|CODMUNNASC|count|\n",
      "+----------+-----+\n",
      "|    291733|   68|\n",
      "|    310730|    1|\n",
      "|    220290|   11|\n",
      "|    320350|    2|\n",
      "|    291240|   87|\n",
      "|    292290|  119|\n",
      "|    291920|  988|\n",
      "|    291992|  223|\n",
      "|    292200|  591|\n",
      "|    292360|  860|\n",
      "|    510760|    2|\n",
      "|    293260|   84|\n",
      "|    411520|    3|\n",
      "|    290640|    4|\n",
      "|    290910|  144|\n",
      "|    292960|  115|\n",
      "|    292937|    1|\n",
      "|    292370|  313|\n",
      "|    290160| 1876|\n",
      "|    290685|    3|\n",
      "+----------+-----+\n",
      "only showing top 20 rows\n",
      "\n",
      "+--------+-----+\n",
      "|  DTNASC|count|\n",
      "+--------+-----+\n",
      "|18052017|  650|\n",
      "|01102017|  477|\n",
      "|29112017|  557|\n",
      "|20082017|  412|\n",
      "|08042017|  562|\n",
      "|26052017|  608|\n",
      "|19082017|  489|\n",
      "|08052017|  641|\n",
      "|09062017|  596|\n",
      "|28122017|  588|\n",
      "|05092017|  550|\n",
      "|10102017|  589|\n",
      "|26072017|  611|\n",
      "|19022017|  442|\n",
      "|11052017|  647|\n",
      "|01092017|  581|\n",
      "|12012017|  533|\n",
      "|22062017|  628|\n",
      "|03072017|  629|\n",
      "|09092017|  457|\n",
      "+--------+-----+\n",
      "only showing top 20 rows\n",
      "\n",
      "+----+------+\n",
      "|SEXO| count|\n",
      "+----+------+\n",
      "|   0|    52|\n",
      "|   1|104379|\n",
      "|   2| 99284|\n",
      "+----+------+\n",
      "\n",
      "+-------+------+\n",
      "|RACACOR| count|\n",
      "+-------+------+\n",
      "|      3|   779|\n",
      "|     NA| 14384|\n",
      "|      5|   791|\n",
      "|      1| 15007|\n",
      "|      4|148549|\n",
      "|      2| 24205|\n",
      "+-------+------+\n",
      "\n",
      "+----+-----+\n",
      "|PESO|count|\n",
      "+----+-----+\n",
      "|3210|  745|\n",
      "|4032|   12|\n",
      "|3414|   38|\n",
      "|2136|    8|\n",
      "|3606|   35|\n",
      "|2904|   49|\n",
      "|2294|    6|\n",
      "|1512|    4|\n",
      "|1436|    1|\n",
      "|2162|    8|\n",
      "|0965|    9|\n",
      "|1090|   15|\n",
      "|0955|    8|\n",
      "|4937|    1|\n",
      "|1572|    3|\n",
      "|2088|    3|\n",
      "|0786|    1|\n",
      "|3650| 1302|\n",
      "|3015|  409|\n",
      "|2275|   49|\n",
      "+----+-----+\n",
      "only showing top 20 rows\n",
      "\n",
      "+----------+------+\n",
      "|RACACORMAE| count|\n",
      "+----------+------+\n",
      "|         3|   768|\n",
      "|        NA| 16014|\n",
      "|         5|   772|\n",
      "|         1| 14812|\n",
      "|         4|147218|\n",
      "|         2| 24131|\n",
      "+----------+------+\n",
      "\n"
     ]
    }
   ],
   "source": [
    "for column in df.columns:\n",
    "    df.groupBy(column).count().show()"
   ]
  },
  {
   "cell_type": "code",
   "execution_count": 14,
   "metadata": {},
   "outputs": [
    {
     "name": "stdout",
     "output_type": "stream",
     "text": [
      "+----+------+\n",
      "|SEXO| count|\n",
      "+----+------+\n",
      "|   0|    52|\n",
      "|   1|104379|\n",
      "|   2| 99284|\n",
      "+----+------+\n",
      "\n"
     ]
    }
   ],
   "source": [
    "df.groupBy('SEXO').count().show()"
   ]
  },
  {
   "cell_type": "markdown",
   "metadata": {},
   "source": [
    "# Exemplo com HDFS"
   ]
  },
  {
   "cell_type": "code",
   "execution_count": 15,
   "metadata": {},
   "outputs": [],
   "source": [
    "df_ = spark.read.csv('hdfs://node1:9000/raw/DNPBA2017.csv', header=True)"
   ]
  },
  {
   "cell_type": "code",
   "execution_count": 16,
   "metadata": {},
   "outputs": [
    {
     "name": "stdout",
     "output_type": "stream",
     "text": [
      "+--------+-----+\n",
      "|NUMERODN|count|\n",
      "+--------+-----+\n",
      "|59768736|    1|\n",
      "|70448255|    1|\n",
      "|74224406|    1|\n",
      "|72266580|    1|\n",
      "|72243052|    1|\n",
      "|72234250|    1|\n",
      "|70494474|    1|\n",
      "|70494606|    1|\n",
      "|70494609|    1|\n",
      "|70494780|    1|\n",
      "|72246333|    1|\n",
      "|74219682|    1|\n",
      "|74219931|    1|\n",
      "|74224322|    1|\n",
      "|72262038|    1|\n",
      "|72263330|    1|\n",
      "|70448434|    1|\n",
      "|56769184|    1|\n",
      "|72260490|    1|\n",
      "|72242929|    1|\n",
      "+--------+-----+\n",
      "only showing top 20 rows\n",
      "\n",
      "+----------+-----+\n",
      "|CODMUNNASC|count|\n",
      "+----------+-----+\n",
      "|    291733|   68|\n",
      "|    310730|    1|\n",
      "|    220290|   11|\n",
      "|    320350|    2|\n",
      "|    291240|   87|\n",
      "|    292290|  119|\n",
      "|    291920|  988|\n",
      "|    291992|  223|\n",
      "|    292200|  591|\n",
      "|    292360|  860|\n",
      "|    510760|    2|\n",
      "|    293260|   84|\n",
      "|    411520|    3|\n",
      "|    290640|    4|\n",
      "|    290910|  144|\n",
      "|    292960|  115|\n",
      "|    290160| 1876|\n",
      "|    290685|    3|\n",
      "|    292937|    1|\n",
      "|    292370|  313|\n",
      "+----------+-----+\n",
      "only showing top 20 rows\n",
      "\n",
      "+--------+-----+\n",
      "|  DTNASC|count|\n",
      "+--------+-----+\n",
      "|18052017|  650|\n",
      "|01102017|  477|\n",
      "|29112017|  557|\n",
      "|20082017|  412|\n",
      "|26052017|  608|\n",
      "|08042017|  562|\n",
      "|19082017|  489|\n",
      "|08052017|  641|\n",
      "|09062017|  596|\n",
      "|05092017|  550|\n",
      "|28122017|  588|\n",
      "|10102017|  589|\n",
      "|26072017|  611|\n",
      "|19022017|  442|\n",
      "|11052017|  647|\n",
      "|01092017|  581|\n",
      "|12012017|  533|\n",
      "|22062017|  628|\n",
      "|03072017|  629|\n",
      "|09092017|  457|\n",
      "+--------+-----+\n",
      "only showing top 20 rows\n",
      "\n",
      "+----+------+\n",
      "|SEXO| count|\n",
      "+----+------+\n",
      "|   0|    52|\n",
      "|   1|104379|\n",
      "|   2| 99284|\n",
      "+----+------+\n",
      "\n",
      "+-------+------+\n",
      "|RACACOR| count|\n",
      "+-------+------+\n",
      "|      3|   779|\n",
      "|     NA| 14384|\n",
      "|      5|   791|\n",
      "|      1| 15007|\n",
      "|      4|148549|\n",
      "|      2| 24205|\n",
      "+-------+------+\n",
      "\n",
      "+----+-----+\n",
      "|PESO|count|\n",
      "+----+-----+\n",
      "|3210|  745|\n",
      "|3414|   38|\n",
      "|2162|    8|\n",
      "|2088|    3|\n",
      "|2904|   49|\n",
      "|0965|    9|\n",
      "|4032|   12|\n",
      "|2136|    8|\n",
      "|3606|   35|\n",
      "|1090|   15|\n",
      "|2294|    6|\n",
      "|0955|    8|\n",
      "|1512|    4|\n",
      "|0786|    1|\n",
      "|1572|    3|\n",
      "|4937|    1|\n",
      "|1436|    1|\n",
      "|3650| 1302|\n",
      "|3015|  409|\n",
      "|2110|   58|\n",
      "+----+-----+\n",
      "only showing top 20 rows\n",
      "\n",
      "+----------+------+\n",
      "|RACACORMAE| count|\n",
      "+----------+------+\n",
      "|         3|   768|\n",
      "|        NA| 16014|\n",
      "|         5|   772|\n",
      "|         1| 14812|\n",
      "|         4|147218|\n",
      "|         2| 24131|\n",
      "+----------+------+\n",
      "\n"
     ]
    }
   ],
   "source": [
    "for column in df.columns:\n",
    "    df_.groupBy(column).count().show()"
   ]
  },
  {
   "cell_type": "markdown",
   "metadata": {},
   "source": [
    "# Testando ElasticSearch"
   ]
  },
  {
   "cell_type": "code",
   "execution_count": 17,
   "metadata": {},
   "outputs": [],
   "source": [
    "# !pip install elasticsearch\n",
    "# !pip install espandas\n",
    "# !pip install progressbar2\n",
    "# !pip install es_pandas"
   ]
  },
  {
   "cell_type": "code",
   "execution_count": 18,
   "metadata": {},
   "outputs": [],
   "source": [
    "import numpy as np\n",
    "import pandas as pd\n",
    "\n",
    "from elasticsearch import Elasticsearch\n",
    "from elasticsearch import helpers\n",
    "es = Elasticsearch(http_compress=True)\n",
    "\n",
    "from datetime import datetime\n",
    "\n",
    "from es_pandas import es_pandas\n",
    "\n",
    "# adapted from: https://pypi.org/project/es-pandas/"
   ]
  },
  {
   "cell_type": "code",
   "execution_count": 19,
   "metadata": {},
   "outputs": [],
   "source": [
    "df_pd = pd.read_csv('/home/bigdata/repos/fundamentos-big-data/codes/DNPBA2017.csv')\n",
    "df_pd = df_pd[[\"NUMERODN\", \"CODMUNNASC\", \"IDADEMAE\", \"ESCMAEAGR1\"]]"
   ]
  },
  {
   "cell_type": "code",
   "execution_count": 20,
   "metadata": {},
   "outputs": [
    {
     "data": {
      "text/html": [
       "<div>\n",
       "<style scoped>\n",
       "    .dataframe tbody tr th:only-of-type {\n",
       "        vertical-align: middle;\n",
       "    }\n",
       "\n",
       "    .dataframe tbody tr th {\n",
       "        vertical-align: top;\n",
       "    }\n",
       "\n",
       "    .dataframe thead th {\n",
       "        text-align: right;\n",
       "    }\n",
       "</style>\n",
       "<table border=\"1\" class=\"dataframe\">\n",
       "  <thead>\n",
       "    <tr style=\"text-align: right;\">\n",
       "      <th></th>\n",
       "      <th>NUMERODN</th>\n",
       "      <th>CODMUNNASC</th>\n",
       "      <th>IDADEMAE</th>\n",
       "      <th>ESCMAEAGR1</th>\n",
       "    </tr>\n",
       "  </thead>\n",
       "  <tbody>\n",
       "    <tr>\n",
       "      <th>0</th>\n",
       "      <td>72390242</td>\n",
       "      <td>170700</td>\n",
       "      <td>25</td>\n",
       "      <td>1.0</td>\n",
       "    </tr>\n",
       "    <tr>\n",
       "      <th>1</th>\n",
       "      <td>72396320</td>\n",
       "      <td>291110</td>\n",
       "      <td>20</td>\n",
       "      <td>2.0</td>\n",
       "    </tr>\n",
       "    <tr>\n",
       "      <th>2</th>\n",
       "      <td>72374657</td>\n",
       "      <td>171890</td>\n",
       "      <td>20</td>\n",
       "      <td>4.0</td>\n",
       "    </tr>\n",
       "    <tr>\n",
       "      <th>3</th>\n",
       "      <td>72376065</td>\n",
       "      <td>172100</td>\n",
       "      <td>28</td>\n",
       "      <td>6.0</td>\n",
       "    </tr>\n",
       "    <tr>\n",
       "      <th>4</th>\n",
       "      <td>72392109</td>\n",
       "      <td>172100</td>\n",
       "      <td>34</td>\n",
       "      <td>12.0</td>\n",
       "    </tr>\n",
       "    <tr>\n",
       "      <th>...</th>\n",
       "      <td>...</td>\n",
       "      <td>...</td>\n",
       "      <td>...</td>\n",
       "      <td>...</td>\n",
       "    </tr>\n",
       "    <tr>\n",
       "      <th>203710</th>\n",
       "      <td>77142079</td>\n",
       "      <td>530010</td>\n",
       "      <td>30</td>\n",
       "      <td>8.0</td>\n",
       "    </tr>\n",
       "    <tr>\n",
       "      <th>203711</th>\n",
       "      <td>74266407</td>\n",
       "      <td>293180</td>\n",
       "      <td>32</td>\n",
       "      <td>2.0</td>\n",
       "    </tr>\n",
       "    <tr>\n",
       "      <th>203712</th>\n",
       "      <td>74266408</td>\n",
       "      <td>293180</td>\n",
       "      <td>23</td>\n",
       "      <td>11.0</td>\n",
       "    </tr>\n",
       "    <tr>\n",
       "      <th>203713</th>\n",
       "      <td>74266409</td>\n",
       "      <td>293180</td>\n",
       "      <td>41</td>\n",
       "      <td>11.0</td>\n",
       "    </tr>\n",
       "    <tr>\n",
       "      <th>203714</th>\n",
       "      <td>61624646</td>\n",
       "      <td>290380</td>\n",
       "      <td>20</td>\n",
       "      <td>5.0</td>\n",
       "    </tr>\n",
       "  </tbody>\n",
       "</table>\n",
       "<p>203715 rows × 4 columns</p>\n",
       "</div>"
      ],
      "text/plain": [
       "        NUMERODN  CODMUNNASC  IDADEMAE  ESCMAEAGR1\n",
       "0       72390242      170700        25         1.0\n",
       "1       72396320      291110        20         2.0\n",
       "2       72374657      171890        20         4.0\n",
       "3       72376065      172100        28         6.0\n",
       "4       72392109      172100        34        12.0\n",
       "...          ...         ...       ...         ...\n",
       "203710  77142079      530010        30         8.0\n",
       "203711  74266407      293180        32         2.0\n",
       "203712  74266408      293180        23        11.0\n",
       "203713  74266409      293180        41        11.0\n",
       "203714  61624646      290380        20         5.0\n",
       "\n",
       "[203715 rows x 4 columns]"
      ]
     },
     "execution_count": 20,
     "metadata": {},
     "output_type": "execute_result"
    }
   ],
   "source": [
    "df_pd"
   ]
  },
  {
   "cell_type": "code",
   "execution_count": 21,
   "metadata": {},
   "outputs": [],
   "source": [
    "df_pd.dropna(inplace=True)\n",
    "df_pd.columns= df_pd.columns.str.lower()"
   ]
  },
  {
   "cell_type": "code",
   "execution_count": 22,
   "metadata": {},
   "outputs": [],
   "source": [
    "# Information of es cluseter\n",
    "es_host = 'localhost:9200'\n",
    "index = 'dnpba_2017'"
   ]
  },
  {
   "cell_type": "code",
   "execution_count": 23,
   "metadata": {},
   "outputs": [],
   "source": [
    "# create es_pandas instance\n",
    "ep = es_pandas(es_host)\n",
    "es = Elasticsearch()"
   ]
  },
  {
   "cell_type": "code",
   "execution_count": 24,
   "metadata": {},
   "outputs": [],
   "source": [
    "# init template if you want\n",
    "doc_type = 'nascidosvisvos'\n",
    "ep.init_es_tmpl(df_pd, doc_type)"
   ]
  },
  {
   "cell_type": "code",
   "execution_count": 25,
   "metadata": {},
   "outputs": [
    {
     "name": "stderr",
     "output_type": "stream",
     "text": [
      " 99% (198793 of 199618) |############### | Elapsed Time: 0:00:06 ETA:   0:00:00"
     ]
    },
    {
     "data": {
      "text/plain": [
       "199618"
      ]
     },
     "execution_count": 25,
     "metadata": {},
     "output_type": "execute_result"
    }
   ],
   "source": [
    "# set use_index=True if you want to use DataFrame index as records' _id\n",
    "ep.to_es(df_pd, index, doc_type=doc_type, use_index=True, thread_count=2, chunk_size=10000)"
   ]
  },
  {
   "cell_type": "code",
   "execution_count": 26,
   "metadata": {},
   "outputs": [],
   "source": [
    "# curl -X DELETE \"localhost:9200/twitter?pretty\"\n",
    "# para deletar index ex.: twitter"
   ]
  },
  {
   "cell_type": "code",
   "execution_count": 27,
   "metadata": {},
   "outputs": [
    {
     "name": "stdout",
     "output_type": "stream",
     "text": [
      "yellow open dnpba_2017         zsL5FVrmS7C4lzRi4J-Ong 1 1 170000 0  7.1mb  7.1mb\r\n",
      "yellow open dnpba_2017_airflow 0FkidBJDQhiguRemvs2TMw 1 1 203715 0 13.7mb 13.7mb\r\n"
     ]
    }
   ],
   "source": [
    "!curl 'localhost:9200/_cat/indices/'"
   ]
  },
  {
   "cell_type": "markdown",
   "metadata": {},
   "source": [
    "##  consultando no elasticsearch"
   ]
  },
  {
   "cell_type": "code",
   "execution_count": 28,
   "metadata": {},
   "outputs": [],
   "source": [
    "from pyspark.sql import SparkSession, Row"
   ]
  },
  {
   "cell_type": "code",
   "execution_count": 29,
   "metadata": {},
   "outputs": [],
   "source": [
    "content = {\n",
    "    \"query\": {\n",
    "        \"term\": {\n",
    "            \"numerodn\": \"72392109\"\n",
    "         }\n",
    "     },\n",
    "}"
   ]
  },
  {
   "cell_type": "code",
   "execution_count": 30,
   "metadata": {},
   "outputs": [],
   "source": [
    "res = es.search(index=\"dnpba_2017\", body=content)"
   ]
  },
  {
   "cell_type": "code",
   "execution_count": 31,
   "metadata": {},
   "outputs": [
    {
     "data": {
      "text/plain": [
       "[{'_index': 'dnpba_2017',\n",
       "  '_type': '_doc',\n",
       "  '_id': '4',\n",
       "  '_score': 1.0,\n",
       "  '_source': {'numerodn': 72392109,\n",
       "   'codmunnasc': 172100,\n",
       "   'idademae': 34,\n",
       "   'escmaeagr1': 12.0}}]"
      ]
     },
     "execution_count": 31,
     "metadata": {},
     "output_type": "execute_result"
    }
   ],
   "source": [
    "res['hits']['hits']"
   ]
  },
  {
   "cell_type": "markdown",
   "metadata": {},
   "source": [
    "# Testando resultado do AirFlow"
   ]
  },
  {
   "cell_type": "code",
   "execution_count": 32,
   "metadata": {},
   "outputs": [],
   "source": [
    "result_es = spark.read.parquet('hdfs://node1:9000/datasets/results-DNPBA2017-query-airflow')"
   ]
  },
  {
   "cell_type": "code",
   "execution_count": 33,
   "metadata": {},
   "outputs": [
    {
     "name": "stdout",
     "output_type": "stream",
     "text": [
      "+--------+----------+--------+----+-------+----+----------+\n",
      "|numerodn|codmunnasc|  dtnasc|sexo|racacor|peso|racacormae|\n",
      "+--------+----------+--------+----+-------+----+----------+\n",
      "|72392109|    172100|23012017|   2|      4|3610|         4|\n",
      "+--------+----------+--------+----+-------+----+----------+\n",
      "\n"
     ]
    }
   ],
   "source": [
    "result_es.show()"
   ]
  }
 ],
 "metadata": {
  "kernelspec": {
   "display_name": "Python 3",
   "language": "python",
   "name": "python3"
  },
  "language_info": {
   "codemirror_mode": {
    "name": "ipython",
    "version": 3
   },
   "file_extension": ".py",
   "mimetype": "text/x-python",
   "name": "python",
   "nbconvert_exporter": "python",
   "pygments_lexer": "ipython3",
   "version": "3.8.5"
  }
 },
 "nbformat": 4,
 "nbformat_minor": 4
}
