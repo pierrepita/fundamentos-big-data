{
 "cells": [
  {
   "cell_type": "markdown",
   "metadata": {},
   "source": [
    "# Testando Spark"
   ]
  },
  {
   "cell_type": "code",
   "execution_count": null,
   "metadata": {},
   "outputs": [],
   "source": [
    "import pyspark\n",
    "# import pandas as pd"
   ]
  },
  {
   "cell_type": "code",
   "execution_count": null,
   "metadata": {},
   "outputs": [],
   "source": [
    "# SparkContext.stop(sc)"
   ]
  },
  {
   "cell_type": "code",
   "execution_count": null,
   "metadata": {},
   "outputs": [],
   "source": [
    "# from pyspark.context import SparkContext\n",
    "# from pyspark.sql.session import SparkSession\n",
    "\n",
    "# sc = pyspark.SparkContext(master = \"spark://node1:7077\",\n",
    "#                         appName='testando Spark')\n",
    "\n",
    "# spark = SparkSession(sc)"
   ]
  },
  {
   "cell_type": "code",
   "execution_count": null,
   "metadata": {},
   "outputs": [],
   "source": [
    "# pd_df = pd.read_csv('/home/bigdata/repos/fundamentos-big-data/codes/DNPBA2017.csv')"
   ]
  },
  {
   "cell_type": "code",
   "execution_count": null,
   "metadata": {},
   "outputs": [],
   "source": [
    "# pd_df"
   ]
  },
  {
   "cell_type": "code",
   "execution_count": null,
   "metadata": {},
   "outputs": [],
   "source": [
    "# df = spark.createDataFrame(pd_df)"
   ]
  },
  {
   "cell_type": "code",
   "execution_count": null,
   "metadata": {},
   "outputs": [],
   "source": [
    "df = spark.read.csv('/home/bigdata/repos/fundamentos-big-data/codes/DNPBA2017.csv',\n",
    "                   header=True)"
   ]
  },
  {
   "cell_type": "code",
   "execution_count": null,
   "metadata": {},
   "outputs": [],
   "source": [
    "df.show(3)"
   ]
  },
  {
   "cell_type": "code",
   "execution_count": null,
   "metadata": {},
   "outputs": [],
   "source": [
    "df.count()"
   ]
  },
  {
   "cell_type": "code",
   "execution_count": null,
   "metadata": {
    "scrolled": true
   },
   "outputs": [],
   "source": [
    "for column in df.columns:\n",
    "    df.groupBy(column).count().show()"
   ]
  },
  {
   "cell_type": "code",
   "execution_count": null,
   "metadata": {},
   "outputs": [],
   "source": [
    "df.groupBy('CODMUNRES').count().show()"
   ]
  },
  {
   "cell_type": "markdown",
   "metadata": {},
   "source": [
    "# Exemplo com HDFS"
   ]
  },
  {
   "cell_type": "code",
   "execution_count": null,
   "metadata": {},
   "outputs": [],
   "source": [
    "df_ = spark.read.csv('hdfs://node1:9000/raw/DNPBA2017.csv', header=True)"
   ]
  },
  {
   "cell_type": "code",
   "execution_count": null,
   "metadata": {},
   "outputs": [],
   "source": [
    "for column in df.columns:\n",
    "    df_.groupBy(column).count().show()"
   ]
  },
  {
   "cell_type": "markdown",
   "metadata": {},
   "source": [
    "# Testando ElasticSearch"
   ]
  },
  {
   "cell_type": "code",
   "execution_count": 1,
   "metadata": {},
   "outputs": [],
   "source": [
    "# !pip install elasticsearch\n",
    "# !pip install espandas\n",
    "# !pip install progressbar2\n",
    "# !pip install es_pandas"
   ]
  },
  {
   "cell_type": "code",
   "execution_count": 21,
   "metadata": {},
   "outputs": [],
   "source": [
    "import numpy as np\n",
    "import pandas as pd\n",
    "\n",
    "from elasticsearch import Elasticsearch\n",
    "from elasticsearch import helpers\n",
    "es = Elasticsearch(http_compress=True)\n",
    "\n",
    "from datetime import datetime\n",
    "\n",
    "from es_pandas import es_pandas\n",
    "\n",
    "# adapted from: https://pypi.org/project/es-pandas/"
   ]
  },
  {
   "cell_type": "code",
   "execution_count": 3,
   "metadata": {},
   "outputs": [],
   "source": [
    "df_pd = pd.read_csv('/home/bigdata/repos/fundamentos-big-data/codes/DNPBA2017.csv')\n",
    "df_pd = df_pd[[\"NUMERODN\", \"CODMUNNASC\", \"IDADEMAE\", \"ESCMAEAGR1\"]]"
   ]
  },
  {
   "cell_type": "code",
   "execution_count": 27,
   "metadata": {},
   "outputs": [
    {
     "data": {
      "text/html": [
       "<div>\n",
       "<style scoped>\n",
       "    .dataframe tbody tr th:only-of-type {\n",
       "        vertical-align: middle;\n",
       "    }\n",
       "\n",
       "    .dataframe tbody tr th {\n",
       "        vertical-align: top;\n",
       "    }\n",
       "\n",
       "    .dataframe thead th {\n",
       "        text-align: right;\n",
       "    }\n",
       "</style>\n",
       "<table border=\"1\" class=\"dataframe\">\n",
       "  <thead>\n",
       "    <tr style=\"text-align: right;\">\n",
       "      <th></th>\n",
       "      <th>NUMERODN</th>\n",
       "      <th>CODMUNNASC</th>\n",
       "      <th>IDADEMAE</th>\n",
       "      <th>ESCMAEAGR1</th>\n",
       "    </tr>\n",
       "  </thead>\n",
       "  <tbody>\n",
       "    <tr>\n",
       "      <th>0</th>\n",
       "      <td>72390242</td>\n",
       "      <td>170700</td>\n",
       "      <td>25</td>\n",
       "      <td>1.0</td>\n",
       "    </tr>\n",
       "    <tr>\n",
       "      <th>1</th>\n",
       "      <td>72396320</td>\n",
       "      <td>291110</td>\n",
       "      <td>20</td>\n",
       "      <td>2.0</td>\n",
       "    </tr>\n",
       "    <tr>\n",
       "      <th>2</th>\n",
       "      <td>72374657</td>\n",
       "      <td>171890</td>\n",
       "      <td>20</td>\n",
       "      <td>4.0</td>\n",
       "    </tr>\n",
       "    <tr>\n",
       "      <th>3</th>\n",
       "      <td>72376065</td>\n",
       "      <td>172100</td>\n",
       "      <td>28</td>\n",
       "      <td>6.0</td>\n",
       "    </tr>\n",
       "    <tr>\n",
       "      <th>4</th>\n",
       "      <td>72392109</td>\n",
       "      <td>172100</td>\n",
       "      <td>34</td>\n",
       "      <td>12.0</td>\n",
       "    </tr>\n",
       "    <tr>\n",
       "      <th>...</th>\n",
       "      <td>...</td>\n",
       "      <td>...</td>\n",
       "      <td>...</td>\n",
       "      <td>...</td>\n",
       "    </tr>\n",
       "    <tr>\n",
       "      <th>203710</th>\n",
       "      <td>77142079</td>\n",
       "      <td>530010</td>\n",
       "      <td>30</td>\n",
       "      <td>8.0</td>\n",
       "    </tr>\n",
       "    <tr>\n",
       "      <th>203711</th>\n",
       "      <td>74266407</td>\n",
       "      <td>293180</td>\n",
       "      <td>32</td>\n",
       "      <td>2.0</td>\n",
       "    </tr>\n",
       "    <tr>\n",
       "      <th>203712</th>\n",
       "      <td>74266408</td>\n",
       "      <td>293180</td>\n",
       "      <td>23</td>\n",
       "      <td>11.0</td>\n",
       "    </tr>\n",
       "    <tr>\n",
       "      <th>203713</th>\n",
       "      <td>74266409</td>\n",
       "      <td>293180</td>\n",
       "      <td>41</td>\n",
       "      <td>11.0</td>\n",
       "    </tr>\n",
       "    <tr>\n",
       "      <th>203714</th>\n",
       "      <td>61624646</td>\n",
       "      <td>290380</td>\n",
       "      <td>20</td>\n",
       "      <td>5.0</td>\n",
       "    </tr>\n",
       "  </tbody>\n",
       "</table>\n",
       "<p>203715 rows × 4 columns</p>\n",
       "</div>"
      ],
      "text/plain": [
       "        NUMERODN  CODMUNNASC  IDADEMAE  ESCMAEAGR1\n",
       "0       72390242      170700        25         1.0\n",
       "1       72396320      291110        20         2.0\n",
       "2       72374657      171890        20         4.0\n",
       "3       72376065      172100        28         6.0\n",
       "4       72392109      172100        34        12.0\n",
       "...          ...         ...       ...         ...\n",
       "203710  77142079      530010        30         8.0\n",
       "203711  74266407      293180        32         2.0\n",
       "203712  74266408      293180        23        11.0\n",
       "203713  74266409      293180        41        11.0\n",
       "203714  61624646      290380        20         5.0\n",
       "\n",
       "[203715 rows x 4 columns]"
      ]
     },
     "execution_count": 27,
     "metadata": {},
     "output_type": "execute_result"
    }
   ],
   "source": [
    "df_pd"
   ]
  },
  {
   "cell_type": "code",
   "execution_count": null,
   "metadata": {},
   "outputs": [],
   "source": [
    "df_pd.dropna(inplace=True)\n",
    "df_pd.columns= df_pd.columns.str.lower()"
   ]
  },
  {
   "cell_type": "code",
   "execution_count": 16,
   "metadata": {},
   "outputs": [],
   "source": [
    "# Information of es cluseter\n",
    "es_host = 'localhost:9200'\n",
    "index = 'dnpba_2017'"
   ]
  },
  {
   "cell_type": "code",
   "execution_count": 23,
   "metadata": {},
   "outputs": [],
   "source": [
    "# create es_pandas instance\n",
    "ep = es_pandas(es_host)\n",
    "es = Elasticsearch()"
   ]
  },
  {
   "cell_type": "code",
   "execution_count": 18,
   "metadata": {},
   "outputs": [
    {
     "name": "stdout",
     "output_type": "stream",
     "text": [
      "New template nascidosvisvos added\n"
     ]
    }
   ],
   "source": [
    "# init template if you want\n",
    "doc_type = 'nascidosvisvos'\n",
    "ep.init_es_tmpl(df_pd, doc_type)"
   ]
  },
  {
   "cell_type": "code",
   "execution_count": 19,
   "metadata": {},
   "outputs": [
    {
     "name": "stderr",
     "output_type": "stream",
     "text": [
      " 98% (201137 of 203715) |############### | Elapsed Time: 0:00:06 ETA:   0:00:00"
     ]
    },
    {
     "data": {
      "text/plain": [
       "203715"
      ]
     },
     "execution_count": 19,
     "metadata": {},
     "output_type": "execute_result"
    }
   ],
   "source": [
    "# set use_index=True if you want to use DataFrame index as records' _id\n",
    "ep.to_es(df_pd, index, doc_type=doc_type, use_index=True, thread_count=2, chunk_size=10000)"
   ]
  },
  {
   "cell_type": "code",
   "execution_count": 20,
   "metadata": {},
   "outputs": [
    {
     "name": "stdout",
     "output_type": "stream",
     "text": [
      "yellow open nascidosvivos_ba_2017 xgJ4VsEtSlKO7T7tKn8yqA 1 1      0 0   208b   208b\r\n",
      "yellow open dnpba_2017            3wXqk-jhSeiRuNE_0O1hzQ 1 1 203715 0 14.5mb 14.5mb\r\n",
      "yellow open foo_index             C_Wov6t3TbSdnvST3Q543Q 1 1      0 0   208b   208b\r\n",
      "yellow open numerodn              fJXq5vq2S6O5qK7zVIDAjQ 1 1      0 0   208b   208b\r\n",
      "yellow open codmunnasc            vimKvxNEQlSQumbUsrrh9g 1 1      0 0   208b   208b\r\n",
      "yellow open demo                  8fJBK5yuR2W3jGeWBFEzVQ 1 1 100000 0  3.4mb  3.4mb\r\n"
     ]
    }
   ],
   "source": [
    "!curl 'localhost:9200/_cat/indices/'"
   ]
  },
  {
   "cell_type": "markdown",
   "metadata": {},
   "source": [
    "##  consultando no elasticsearch"
   ]
  },
  {
   "cell_type": "code",
   "execution_count": 28,
   "metadata": {},
   "outputs": [],
   "source": [
    "content = {\n",
    "    \"query\": {\n",
    "        \"term\": {\n",
    "            \"NUMERODN\": \"72392109\"\n",
    "         }\n",
    "     },\n",
    "}"
   ]
  },
  {
   "cell_type": "code",
   "execution_count": 29,
   "metadata": {},
   "outputs": [],
   "source": [
    "res = es.search(index=\"dnpba_2017\", body=content)"
   ]
  },
  {
   "cell_type": "code",
   "execution_count": 30,
   "metadata": {},
   "outputs": [
    {
     "data": {
      "text/plain": [
       "[{'_index': 'dnpba_2017',\n",
       "  '_type': '_doc',\n",
       "  '_id': '4',\n",
       "  '_score': 1.0,\n",
       "  '_source': {'NUMERODN': 72392109,\n",
       "   'CODMUNNASC': 172100,\n",
       "   'IDADEMAE': 34,\n",
       "   'ESCMAEAGR1': 12.0}}]"
      ]
     },
     "execution_count": 30,
     "metadata": {},
     "output_type": "execute_result"
    }
   ],
   "source": [
    "res['hits']['hits']"
   ]
  }
 ],
 "metadata": {
  "kernelspec": {
   "display_name": "Python 3",
   "language": "python",
   "name": "python3"
  },
  "language_info": {
   "codemirror_mode": {
    "name": "ipython",
    "version": 3
   },
   "file_extension": ".py",
   "mimetype": "text/x-python",
   "name": "python",
   "nbconvert_exporter": "python",
   "pygments_lexer": "ipython3",
   "version": "3.8.5"
  }
 },
 "nbformat": 4,
 "nbformat_minor": 4
}
