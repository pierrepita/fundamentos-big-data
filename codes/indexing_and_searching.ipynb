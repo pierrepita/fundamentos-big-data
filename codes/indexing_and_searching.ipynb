{
 "cells": [
  {
   "cell_type": "code",
   "execution_count": null,
   "metadata": {},
   "outputs": [],
   "source": [
    "# !pip install elasticsearch\n",
    "# pip install csv2es\n",
    "from elasticsearch import helpers, Elasticsearch\n",
    "import csv\n",
    "import csv2es"
   ]
  },
  {
   "cell_type": "code",
   "execution_count": null,
   "metadata": {},
   "outputs": [],
   "source": [
    "es = elasticsearch()"
   ]
  },
  {
   "cell_type": "code",
   "execution_count": 15,
   "metadata": {},
   "outputs": [],
   "source": [
    "df = spark.read.csv('DNPBA2017.csv', header=True)"
   ]
  },
  {
   "cell_type": "code",
   "execution_count": 29,
   "metadata": {},
   "outputs": [],
   "source": [
    "df = df.select(['NUMERODN', 'CODESTAB', 'IDADEMAE', 'ESCMAEAGR1']).limit(20).toPandas()"
   ]
  },
  {
   "cell_type": "code",
   "execution_count": 32,
   "metadata": {},
   "outputs": [],
   "source": [
    "df.to_csv('DNPBA2017_es.csv', index=False)"
   ]
  },
  {
   "cell_type": "markdown",
   "metadata": {},
   "source": [
    "### indexng"
   ]
  },
  {
   "cell_type": "code",
   "execution_count": null,
   "metadata": {},
   "outputs": [],
   "source": [
    "with open('DNPBA2017_es.csv') as f:\n",
    "    reader = csv.DictReader(f)\n",
    "    helpers.bulk(es, reader, index='my-index', doc_type='my-type')\n",
    "    \n",
    "# ler indices no linux com: curl 'localhost:9200/_cat/indices?v'"
   ]
  },
  {
   "cell_type": "markdown",
   "metadata": {},
   "source": [
    "### buscando termo"
   ]
  },
  {
   "cell_type": "code",
   "execution_count": 66,
   "metadata": {},
   "outputs": [],
   "source": [
    "content = {\n",
    "    \"query\": {\n",
    "        \"term\": {\n",
    "            \"CODESTAB\": \"2786095\"\n",
    "         }\n",
    "     },\n",
    "}"
   ]
  },
  {
   "cell_type": "code",
   "execution_count": 67,
   "metadata": {},
   "outputs": [],
   "source": [
    "res = es.search(index=\"my-index\", body=content)"
   ]
  },
  {
   "cell_type": "code",
   "execution_count": 68,
   "metadata": {},
   "outputs": [
    {
     "data": {
      "text/plain": [
       "{u'_shards': {u'failed': 0, u'skipped': 0, u'successful': 1, u'total': 1},\n",
       " u'hits': {u'hits': [{u'_id': u'H8atyW8BbundlQk4fUZA',\n",
       "    u'_index': u'my-index',\n",
       "    u'_score': 2.6390574,\n",
       "    u'_source': {u'CODESTAB': u'2786095',\n",
       "     u'ESCMAEAGR1': u'01',\n",
       "     u'IDADEMAE': u'25',\n",
       "     u'NUMERODN': u'72390242'},\n",
       "    u'_type': u'my-type'}],\n",
       "  u'max_score': 2.6390574,\n",
       "  u'total': {u'relation': u'eq', u'value': 1}},\n",
       " u'timed_out': False,\n",
       " u'took': 1}"
      ]
     },
     "execution_count": 68,
     "metadata": {},
     "output_type": "execute_result"
    }
   ],
   "source": [
    "res"
   ]
  },
  {
   "cell_type": "markdown",
   "metadata": {},
   "source": [
    "### buscando um intervalo"
   ]
  },
  {
   "cell_type": "code",
   "execution_count": 71,
   "metadata": {},
   "outputs": [],
   "source": [
    "content = {\n",
    "    \"query\": {\n",
    "        \"range\": {\n",
    "            \"IDADEMAE\": {\n",
    "                \"gte\": 20,\n",
    "                \"lt\": 30\n",
    "            }\n",
    "        }\n",
    "    }\n",
    "}"
   ]
  },
  {
   "cell_type": "code",
   "execution_count": 72,
   "metadata": {},
   "outputs": [],
   "source": [
    "res = es.search(index=\"my-index\", body=content)"
   ]
  },
  {
   "cell_type": "code",
   "execution_count": 73,
   "metadata": {},
   "outputs": [
    {
     "data": {
      "text/plain": [
       "{u'_shards': {u'failed': 0, u'skipped': 0, u'successful': 1, u'total': 1},\n",
       " u'hits': {u'hits': [{u'_id': u'H8atyW8BbundlQk4fUZA',\n",
       "    u'_index': u'my-index',\n",
       "    u'_score': 1.0,\n",
       "    u'_source': {u'CODESTAB': u'2786095',\n",
       "     u'ESCMAEAGR1': u'01',\n",
       "     u'IDADEMAE': u'25',\n",
       "     u'NUMERODN': u'72390242'},\n",
       "    u'_type': u'my-type'},\n",
       "   {u'_id': u'IMatyW8BbundlQk4fUZB',\n",
       "    u'_index': u'my-index',\n",
       "    u'_score': 1.0,\n",
       "    u'_source': {u'CODESTAB': u'NA',\n",
       "     u'ESCMAEAGR1': u'02',\n",
       "     u'IDADEMAE': u'20',\n",
       "     u'NUMERODN': u'72396320'},\n",
       "    u'_type': u'my-type'},\n",
       "   {u'_id': u'IcatyW8BbundlQk4fUZB',\n",
       "    u'_index': u'my-index',\n",
       "    u'_score': 1.0,\n",
       "    u'_source': {u'CODESTAB': u'NA',\n",
       "     u'ESCMAEAGR1': u'04',\n",
       "     u'IDADEMAE': u'20',\n",
       "     u'NUMERODN': u'72374657'},\n",
       "    u'_type': u'my-type'},\n",
       "   {u'_id': u'IsatyW8BbundlQk4fUZB',\n",
       "    u'_index': u'my-index',\n",
       "    u'_score': 1.0,\n",
       "    u'_source': {u'CODESTAB': u'2755157',\n",
       "     u'ESCMAEAGR1': u'06',\n",
       "     u'IDADEMAE': u'28',\n",
       "     u'NUMERODN': u'72376065'},\n",
       "    u'_type': u'my-type'},\n",
       "   {u'_id': u'JMatyW8BbundlQk4fUZB',\n",
       "    u'_index': u'my-index',\n",
       "    u'_score': 1.0,\n",
       "    u'_source': {u'CODESTAB': u'2755157',\n",
       "     u'ESCMAEAGR1': u'12',\n",
       "     u'IDADEMAE': u'23',\n",
       "     u'NUMERODN': u'72391035'},\n",
       "    u'_type': u'my-type'},\n",
       "   {u'_id': u'KsatyW8BbundlQk4fUZB',\n",
       "    u'_index': u'my-index',\n",
       "    u'_score': 1.0,\n",
       "    u'_source': {u'CODESTAB': u'2777770',\n",
       "     u'ESCMAEAGR1': u'06',\n",
       "     u'IDADEMAE': u'28',\n",
       "     u'NUMERODN': u'69726554'},\n",
       "    u'_type': u'my-type'},\n",
       "   {u'_id': u'LMatyW8BbundlQk4fUZB',\n",
       "    u'_index': u'my-index',\n",
       "    u'_score': 1.0,\n",
       "    u'_source': {u'CODESTAB': u'2777770',\n",
       "     u'ESCMAEAGR1': u'06',\n",
       "     u'IDADEMAE': u'21',\n",
       "     u'NUMERODN': u'69726563'},\n",
       "    u'_type': u'my-type'},\n",
       "   {u'_id': u'MMatyW8BbundlQk4fUZB',\n",
       "    u'_index': u'my-index',\n",
       "    u'_score': 1.0,\n",
       "    u'_source': {u'CODESTAB': u'2365146',\n",
       "     u'ESCMAEAGR1': u'05',\n",
       "     u'IDADEMAE': u'24',\n",
       "     u'NUMERODN': u'71680495'},\n",
       "    u'_type': u'my-type'}],\n",
       "  u'max_score': 1.0,\n",
       "  u'total': {u'relation': u'eq', u'value': 8}},\n",
       " u'timed_out': False,\n",
       " u'took': 31}"
      ]
     },
     "execution_count": 73,
     "metadata": {},
     "output_type": "execute_result"
    }
   ],
   "source": [
    "res"
   ]
  },
  {
   "cell_type": "markdown",
   "metadata": {},
   "source": [
    "### busca lógica"
   ]
  },
  {
   "cell_type": "code",
   "execution_count": 75,
   "metadata": {},
   "outputs": [],
   "source": [
    "content = {\n",
    "    \"query\": {\n",
    "        \"bool\": {\n",
    "            \"must\": [\n",
    "                {\n",
    "                    \"term\": {\n",
    "                        \"IDADEMAE\": 21\n",
    "                    }\n",
    "                },\n",
    "                {\n",
    "                    \"term\": {\n",
    "                        \"ESCMAEAGR1\": \"06\"\n",
    "                    }\n",
    "                }\n",
    "            ]\n",
    "        }\n",
    "    }\n",
    "}"
   ]
  },
  {
   "cell_type": "code",
   "execution_count": 76,
   "metadata": {},
   "outputs": [],
   "source": [
    "res = es.search(index=\"my-index\", body=content)"
   ]
  },
  {
   "cell_type": "code",
   "execution_count": 77,
   "metadata": {},
   "outputs": [
    {
     "data": {
      "text/plain": [
       "{u'_shards': {u'failed': 0, u'skipped': 0, u'successful': 1, u'total': 1},\n",
       " u'hits': {u'hits': [{u'_id': u'LMatyW8BbundlQk4fUZB',\n",
       "    u'_index': u'my-index',\n",
       "    u'_score': 3.6686769,\n",
       "    u'_source': {u'CODESTAB': u'2777770',\n",
       "     u'ESCMAEAGR1': u'06',\n",
       "     u'IDADEMAE': u'21',\n",
       "     u'NUMERODN': u'69726563'},\n",
       "    u'_type': u'my-type'}],\n",
       "  u'max_score': 3.6686769,\n",
       "  u'total': {u'relation': u'eq', u'value': 1}},\n",
       " u'timed_out': False,\n",
       " u'took': 5}"
      ]
     },
     "execution_count": 77,
     "metadata": {},
     "output_type": "execute_result"
    }
   ],
   "source": [
    "res"
   ]
  },
  {
   "cell_type": "markdown",
   "metadata": {},
   "source": [
    "### searching methods"
   ]
  },
  {
   "cell_type": "code",
   "execution_count": 46,
   "metadata": {},
   "outputs": [],
   "source": [
    "def buscaExata(numerodn, codestab, idademae, escmaeagr1, startId=0): \n",
    "    \n",
    "    global es\n",
    "    \n",
    "    content = {\n",
    "        'size': 30,\n",
    "        'query': {\n",
    "            'bool': {\n",
    "                'must': [\n",
    "                    {'match_phrase': {'NUMERODN': '\"' + numerodn + '\"'}},\n",
    "                    {'match_phrase': {'CODESTAB': '\"' + codestab + '\"'}}, \n",
    "                    {'match': {'IDADEMAE': idademae}},\n",
    "                    {'match': {'ESCMAEAGR1': escmaeagr1}}\n",
    "                ]\n",
    "            }\n",
    "        }\n",
    "    }\n",
    "    force = True\n",
    "    while force:\n",
    "        try:\n",
    "            res = es.search(index=\"my-index\", body=content)\n",
    "            force = False\n",
    "        except:\n",
    "            pass\n",
    "    return res['hits']['hits']"
   ]
  },
  {
   "cell_type": "code",
   "execution_count": 52,
   "metadata": {},
   "outputs": [],
   "source": [
    "def buscaAproximada(numerodn, codestab, idademae, escmaeagr1, startId=0):\n",
    "    \n",
    "    global es\n",
    "    \n",
    "    content = {\n",
    "        'size': 100,\n",
    "        'query': {\n",
    "            'bool': {\n",
    "                'should': [\n",
    "                    {'match': {'NUMERODN': {'query': numerodn, 'fuzziness':'AUTO', 'operator':'or', 'boost':'2'}}},\n",
    "                    {'match': {'CODESTAB': {'query': codestab, 'fuzziness':'AUTO', 'operator':'or', 'boost':'2'}}},\n",
    "                    {'match': {'IDADEMAE': {'query': idademae, 'fuzziness':'AUTO', 'operator':'or', 'boost':'0.5'}}},\n",
    "                    {'match': {'ESCMAEAGR1': {'query': escmaeagr1, 'fuzziness':'AUTO', 'operator':'or'}}}\n",
    "                ]\n",
    "            }\n",
    "        }\n",
    "    }\n",
    "    force = True\n",
    "    while force:\n",
    "        try:\n",
    "            res = es.search(index=\"my-index\", body=content)\n",
    "            force = False\n",
    "        except:\n",
    "            pass\n",
    "    return res['hits']['hits']"
   ]
  },
  {
   "cell_type": "code",
   "execution_count": 53,
   "metadata": {},
   "outputs": [
    {
     "data": {
      "text/plain": [
       "[{u'_id': u'H8atyW8BbundlQk4fUZA',\n",
       "  u'_index': u'my-index',\n",
       "  u'_score': 10.55623,\n",
       "  u'_source': {u'CODESTAB': u'2786095',\n",
       "   u'ESCMAEAGR1': u'01',\n",
       "   u'IDADEMAE': u'25',\n",
       "   u'NUMERODN': u'72390242'},\n",
       "  u'_type': u'my-type'}]"
      ]
     },
     "execution_count": 53,
     "metadata": {},
     "output_type": "execute_result"
    }
   ],
   "source": [
    "buscaExata(\"72390242\", \"2786095\", \"25\", \"01\")"
   ]
  },
  {
   "cell_type": "code",
   "execution_count": 63,
   "metadata": {},
   "outputs": [
    {
     "data": {
      "text/plain": [
       "[]"
      ]
     },
     "execution_count": 63,
     "metadata": {},
     "output_type": "execute_result"
    }
   ],
   "source": [
    "# um campo modificado (note que o retorno é vazio)\n",
    "buscaExata(\"72390242\", \"2786095\", \"33\", \"01\")"
   ]
  },
  {
   "cell_type": "code",
   "execution_count": 57,
   "metadata": {},
   "outputs": [
    {
     "data": {
      "text/plain": [
       "[{u'_id': u'H8atyW8BbundlQk4fUZA',\n",
       "  u'_index': u'my-index',\n",
       "  u'_score': 9.236701,\n",
       "  u'_source': {u'CODESTAB': u'2786095',\n",
       "   u'ESCMAEAGR1': u'01',\n",
       "   u'IDADEMAE': u'25',\n",
       "   u'NUMERODN': u'72390242'},\n",
       "  u'_type': u'my-type'},\n",
       " {u'_id': u'I8atyW8BbundlQk4fUZB',\n",
       "  u'_index': u'my-index',\n",
       "  u'_score': 5.278115,\n",
       "  u'_source': {u'CODESTAB': u'7373120',\n",
       "   u'ESCMAEAGR1': u'12',\n",
       "   u'IDADEMAE': u'34',\n",
       "   u'NUMERODN': u'72392109'},\n",
       "  u'_type': u'my-type'}]"
      ]
     },
     "execution_count": 57,
     "metadata": {},
     "output_type": "execute_result"
    }
   ],
   "source": [
    "buscaAproximada(\"72390242\", \"2786095\", \"25\", \"01\")"
   ]
  },
  {
   "cell_type": "code",
   "execution_count": 65,
   "metadata": {},
   "outputs": [
    {
     "data": {
      "text/plain": [
       "[{u'_id': u'H8atyW8BbundlQk4fUZA',\n",
       "  u'_index': u'my-index',\n",
       "  u'_score': 13.195287,\n",
       "  u'_source': {u'CODESTAB': u'2786095',\n",
       "   u'ESCMAEAGR1': u'01',\n",
       "   u'IDADEMAE': u'25',\n",
       "   u'NUMERODN': u'72390242'},\n",
       "  u'_type': u'my-type'},\n",
       " {u'_id': u'KMatyW8BbundlQk4fUZB',\n",
       "  u'_index': u'my-index',\n",
       "  u'_score': 1.0641159,\n",
       "  u'_source': {u'CODESTAB': u'2777770',\n",
       "   u'ESCMAEAGR1': u'08',\n",
       "   u'IDADEMAE': u'33',\n",
       "   u'NUMERODN': u'69726416'},\n",
       "  u'_type': u'my-type'},\n",
       " {u'_id': u'KcatyW8BbundlQk4fUZB',\n",
       "  u'_index': u'my-index',\n",
       "  u'_score': 1.0641159,\n",
       "  u'_source': {u'CODESTAB': u'2777770',\n",
       "   u'ESCMAEAGR1': u'06',\n",
       "   u'IDADEMAE': u'33',\n",
       "   u'NUMERODN': u'69726448'},\n",
       "  u'_type': u'my-type'}]"
      ]
     },
     "execution_count": 65,
     "metadata": {},
     "output_type": "execute_result"
    }
   ],
   "source": [
    "# # um campo modificado (mais de um candidato é retornado)\n",
    "buscaAproximada(\"72390242\", \"2786095\", \"33\", \"01\")"
   ]
  },
  {
   "cell_type": "code",
   "execution_count": 62,
   "metadata": {},
   "outputs": [
    {
     "name": "stdout",
     "output_type": "stream",
     "text": [
      "3\n"
     ]
    }
   ],
   "source": [
    "print len(buscaAproximada(\"72390242\", \"2786095\", \"33\", \"01\"))"
   ]
  }
 ],
 "metadata": {
  "kernelspec": {
   "display_name": "Python 2",
   "language": "python",
   "name": "python2"
  },
  "language_info": {
   "codemirror_mode": {
    "name": "ipython",
    "version": 2
   },
   "file_extension": ".py",
   "mimetype": "text/x-python",
   "name": "python",
   "nbconvert_exporter": "python",
   "pygments_lexer": "ipython2",
   "version": "2.7.16"
  }
 },
 "nbformat": 4,
 "nbformat_minor": 2
}
