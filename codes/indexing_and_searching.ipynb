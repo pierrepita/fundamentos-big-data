{
 "cells": [
  {
   "cell_type": "code",
   "execution_count": 7,
   "metadata": {},
   "outputs": [],
   "source": [
    "# !pip install elasticsearch\n",
    "# !pip install csv2es\n",
    "# !pip install requests\n",
    "# !python -m pip install elasticsearch\n",
    "from elasticsearch import helpers, Elasticsearch\n",
    "import elasticsearch\n",
    "import csv\n",
    "import csv2es"
   ]
  },
  {
   "cell_type": "code",
   "execution_count": 8,
   "metadata": {},
   "outputs": [],
   "source": [
    "es = Elasticsearch()"
   ]
  },
  {
   "cell_type": "code",
   "execution_count": 2,
   "metadata": {},
   "outputs": [],
   "source": [
    "df = spark.read.csv('DNPBA2017.csv', header=True)"
   ]
  },
  {
   "cell_type": "code",
   "execution_count": 3,
   "metadata": {},
   "outputs": [],
   "source": [
    "df_total = df.toPandas()"
   ]
  },
  {
   "cell_type": "code",
   "execution_count": 5,
   "metadata": {},
   "outputs": [],
   "source": [
    "df_total.to_csv('DNPBA2017_total_es.csv', index=False)"
   ]
  },
  {
   "cell_type": "code",
   "execution_count": null,
   "metadata": {},
   "outputs": [],
   "source": []
  },
  {
   "cell_type": "code",
   "execution_count": 22,
   "metadata": {},
   "outputs": [],
   "source": [
    "df = df.select(['NUMERODN', 'CODESTAB', 'IDADEMAE', 'ESCMAEAGR1']).limit(20).toPandas()"
   ]
  },
  {
   "cell_type": "code",
   "execution_count": 23,
   "metadata": {},
   "outputs": [
    {
     "data": {
      "text/html": [
       "<div>\n",
       "<style scoped>\n",
       "    .dataframe tbody tr th:only-of-type {\n",
       "        vertical-align: middle;\n",
       "    }\n",
       "\n",
       "    .dataframe tbody tr th {\n",
       "        vertical-align: top;\n",
       "    }\n",
       "\n",
       "    .dataframe thead th {\n",
       "        text-align: right;\n",
       "    }\n",
       "</style>\n",
       "<table border=\"1\" class=\"dataframe\">\n",
       "  <thead>\n",
       "    <tr style=\"text-align: right;\">\n",
       "      <th></th>\n",
       "      <th>NUMERODN</th>\n",
       "      <th>CODESTAB</th>\n",
       "      <th>IDADEMAE</th>\n",
       "      <th>ESCMAEAGR1</th>\n",
       "    </tr>\n",
       "  </thead>\n",
       "  <tbody>\n",
       "    <tr>\n",
       "      <th>0</th>\n",
       "      <td>72390242</td>\n",
       "      <td>2786095</td>\n",
       "      <td>25</td>\n",
       "      <td>01</td>\n",
       "    </tr>\n",
       "    <tr>\n",
       "      <th>1</th>\n",
       "      <td>72396320</td>\n",
       "      <td>NA</td>\n",
       "      <td>20</td>\n",
       "      <td>02</td>\n",
       "    </tr>\n",
       "    <tr>\n",
       "      <th>2</th>\n",
       "      <td>72374657</td>\n",
       "      <td>NA</td>\n",
       "      <td>20</td>\n",
       "      <td>04</td>\n",
       "    </tr>\n",
       "    <tr>\n",
       "      <th>3</th>\n",
       "      <td>72376065</td>\n",
       "      <td>2755157</td>\n",
       "      <td>28</td>\n",
       "      <td>06</td>\n",
       "    </tr>\n",
       "    <tr>\n",
       "      <th>4</th>\n",
       "      <td>72392109</td>\n",
       "      <td>7373120</td>\n",
       "      <td>34</td>\n",
       "      <td>12</td>\n",
       "    </tr>\n",
       "    <tr>\n",
       "      <th>5</th>\n",
       "      <td>72391035</td>\n",
       "      <td>2755157</td>\n",
       "      <td>23</td>\n",
       "      <td>12</td>\n",
       "    </tr>\n",
       "    <tr>\n",
       "      <th>6</th>\n",
       "      <td>72389213</td>\n",
       "      <td>2755157</td>\n",
       "      <td>30</td>\n",
       "      <td>04</td>\n",
       "    </tr>\n",
       "    <tr>\n",
       "      <th>7</th>\n",
       "      <td>75447854</td>\n",
       "      <td>2755157</td>\n",
       "      <td>16</td>\n",
       "      <td>04</td>\n",
       "    </tr>\n",
       "    <tr>\n",
       "      <th>8</th>\n",
       "      <td>69747564</td>\n",
       "      <td>2364816</td>\n",
       "      <td>17</td>\n",
       "      <td>02</td>\n",
       "    </tr>\n",
       "    <tr>\n",
       "      <th>9</th>\n",
       "      <td>69726416</td>\n",
       "      <td>2777770</td>\n",
       "      <td>33</td>\n",
       "      <td>08</td>\n",
       "    </tr>\n",
       "    <tr>\n",
       "      <th>10</th>\n",
       "      <td>69726448</td>\n",
       "      <td>2777770</td>\n",
       "      <td>33</td>\n",
       "      <td>06</td>\n",
       "    </tr>\n",
       "    <tr>\n",
       "      <th>11</th>\n",
       "      <td>69726554</td>\n",
       "      <td>2777770</td>\n",
       "      <td>28</td>\n",
       "      <td>06</td>\n",
       "    </tr>\n",
       "    <tr>\n",
       "      <th>12</th>\n",
       "      <td>69726562</td>\n",
       "      <td>2777770</td>\n",
       "      <td>18</td>\n",
       "      <td>06</td>\n",
       "    </tr>\n",
       "    <tr>\n",
       "      <th>13</th>\n",
       "      <td>69726563</td>\n",
       "      <td>2777770</td>\n",
       "      <td>21</td>\n",
       "      <td>06</td>\n",
       "    </tr>\n",
       "    <tr>\n",
       "      <th>14</th>\n",
       "      <td>69726693</td>\n",
       "      <td>2777770</td>\n",
       "      <td>34</td>\n",
       "      <td>06</td>\n",
       "    </tr>\n",
       "    <tr>\n",
       "      <th>15</th>\n",
       "      <td>60859490</td>\n",
       "      <td>2668718</td>\n",
       "      <td>16</td>\n",
       "      <td>06</td>\n",
       "    </tr>\n",
       "    <tr>\n",
       "      <th>16</th>\n",
       "      <td>71680424</td>\n",
       "      <td>2365146</td>\n",
       "      <td>19</td>\n",
       "      <td>12</td>\n",
       "    </tr>\n",
       "    <tr>\n",
       "      <th>17</th>\n",
       "      <td>71680495</td>\n",
       "      <td>2365146</td>\n",
       "      <td>24</td>\n",
       "      <td>05</td>\n",
       "    </tr>\n",
       "    <tr>\n",
       "      <th>18</th>\n",
       "      <td>71681752</td>\n",
       "      <td>NA</td>\n",
       "      <td>39</td>\n",
       "      <td>04</td>\n",
       "    </tr>\n",
       "    <tr>\n",
       "      <th>19</th>\n",
       "      <td>71684502</td>\n",
       "      <td>3205282</td>\n",
       "      <td>35</td>\n",
       "      <td>05</td>\n",
       "    </tr>\n",
       "  </tbody>\n",
       "</table>\n",
       "</div>"
      ],
      "text/plain": [
       "    NUMERODN CODESTAB IDADEMAE ESCMAEAGR1\n",
       "0   72390242  2786095       25         01\n",
       "1   72396320       NA       20         02\n",
       "2   72374657       NA       20         04\n",
       "3   72376065  2755157       28         06\n",
       "4   72392109  7373120       34         12\n",
       "5   72391035  2755157       23         12\n",
       "6   72389213  2755157       30         04\n",
       "7   75447854  2755157       16         04\n",
       "8   69747564  2364816       17         02\n",
       "9   69726416  2777770       33         08\n",
       "10  69726448  2777770       33         06\n",
       "11  69726554  2777770       28         06\n",
       "12  69726562  2777770       18         06\n",
       "13  69726563  2777770       21         06\n",
       "14  69726693  2777770       34         06\n",
       "15  60859490  2668718       16         06\n",
       "16  71680424  2365146       19         12\n",
       "17  71680495  2365146       24         05\n",
       "18  71681752       NA       39         04\n",
       "19  71684502  3205282       35         05"
      ]
     },
     "execution_count": 23,
     "metadata": {},
     "output_type": "execute_result"
    }
   ],
   "source": [
    "df"
   ]
  },
  {
   "cell_type": "code",
   "execution_count": 24,
   "metadata": {},
   "outputs": [],
   "source": [
    "df.to_csv('DNPBA2017_es.csv', index=False)"
   ]
  },
  {
   "cell_type": "markdown",
   "metadata": {},
   "source": [
    "### indexng"
   ]
  },
  {
   "cell_type": "code",
   "execution_count": 6,
   "metadata": {},
   "outputs": [
    {
     "ename": "NameError",
     "evalue": "name 'es' is not defined",
     "output_type": "error",
     "traceback": [
      "\u001b[0;31m---------------------------------------------------------------------------\u001b[0m",
      "\u001b[0;31mNameError\u001b[0m                                 Traceback (most recent call last)",
      "\u001b[0;32m<ipython-input-6-36c4bb8006d4>\u001b[0m in \u001b[0;36m<module>\u001b[0;34m\u001b[0m\n\u001b[1;32m      1\u001b[0m \u001b[0;32mwith\u001b[0m \u001b[0mopen\u001b[0m\u001b[0;34m(\u001b[0m\u001b[0;34m'DNPBA2017_total_es.csv'\u001b[0m\u001b[0;34m)\u001b[0m \u001b[0;32mas\u001b[0m \u001b[0mf\u001b[0m\u001b[0;34m:\u001b[0m\u001b[0;34m\u001b[0m\u001b[0;34m\u001b[0m\u001b[0m\n\u001b[1;32m      2\u001b[0m     \u001b[0mreader\u001b[0m \u001b[0;34m=\u001b[0m \u001b[0mcsv\u001b[0m\u001b[0;34m.\u001b[0m\u001b[0mDictReader\u001b[0m\u001b[0;34m(\u001b[0m\u001b[0mf\u001b[0m\u001b[0;34m)\u001b[0m\u001b[0;34m\u001b[0m\u001b[0;34m\u001b[0m\u001b[0m\n\u001b[0;32m----> 3\u001b[0;31m     \u001b[0mhelpers\u001b[0m\u001b[0;34m.\u001b[0m\u001b[0mbulk\u001b[0m\u001b[0;34m(\u001b[0m\u001b[0mes\u001b[0m\u001b[0;34m,\u001b[0m \u001b[0mreader\u001b[0m\u001b[0;34m,\u001b[0m \u001b[0mindex\u001b[0m\u001b[0;34m=\u001b[0m\u001b[0;34m'dnpba2017_total'\u001b[0m\u001b[0;34m,\u001b[0m \u001b[0mdoc_type\u001b[0m\u001b[0;34m=\u001b[0m\u001b[0;34m'csv'\u001b[0m\u001b[0;34m)\u001b[0m\u001b[0;34m\u001b[0m\u001b[0;34m\u001b[0m\u001b[0m\n\u001b[0m\u001b[1;32m      4\u001b[0m \u001b[0;34m\u001b[0m\u001b[0m\n\u001b[1;32m      5\u001b[0m \u001b[0;31m# ler indices no linux com: curl 'localhost:9200/_cat/indices?v'\u001b[0m\u001b[0;34m\u001b[0m\u001b[0;34m\u001b[0m\u001b[0;34m\u001b[0m\u001b[0m\n",
      "\u001b[0;31mNameError\u001b[0m: name 'es' is not defined"
     ]
    }
   ],
   "source": [
    "with open('DNPBA2017_es.csv') as f:\n",
    "    reader = csv.DictReader(f)\n",
    "    helpers.bulk(es, reader, index='my-index', doc_type='my-type')\n",
    "    \n",
    "# ler indices no linux com: curl 'localhost:9200/_cat/indices?v'"
   ]
  },
  {
   "cell_type": "code",
   "execution_count": 11,
   "metadata": {},
   "outputs": [],
   "source": [
    "with open('DNPBA2017_total_es.csv') as f:\n",
    "    reader = csv.DictReader(f)\n",
    "    helpers.bulk(es, reader, index='dnpba2017_total', doc_type='csv')\n",
    "    \n",
    "# ler indices no linux com: curl 'localhost:9200/_cat/indices?v'"
   ]
  },
  {
   "cell_type": "markdown",
   "metadata": {},
   "source": [
    "### buscando termo"
   ]
  },
  {
   "cell_type": "code",
   "execution_count": 12,
   "metadata": {},
   "outputs": [],
   "source": [
    "content = {\n",
    "    \"query\": {\n",
    "        \"term\": {\n",
    "            \"CODESTAB\": \"2786095\"\n",
    "         }\n",
    "     },\n",
    "}"
   ]
  },
  {
   "cell_type": "code",
   "execution_count": 13,
   "metadata": {},
   "outputs": [],
   "source": [
    "res = es.search(index=\"my-index\", body=content)"
   ]
  },
  {
   "cell_type": "code",
   "execution_count": 25,
   "metadata": {},
   "outputs": [
    {
     "data": {
      "text/plain": [
       "[{'_index': 'my-index',\n",
       "  '_type': 'my-type',\n",
       "  '_id': 'HH5UancBCXt2NfhZ59dl',\n",
       "  '_score': 2.6390574,\n",
       "  '_source': {'NUMERODN': '72390242',\n",
       "   'CODESTAB': '2786095',\n",
       "   'IDADEMAE': '25',\n",
       "   'ESCMAEAGR1': '01'}}]"
      ]
     },
     "execution_count": 25,
     "metadata": {},
     "output_type": "execute_result"
    }
   ],
   "source": [
    "res['hits']['hits']"
   ]
  },
  {
   "cell_type": "markdown",
   "metadata": {},
   "source": [
    "### buscando um intervalo"
   ]
  },
  {
   "cell_type": "code",
   "execution_count": 29,
   "metadata": {},
   "outputs": [],
   "source": [
    "content = {\n",
    "    \"query\": {\n",
    "        \"range\": {\n",
    "            \"IDADEMAE\": {\n",
    "                \"gte\": 20,\n",
    "                \"lt\": 30\n",
    "            }\n",
    "        }\n",
    "    }\n",
    "}"
   ]
  },
  {
   "cell_type": "code",
   "execution_count": 30,
   "metadata": {},
   "outputs": [],
   "source": [
    "res = es.search(index=\"my-index\", body=content)"
   ]
  },
  {
   "cell_type": "code",
   "execution_count": 1,
   "metadata": {},
   "outputs": [
    {
     "ename": "NameError",
     "evalue": "name 'res' is not defined",
     "output_type": "error",
     "traceback": [
      "\u001b[0;31m---------------------------------------------------------------------------\u001b[0m",
      "\u001b[0;31mNameError\u001b[0m                                 Traceback (most recent call last)",
      "\u001b[0;32m<ipython-input-1-b8d35f57824a>\u001b[0m in \u001b[0;36m<module>\u001b[0;34m\u001b[0m\n\u001b[0;32m----> 1\u001b[0;31m \u001b[0mres\u001b[0m\u001b[0;34m[\u001b[0m\u001b[0;34m'hits'\u001b[0m\u001b[0;34m]\u001b[0m\u001b[0;34m\u001b[0m\u001b[0;34m\u001b[0m\u001b[0m\n\u001b[0m",
      "\u001b[0;31mNameError\u001b[0m: name 'res' is not defined"
     ]
    }
   ],
   "source": [
    "res['hits']"
   ]
  },
  {
   "cell_type": "markdown",
   "metadata": {},
   "source": [
    "### busca lógica"
   ]
  },
  {
   "cell_type": "code",
   "execution_count": 75,
   "metadata": {},
   "outputs": [],
   "source": [
    "content = {\n",
    "    \"query\": {\n",
    "        \"bool\": {\n",
    "            \"must\": [\n",
    "                {\n",
    "                    \"term\": {\n",
    "                        \"IDADEMAE\": 21\n",
    "                    }\n",
    "                },\n",
    "                {\n",
    "                    \"term\": {\n",
    "                        \"ESCMAEAGR1\": \"06\"\n",
    "                    }\n",
    "                }\n",
    "            ]\n",
    "        }\n",
    "    }\n",
    "}"
   ]
  },
  {
   "cell_type": "code",
   "execution_count": 76,
   "metadata": {},
   "outputs": [],
   "source": [
    "res = es.search(index=\"my-index\", body=content)"
   ]
  },
  {
   "cell_type": "code",
   "execution_count": 77,
   "metadata": {},
   "outputs": [
    {
     "data": {
      "text/plain": [
       "{u'_shards': {u'failed': 0, u'skipped': 0, u'successful': 1, u'total': 1},\n",
       " u'hits': {u'hits': [{u'_id': u'LMatyW8BbundlQk4fUZB',\n",
       "    u'_index': u'my-index',\n",
       "    u'_score': 3.6686769,\n",
       "    u'_source': {u'CODESTAB': u'2777770',\n",
       "     u'ESCMAEAGR1': u'06',\n",
       "     u'IDADEMAE': u'21',\n",
       "     u'NUMERODN': u'69726563'},\n",
       "    u'_type': u'my-type'}],\n",
       "  u'max_score': 3.6686769,\n",
       "  u'total': {u'relation': u'eq', u'value': 1}},\n",
       " u'timed_out': False,\n",
       " u'took': 5}"
      ]
     },
     "execution_count": 77,
     "metadata": {},
     "output_type": "execute_result"
    }
   ],
   "source": [
    "res"
   ]
  },
  {
   "cell_type": "markdown",
   "metadata": {},
   "source": [
    "### searching methods"
   ]
  },
  {
   "cell_type": "code",
   "execution_count": 33,
   "metadata": {},
   "outputs": [],
   "source": [
    "def buscaExata(numerodn, codestab, idademae, escmaeagr1, startId=0): \n",
    "    \n",
    "    global es\n",
    "    \n",
    "    content = {\n",
    "        'size': 30,\n",
    "        'query': {\n",
    "            'bool': {\n",
    "                'must': [\n",
    "                    {'match_phrase': {'NUMERODN': '\"' + numerodn + '\"'}},\n",
    "                    {'match_phrase': {'CODESTAB': '\"' + codestab + '\"'}}, \n",
    "                    {'match': {'IDADEMAE': idademae}},\n",
    "                    {'match': {'ESCMAEAGR1': escmaeagr1}}\n",
    "                ]\n",
    "            }\n",
    "        }\n",
    "    }\n",
    "    force = True\n",
    "    while force:\n",
    "        try:\n",
    "            res = es.search(index=\"my-index\", body=content)\n",
    "            force = False\n",
    "        except:\n",
    "            pass\n",
    "    return res['hits']['hits']"
   ]
  },
  {
   "cell_type": "code",
   "execution_count": 34,
   "metadata": {},
   "outputs": [],
   "source": [
    "def buscaAproximada(numerodn, codestab, idademae, escmaeagr1, startId=0):\n",
    "    \n",
    "    global es\n",
    "    \n",
    "    content = {\n",
    "        'size': 100,\n",
    "        'query': {\n",
    "            'bool': {\n",
    "                'should': [\n",
    "                    {'match': {'NUMERODN': {'query': numerodn, 'fuzziness':'AUTO', 'operator':'or', 'boost':'2'}}},\n",
    "                    {'match': {'CODESTAB': {'query': codestab, 'fuzziness':'AUTO', 'operator':'or', 'boost':'2'}}},\n",
    "                    {'match': {'IDADEMAE': {'query': idademae, 'fuzziness':'AUTO', 'operator':'or', 'boost':'0.5'}}},\n",
    "                    {'match': {'ESCMAEAGR1': {'query': escmaeagr1, 'fuzziness':'AUTO', 'operator':'or'}}}\n",
    "                ]\n",
    "            }\n",
    "        }\n",
    "    }\n",
    "    force = True\n",
    "    while force:\n",
    "        try:\n",
    "            res = es.search(index=\"my-index\", body=content)\n",
    "            force = False\n",
    "        except:\n",
    "            pass\n",
    "    return res['hits']['hits']"
   ]
  },
  {
   "cell_type": "code",
   "execution_count": 35,
   "metadata": {},
   "outputs": [
    {
     "data": {
      "text/plain": [
       "[{'_index': 'my-index',\n",
       "  '_type': 'my-type',\n",
       "  '_id': 'HH5UancBCXt2NfhZ59dl',\n",
       "  '_score': 10.55623,\n",
       "  '_source': {'NUMERODN': '72390242',\n",
       "   'CODESTAB': '2786095',\n",
       "   'IDADEMAE': '25',\n",
       "   'ESCMAEAGR1': '01'}}]"
      ]
     },
     "execution_count": 35,
     "metadata": {},
     "output_type": "execute_result"
    }
   ],
   "source": [
    "buscaExata(\"72390242\", \"2786095\", \"25\", \"01\")"
   ]
  },
  {
   "cell_type": "code",
   "execution_count": 36,
   "metadata": {},
   "outputs": [
    {
     "data": {
      "text/plain": [
       "[]"
      ]
     },
     "execution_count": 36,
     "metadata": {},
     "output_type": "execute_result"
    }
   ],
   "source": [
    "# um campo modificado (note que o retorno é vazio)\n",
    "buscaExata(\"72390242\", \"2786095\", \"33\", \"01\")"
   ]
  },
  {
   "cell_type": "code",
   "execution_count": 37,
   "metadata": {},
   "outputs": [
    {
     "data": {
      "text/plain": [
       "[{'_index': 'my-index',\n",
       "  '_type': 'my-type',\n",
       "  '_id': 'HH5UancBCXt2NfhZ59dl',\n",
       "  '_score': 14.514815,\n",
       "  '_source': {'NUMERODN': '72390242',\n",
       "   'CODESTAB': '2786095',\n",
       "   'IDADEMAE': '25',\n",
       "   'ESCMAEAGR1': '01'}}]"
      ]
     },
     "execution_count": 37,
     "metadata": {},
     "output_type": "execute_result"
    }
   ],
   "source": [
    "buscaAproximada(\"72390242\", \"2786095\", \"25\", \"01\")"
   ]
  },
  {
   "cell_type": "code",
   "execution_count": 38,
   "metadata": {},
   "outputs": [
    {
     "data": {
      "text/plain": [
       "[{'_index': 'my-index',\n",
       "  '_type': 'my-type',\n",
       "  '_id': 'HH5UancBCXt2NfhZ59dl',\n",
       "  '_score': 13.195287,\n",
       "  '_source': {'NUMERODN': '72390242',\n",
       "   'CODESTAB': '2786095',\n",
       "   'IDADEMAE': '25',\n",
       "   'ESCMAEAGR1': '01'}},\n",
       " {'_index': 'my-index',\n",
       "  '_type': 'my-type',\n",
       "  '_id': 'JX5UancBCXt2NfhZ59dl',\n",
       "  '_score': 1.0641158,\n",
       "  '_source': {'NUMERODN': '69726416',\n",
       "   'CODESTAB': '2777770',\n",
       "   'IDADEMAE': '33',\n",
       "   'ESCMAEAGR1': '08'}},\n",
       " {'_index': 'my-index',\n",
       "  '_type': 'my-type',\n",
       "  '_id': 'Jn5UancBCXt2NfhZ59dl',\n",
       "  '_score': 1.0641158,\n",
       "  '_source': {'NUMERODN': '69726448',\n",
       "   'CODESTAB': '2777770',\n",
       "   'IDADEMAE': '33',\n",
       "   'ESCMAEAGR1': '06'}}]"
      ]
     },
     "execution_count": 38,
     "metadata": {},
     "output_type": "execute_result"
    }
   ],
   "source": [
    "# # um campo modificado (mais de um candidato é retornado)\n",
    "buscaAproximada(\"72390242\", \"2786095\", \"33\", \"01\")"
   ]
  },
  {
   "cell_type": "code",
   "execution_count": 39,
   "metadata": {},
   "outputs": [
    {
     "name": "stdout",
     "output_type": "stream",
     "text": [
      "3\n"
     ]
    }
   ],
   "source": [
    "print(len(buscaAproximada(\"72390242\", \"2786095\", \"33\", \"01\")))"
   ]
  }
 ],
 "metadata": {
  "kernelspec": {
   "display_name": "Python 3",
   "language": "python",
   "name": "python3"
  },
  "language_info": {
   "codemirror_mode": {
    "name": "ipython",
    "version": 3
   },
   "file_extension": ".py",
   "mimetype": "text/x-python",
   "name": "python",
   "nbconvert_exporter": "python",
   "pygments_lexer": "ipython3",
   "version": "3.8.5"
  }
 },
 "nbformat": 4,
 "nbformat_minor": 4
}
