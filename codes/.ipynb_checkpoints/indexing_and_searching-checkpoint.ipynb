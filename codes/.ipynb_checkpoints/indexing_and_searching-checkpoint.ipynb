{
 "cells": [
  {
   "cell_type": "code",
   "execution_count": 24,
   "metadata": {},
   "outputs": [],
   "source": [
    "from elasticsearch import helpers, Elasticsearch\n",
    "import elasticsearch"
   ]
  },
  {
   "cell_type": "code",
   "execution_count": 25,
   "metadata": {},
   "outputs": [],
   "source": [
    "es = Elasticsearch('http://localhost:9200', max_retries=10, retry_on_timeout=True)"
   ]
  },
  {
   "cell_type": "code",
   "execution_count": 26,
   "metadata": {},
   "outputs": [
    {
     "data": {
      "text/html": [
       "<div>\n",
       "<style scoped>\n",
       "    .dataframe tbody tr th:only-of-type {\n",
       "        vertical-align: middle;\n",
       "    }\n",
       "\n",
       "    .dataframe tbody tr th {\n",
       "        vertical-align: top;\n",
       "    }\n",
       "\n",
       "    .dataframe thead th {\n",
       "        text-align: right;\n",
       "    }\n",
       "</style>\n",
       "<table border=\"1\" class=\"dataframe\">\n",
       "  <thead>\n",
       "    <tr style=\"text-align: right;\">\n",
       "      <th></th>\n",
       "      <th>ID</th>\n",
       "      <th>NUMERODN</th>\n",
       "      <th>CODINST</th>\n",
       "      <th>ORIGEM</th>\n",
       "      <th>NUMERODV</th>\n",
       "      <th>PREFIXODN</th>\n",
       "      <th>CODESTAB</th>\n",
       "      <th>CODMUNNASC</th>\n",
       "      <th>LOCNASC</th>\n",
       "      <th>IDADEMAE</th>\n",
       "      <th>...</th>\n",
       "      <th>TPFUNCRESP</th>\n",
       "      <th>TPDOCRESP</th>\n",
       "      <th>DTDECLARAC</th>\n",
       "      <th>ESCMAEAGR1</th>\n",
       "      <th>STDNEPIDEM</th>\n",
       "      <th>STDNNOVA</th>\n",
       "      <th>CODPAISRES</th>\n",
       "      <th>TPROBSON</th>\n",
       "      <th>PARIDADE</th>\n",
       "      <th>KOTELCHUCK</th>\n",
       "    </tr>\n",
       "  </thead>\n",
       "  <tbody>\n",
       "    <tr>\n",
       "      <th>0</th>\n",
       "      <td>1</td>\n",
       "      <td>72390242</td>\n",
       "      <td>ETO1721000001</td>\n",
       "      <td>1</td>\n",
       "      <td>0</td>\n",
       "      <td>30</td>\n",
       "      <td>2786095</td>\n",
       "      <td>170700</td>\n",
       "      <td>1</td>\n",
       "      <td>25</td>\n",
       "      <td>...</td>\n",
       "      <td>2</td>\n",
       "      <td>3</td>\n",
       "      <td>24012017</td>\n",
       "      <td>01</td>\n",
       "      <td>0</td>\n",
       "      <td>1</td>\n",
       "      <td>NA</td>\n",
       "      <td>03</td>\n",
       "      <td>1</td>\n",
       "      <td>3</td>\n",
       "    </tr>\n",
       "    <tr>\n",
       "      <th>1</th>\n",
       "      <td>2</td>\n",
       "      <td>72396320</td>\n",
       "      <td>ETO1721000001</td>\n",
       "      <td>1</td>\n",
       "      <td>9</td>\n",
       "      <td>30</td>\n",
       "      <td>NA</td>\n",
       "      <td>291110</td>\n",
       "      <td>3</td>\n",
       "      <td>20</td>\n",
       "      <td>...</td>\n",
       "      <td>2</td>\n",
       "      <td>3</td>\n",
       "      <td>10042017</td>\n",
       "      <td>02</td>\n",
       "      <td>0</td>\n",
       "      <td>1</td>\n",
       "      <td>NA</td>\n",
       "      <td>03</td>\n",
       "      <td>1</td>\n",
       "      <td>2</td>\n",
       "    </tr>\n",
       "  </tbody>\n",
       "</table>\n",
       "<p>2 rows × 65 columns</p>\n",
       "</div>"
      ],
      "text/plain": [
       "  ID  NUMERODN        CODINST ORIGEM NUMERODV PREFIXODN CODESTAB CODMUNNASC  \\\n",
       "0  1  72390242  ETO1721000001      1        0        30  2786095     170700   \n",
       "1  2  72396320  ETO1721000001      1        9        30       NA     291110   \n",
       "\n",
       "  LOCNASC IDADEMAE  ... TPFUNCRESP TPDOCRESP DTDECLARAC ESCMAEAGR1 STDNEPIDEM  \\\n",
       "0       1       25  ...          2         3   24012017         01          0   \n",
       "1       3       20  ...          2         3   10042017         02          0   \n",
       "\n",
       "  STDNNOVA CODPAISRES TPROBSON PARIDADE KOTELCHUCK  \n",
       "0        1         NA       03        1          3  \n",
       "1        1         NA       03        1          2  \n",
       "\n",
       "[2 rows x 65 columns]"
      ]
     },
     "execution_count": 26,
     "metadata": {},
     "output_type": "execute_result"
    }
   ],
   "source": [
    "df = spark.read.csv('DNPBA2017.csv', header=True)\n",
    "df.limit(2).toPandas()"
   ]
  },
  {
   "cell_type": "markdown",
   "metadata": {},
   "source": [
    "### indexing"
   ]
  },
  {
   "cell_type": "code",
   "execution_count": 27,
   "metadata": {},
   "outputs": [
    {
     "name": "stderr",
     "output_type": "stream",
     "text": [
      "                                                                                \r"
     ]
    }
   ],
   "source": [
    "es_index_name = \"matb10-sinasc\"\n",
    "df.write.format(\"org.elasticsearch.spark.sql\").option(\"es.resource\", es_index_name).mode('overwrite').save()"
   ]
  },
  {
   "cell_type": "markdown",
   "metadata": {},
   "source": [
    "### buscando inexata termo"
   ]
  },
  {
   "cell_type": "code",
   "execution_count": 40,
   "metadata": {},
   "outputs": [],
   "source": [
    "content = { \"bool\": \n",
    "           { \"should\": [ {\"term\": {\"CODMUNNASC\":\"291170\"}} ] \n",
    "           } \n",
    "          }"
   ]
  },
  {
   "cell_type": "code",
   "execution_count": 41,
   "metadata": {},
   "outputs": [],
   "source": [
    "res = es.search(index=es_index_name, query=content, size=2)"
   ]
  },
  {
   "cell_type": "code",
   "execution_count": null,
   "metadata": {},
   "outputs": [],
   "source": [
    "res['hits']['hits']"
   ]
  },
  {
   "cell_type": "markdown",
   "metadata": {},
   "source": [
    "<hr />"
   ]
  },
  {
   "cell_type": "markdown",
   "metadata": {},
   "source": [
    "### buscando exata termo"
   ]
  },
  {
   "cell_type": "code",
   "execution_count": 43,
   "metadata": {},
   "outputs": [],
   "source": [
    "content = { \"bool\": \n",
    "           { \"must\": [ \n",
    "               {\"match\": {\"CODESTAB\": \"2786095\"}},\n",
    "               {\"term\": {\"CODMUNNASC\":\"170700\"}}] \n",
    "           } \n",
    "          }"
   ]
  },
  {
   "cell_type": "code",
   "execution_count": 44,
   "metadata": {},
   "outputs": [],
   "source": [
    "res = es.search(index=es_index_name, query=content, size=2)"
   ]
  },
  {
   "cell_type": "code",
   "execution_count": null,
   "metadata": {},
   "outputs": [],
   "source": [
    "res['hits']['hits']"
   ]
  },
  {
   "cell_type": "markdown",
   "metadata": {},
   "source": [
    "### buscando um intervalo"
   ]
  },
  {
   "cell_type": "code",
   "execution_count": 48,
   "metadata": {},
   "outputs": [
    {
     "name": "stderr",
     "output_type": "stream",
     "text": [
      "[Stage 9:=======================================>                   (2 + 1) / 3]\r"
     ]
    },
    {
     "name": "stdout",
     "output_type": "stream",
     "text": [
      "+--------+-----+\n",
      "|IDADEMAE|count|\n",
      "+--------+-----+\n",
      "|      11|    9|\n",
      "|      12|   53|\n",
      "|      13|  393|\n",
      "|      14| 1692|\n",
      "|      15| 3701|\n",
      "|      16| 5926|\n",
      "|      17| 8165|\n",
      "|      18| 8931|\n",
      "|      19| 9907|\n",
      "|      20| 9910|\n",
      "|      21|10346|\n",
      "|      22|10421|\n",
      "|      23|10165|\n",
      "|      24| 9721|\n",
      "|      25| 9588|\n",
      "|      26| 9106|\n",
      "|      27| 9007|\n",
      "|      28| 9227|\n",
      "|      29| 9194|\n",
      "|      30| 9309|\n",
      "|      31| 8834|\n",
      "|      32| 7988|\n",
      "|      33| 7078|\n",
      "|      34| 7056|\n",
      "|      35| 6323|\n",
      "|      36| 5389|\n",
      "|      37| 4345|\n",
      "|      38| 3495|\n",
      "|      39| 2697|\n",
      "|      40| 2004|\n",
      "+--------+-----+\n",
      "only showing top 30 rows\n",
      "\n"
     ]
    },
    {
     "name": "stderr",
     "output_type": "stream",
     "text": [
      "                                                                                \r"
     ]
    }
   ],
   "source": [
    "df.select(\"IDADEMAE\").groupBy(\"IDADEMAE\").count().orderBy(\"IDADEMAE\").show(30)"
   ]
  },
  {
   "cell_type": "code",
   "execution_count": 49,
   "metadata": {},
   "outputs": [],
   "source": [
    "content = {\"range\": {\n",
    "            \"IDADEMAE\": {\n",
    "                \"gte\": 20,\n",
    "                \"lt\": 30\n",
    "            }\n",
    "        }\n",
    "    }"
   ]
  },
  {
   "cell_type": "code",
   "execution_count": 60,
   "metadata": {},
   "outputs": [],
   "source": [
    "res = es.search(index=es_index_name, query=content, size=2)"
   ]
  },
  {
   "cell_type": "code",
   "execution_count": null,
   "metadata": {},
   "outputs": [],
   "source": [
    "res['hits']['hits']"
   ]
  },
  {
   "cell_type": "markdown",
   "metadata": {},
   "source": [
    "### busca lógica"
   ]
  },
  {
   "cell_type": "code",
   "execution_count": 14,
   "metadata": {},
   "outputs": [],
   "source": [
    "content = {\n",
    "    \"bool\": {\n",
    "            \"must\": [\n",
    "                {\n",
    "                    \"term\": {\n",
    "                        \"IDADEMAE\": 21\n",
    "                    }\n",
    "                },\n",
    "                {\n",
    "                    \"term\": {\n",
    "                        \"ESCMAEAGR1\": \"06\"\n",
    "                    }\n",
    "                }\n",
    "            ]\n",
    "        }\n",
    "    }"
   ]
  },
  {
   "cell_type": "code",
   "execution_count": 15,
   "metadata": {},
   "outputs": [],
   "source": [
    "res = es.search(index=es_index_name, query=content, size=2)"
   ]
  },
  {
   "cell_type": "code",
   "execution_count": 16,
   "metadata": {},
   "outputs": [
    {
     "data": {
      "text/plain": [
       "ObjectApiResponse({'took': 12, 'timed_out': False, '_shards': {'total': 1, 'successful': 1, 'skipped': 0, 'failed': 0}, 'hits': {'total': {'value': 2217, 'relation': 'eq'}, 'max_score': 4.693493, 'hits': [{'_index': 'matb10-sinasc', '_id': 'i60DtYABiDU2XKZNEfpE', '_score': 4.693493, '_source': {'ID': '3649', 'NUMERODN': '74218948', 'CODINST': 'MBA2900700001', 'ORIGEM': '1', 'NUMERODV': '3', 'PREFIXODN': '30', 'CODESTAB': '2487411', 'CODMUNNASC': '290070', 'LOCNASC': '1', 'IDADEMAE': '21', 'ESTCIVMAE': '1', 'ESCMAE': '4', 'CODOCUPMAE': '999992', 'QTDFILVIVO': '01', 'QTDFILMORT': '00', 'CODMUNRES': '290070', 'GESTACAO': '5', 'GRAVIDEZ': '1', 'PARTO': '1', 'CONSULTAS': '3', 'DTNASC': '31052017', 'HORANASC': '1618', 'SEXO': '2', 'APGAR1': '09', 'APGAR5': '10', 'RACACOR': 'NA', 'PESO': '3730', 'IDANOMAL': '2', 'DTCADASTRO': '04072017', 'CODANOMAL': 'NA', 'NUMEROLOTE': '20170017', 'VERSAOSIST': '3.2.00', 'DTRECEBIM': '13072017', 'DIFDATA': '043', 'DTRECORIGA': 'NA', 'NATURALMAE': '829', 'CODMUNNATU': '290070', 'CODUFNATU': '29', 'ESCMAE2010': '3', 'SERIESCMAE': '3', 'DTNASCMAE': '07061995', 'RACACORMAE': 'NA', 'QTDGESTANT': '01', 'QTDPARTNOR': '01', 'QTDPARTCES': '00', 'IDADEPAI': 'NA', 'DTULTMENST': '20082016', 'SEMAGESTAC': '40', 'TPMETESTIM': '8', 'CONSPRENAT': '06', 'MESPRENAT': '99', 'TPAPRESENT': '1', 'STTRABPART': '2', 'STCESPARTO': '3', 'TPNASCASSI': '1', 'TPFUNCRESP': '2', 'TPDOCRESP': '3', 'DTDECLARAC': '31052017', 'ESCMAEAGR1': '06', 'STDNEPIDEM': '0', 'STDNNOVA': '1', 'CODPAISRES': 'NA', 'TPROBSON': '03', 'PARIDADE': '1', 'KOTELCHUCK': '9'}}, {'_index': 'matb10-sinasc', '_id': 'jq0DtYABiDU2XKZNEfpE', '_score': 4.693493, '_source': {'ID': '3652', 'NUMERODN': '74218951', 'CODINST': 'MBA2900700001', 'ORIGEM': '1', 'NUMERODV': '3', 'PREFIXODN': '30', 'CODESTAB': '2487411', 'CODMUNNASC': '290070', 'LOCNASC': '1', 'IDADEMAE': '21', 'ESTCIVMAE': '1', 'ESCMAE': '4', 'CODOCUPMAE': '521110', 'QTDFILVIVO': '00', 'QTDFILMORT': '00', 'CODMUNRES': '291060', 'GESTACAO': '6', 'GRAVIDEZ': '1', 'PARTO': '1', 'CONSULTAS': '4', 'DTNASC': '31052017', 'HORANASC': '2018', 'SEXO': '2', 'APGAR1': '09', 'APGAR5': '10', 'RACACOR': 'NA', 'PESO': '2465', 'IDANOMAL': '2', 'DTCADASTRO': '04072017', 'CODANOMAL': 'NA', 'NUMEROLOTE': '20170017', 'VERSAOSIST': '3.2.00', 'DTRECEBIM': '13072017', 'DIFDATA': '043', 'DTRECORIGA': 'NA', 'NATURALMAE': '829', 'CODMUNNATU': '291550', 'CODUFNATU': '29', 'ESCMAE2010': '3', 'SERIESCMAE': '3', 'DTNASCMAE': '14111995', 'RACACORMAE': 'NA', 'QTDGESTANT': '00', 'QTDPARTNOR': '00', 'QTDPARTCES': '00', 'IDADEPAI': 'NA', 'DTULTMENST': '10082016', 'SEMAGESTAC': '42', 'TPMETESTIM': '8', 'CONSPRENAT': '07', 'MESPRENAT': '03', 'TPAPRESENT': '1', 'STTRABPART': '2', 'STCESPARTO': '3', 'TPNASCASSI': '1', 'TPFUNCRESP': '2', 'TPDOCRESP': '3', 'DTDECLARAC': '31052017', 'ESCMAEAGR1': '06', 'STDNEPIDEM': '0', 'STDNNOVA': '1', 'CODPAISRES': 'NA', 'TPROBSON': '01', 'PARIDADE': '0', 'KOTELCHUCK': '5'}}]}})"
      ]
     },
     "execution_count": 16,
     "metadata": {},
     "output_type": "execute_result"
    }
   ],
   "source": [
    "res"
   ]
  },
  {
   "cell_type": "markdown",
   "metadata": {},
   "source": [
    "### searching methods"
   ]
  },
  {
   "cell_type": "code",
   "execution_count": 62,
   "metadata": {},
   "outputs": [],
   "source": [
    "def buscaExata(numerodn, codestab, idademae, escmaeagr1, startId=0): \n",
    "    \n",
    "    global es\n",
    "    \n",
    "    content = {\n",
    "        'bool': {\n",
    "                'must': [\n",
    "                    {'match_phrase': {'NUMERODN': '\"' + numerodn + '\"'}},\n",
    "                    {'match_phrase': {'CODESTAB': '\"' + codestab + '\"'}}, \n",
    "                    {'match': {'IDADEMAE': idademae}},\n",
    "                    {'match': {'ESCMAEAGR1': escmaeagr1}}\n",
    "                ]\n",
    "            }\n",
    "        }\n",
    "    force = True\n",
    "    while force:\n",
    "        try:\n",
    "            res = es.search(index=es_index_name, query=content, size=2)\n",
    "            force = False\n",
    "        except:\n",
    "            pass\n",
    "    return res['hits']['hits']"
   ]
  },
  {
   "cell_type": "code",
   "execution_count": 71,
   "metadata": {},
   "outputs": [],
   "source": [
    "def buscaAproximada(numerodn, codestab, idademae, escmaeagr1, startId=0):\n",
    "    \n",
    "    global es\n",
    "    \n",
    "    content = {\n",
    "        'bool': {\n",
    "                'should': [\n",
    "                    {'match': {'NUMERODN': {'query': numerodn, 'fuzziness':'AUTO', 'operator':'or', 'boost':'2'}}},\n",
    "                    {'match': {'CODESTAB': {'query': codestab, 'fuzziness':'AUTO', 'operator':'or', 'boost':'2'}}},\n",
    "                    {'match': {'IDADEMAE': {'query': idademae, 'fuzziness':'AUTO', 'operator':'or', 'boost':'0.5'}}},\n",
    "                    {'match': {'ESCMAEAGR1': {'query': escmaeagr1, 'fuzziness':'AUTO', 'operator':'or'}}}\n",
    "                ]\n",
    "            }\n",
    "        }\n",
    "    force = True\n",
    "    while force:\n",
    "        try:\n",
    "            res = es.search(index=es_index_name, query=content, size=15)\n",
    "            force = False\n",
    "        except:\n",
    "            pass\n",
    "    return res['hits']['hits']"
   ]
  },
  {
   "cell_type": "code",
   "execution_count": null,
   "metadata": {},
   "outputs": [],
   "source": [
    "buscaExata(\"72390242\", \"2786095\", \"25\", \"01\")#[0]['_source']['NUMERODN']"
   ]
  },
  {
   "cell_type": "code",
   "execution_count": 73,
   "metadata": {},
   "outputs": [
    {
     "data": {
      "text/plain": [
       "[]"
      ]
     },
     "execution_count": 73,
     "metadata": {},
     "output_type": "execute_result"
    }
   ],
   "source": [
    "# um campo modificado (note que o retorno é vazio)\n",
    "buscaExata(\"72390242\", \"2786095\", \"33\", \"01\")"
   ]
  },
  {
   "cell_type": "code",
   "execution_count": 76,
   "metadata": {},
   "outputs": [
    {
     "data": {
      "text/plain": [
       "'72383677'"
      ]
     },
     "execution_count": 76,
     "metadata": {},
     "output_type": "execute_result"
    }
   ],
   "source": [
    "buscaAproximada(\"72390242\", \"2786095\", \"25\", \"01\")[4]['_source']['NUMERODN']"
   ]
  },
  {
   "cell_type": "code",
   "execution_count": null,
   "metadata": {},
   "outputs": [],
   "source": [
    "# # um campo modificado (mais de um candidato é retornado)\n",
    "buscaAproximada(\"72390242\", \"2786095\", \"33\", \"01\")"
   ]
  },
  {
   "cell_type": "code",
   "execution_count": 23,
   "metadata": {},
   "outputs": [
    {
     "name": "stdout",
     "output_type": "stream",
     "text": [
      "2\n"
     ]
    }
   ],
   "source": [
    "print(len(buscaAproximada(\"72390242\", \"2786095\", \"33\", \"01\")))"
   ]
  }
 ],
 "metadata": {
  "kernelspec": {
   "display_name": "Python 3 (ipykernel)",
   "language": "python",
   "name": "python3"
  },
  "language_info": {
   "codemirror_mode": {
    "name": "ipython",
    "version": 3
   },
   "file_extension": ".py",
   "mimetype": "text/x-python",
   "name": "python",
   "nbconvert_exporter": "python",
   "pygments_lexer": "ipython3",
   "version": "3.9.7"
  }
 },
 "nbformat": 4,
 "nbformat_minor": 4
}
