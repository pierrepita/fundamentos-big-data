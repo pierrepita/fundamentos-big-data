{
 "cells": [
  {
   "cell_type": "code",
   "execution_count": 217,
   "metadata": {},
   "outputs": [],
   "source": [
    "import pyspark.sql.functions as F\n",
    "from pyspark.sql.types import *\n",
    "import pandas as pd"
   ]
  },
  {
   "cell_type": "code",
   "execution_count": 218,
   "metadata": {},
   "outputs": [],
   "source": [
    "data = spark.read.csv('results_for_accuracy_calc.csv', header=True)"
   ]
  },
  {
   "cell_type": "code",
   "execution_count": 219,
   "metadata": {},
   "outputs": [
    {
     "data": {
      "text/html": [
       "<div>\n",
       "<style scoped>\n",
       "    .dataframe tbody tr th:only-of-type {\n",
       "        vertical-align: middle;\n",
       "    }\n",
       "\n",
       "    .dataframe tbody tr th {\n",
       "        vertical-align: top;\n",
       "    }\n",
       "\n",
       "    .dataframe thead th {\n",
       "        text-align: right;\n",
       "    }\n",
       "</style>\n",
       "<table border=\"1\" class=\"dataframe\">\n",
       "  <thead>\n",
       "    <tr style=\"text-align: right;\">\n",
       "      <th></th>\n",
       "      <th>cpf_a</th>\n",
       "      <th>cpf_b</th>\n",
       "      <th>similarity</th>\n",
       "    </tr>\n",
       "  </thead>\n",
       "  <tbody>\n",
       "    <tr>\n",
       "      <th>0</th>\n",
       "      <td>097.627.958-49</td>\n",
       "      <td>097.627.958-49</td>\n",
       "      <td>1</td>\n",
       "    </tr>\n",
       "    <tr>\n",
       "      <th>1</th>\n",
       "      <td>685.096.335-09</td>\n",
       "      <td>685.096.335-09</td>\n",
       "      <td>1</td>\n",
       "    </tr>\n",
       "    <tr>\n",
       "      <th>2</th>\n",
       "      <td>956.997.968-27</td>\n",
       "      <td>956.997.968-27</td>\n",
       "      <td>1</td>\n",
       "    </tr>\n",
       "    <tr>\n",
       "      <th>3</th>\n",
       "      <td>631.875.885-22</td>\n",
       "      <td>631.875.885-22</td>\n",
       "      <td>1</td>\n",
       "    </tr>\n",
       "    <tr>\n",
       "      <th>4</th>\n",
       "      <td>397.480.478-14</td>\n",
       "      <td>397.480.478-14</td>\n",
       "      <td>1</td>\n",
       "    </tr>\n",
       "    <tr>\n",
       "      <th>5</th>\n",
       "      <td>216.419.173-00</td>\n",
       "      <td>216.419.173-00</td>\n",
       "      <td>1</td>\n",
       "    </tr>\n",
       "    <tr>\n",
       "      <th>6</th>\n",
       "      <td>148.386.650-59</td>\n",
       "      <td>148.386.650-59</td>\n",
       "      <td>1</td>\n",
       "    </tr>\n",
       "    <tr>\n",
       "      <th>7</th>\n",
       "      <td>654.325.863-20</td>\n",
       "      <td>654.325.863-20</td>\n",
       "      <td>1</td>\n",
       "    </tr>\n",
       "    <tr>\n",
       "      <th>8</th>\n",
       "      <td>704.817.633-41</td>\n",
       "      <td>704.817.633-42</td>\n",
       "      <td>1</td>\n",
       "    </tr>\n",
       "    <tr>\n",
       "      <th>9</th>\n",
       "      <td>179.057.616-49</td>\n",
       "      <td>179.057.6-49</td>\n",
       "      <td>1</td>\n",
       "    </tr>\n",
       "  </tbody>\n",
       "</table>\n",
       "</div>"
      ],
      "text/plain": [
       "            cpf_a           cpf_b similarity\n",
       "0  097.627.958-49  097.627.958-49          1\n",
       "1  685.096.335-09  685.096.335-09          1\n",
       "2  956.997.968-27  956.997.968-27          1\n",
       "3  631.875.885-22  631.875.885-22          1\n",
       "4  397.480.478-14  397.480.478-14          1\n",
       "5  216.419.173-00  216.419.173-00          1\n",
       "6  148.386.650-59  148.386.650-59          1\n",
       "7  654.325.863-20  654.325.863-20          1\n",
       "8  704.817.633-41  704.817.633-42          1\n",
       "9  179.057.616-49    179.057.6-49          1"
      ]
     },
     "execution_count": 219,
     "metadata": {},
     "output_type": "execute_result"
    }
   ],
   "source": [
    "data.limit(10).toPandas()"
   ]
  },
  {
   "cell_type": "code",
   "execution_count": 220,
   "metadata": {},
   "outputs": [],
   "source": [
    "# Let us consider a cuttoff point set as 0.85\n",
    "cutoff = 0.9\n",
    "\n",
    "# sorting and deduplicating the resulting dataset\n",
    "data = data.withColumn('similairty', F.col('similarity').cast(DoubleType()))\n",
    "data = data.orderBy('similarity').dropDuplicates(['cpf_b'])\n",
    "data = data.withColumn('match', F.when(F.col('similarity') >= cutoff, '1').otherwise('0'))"
   ]
  },
  {
   "cell_type": "code",
   "execution_count": 221,
   "metadata": {},
   "outputs": [],
   "source": [
    "def inspect_pairs(cpf_a, cpf_b, match):\n",
    "    if match == '1':\n",
    "        if cpf_a == cpf_b:\n",
    "            return \"TP\"\n",
    "        else:\n",
    "            return \"FP\"\n",
    "    else:\n",
    "        if cpf_a != cpf_b:\n",
    "            return \"TN\"\n",
    "        else: \n",
    "            return \"FN\"\n",
    "udf_inspect_pairs = F.udf(inspect_pairs, StringType())"
   ]
  },
  {
   "cell_type": "code",
   "execution_count": 222,
   "metadata": {},
   "outputs": [],
   "source": [
    "data = data.withColumn('perf', udf_inspect_pairs(F.col('cpf_a'), F.col('cpf_b'), F.col('match')))"
   ]
  },
  {
   "cell_type": "markdown",
   "metadata": {},
   "source": [
    "## Measures\n",
    "Accuracy = (TP + TN) / (FP + TP + FN + TN)\n",
    "\n",
    "Positive predictive value (PPV) = TP / (TP + FP)\n",
    "\n",
    "Negative predictive value (NPV) = TN / (TN + FN)\n",
    "\n",
    "Sensitivity (True positive rate) = TP / (TP + FN)\n",
    "\n",
    "Specificity (True negative rate) = TN / (TN + FP)"
   ]
  },
  {
   "cell_type": "code",
   "execution_count": 224,
   "metadata": {},
   "outputs": [],
   "source": [
    "dic_results = {}\n",
    "TP = data.filter(F.col('perf') == \"TP\").count()\n",
    "TN = data.filter(F.col('perf') == \"TN\").count()\n",
    "FP = data.filter(F.col('perf') == \"FP\").count()\n",
    "FN = data.filter(F.col('perf') == \"FN\").count()\n",
    "\n",
    "\n",
    "dic_results['accuracy'] =  float(TP + TN) / (FP + TP + FN + TN)\n",
    "dic_results['ppv'] = float(TP) / (TP + FP)\n",
    "dic_results['npv'] = float(TN) / (TN + FN)\n",
    "dic_results['sens'] = float(TP) / (TP + FN)\n",
    "dic_results['spec'] = float(TN) / (TN + FP)"
   ]
  },
  {
   "cell_type": "code",
   "execution_count": 225,
   "metadata": {},
   "outputs": [],
   "source": [
    "final_results = pd.DataFrame(dic_results, index=[0])"
   ]
  },
  {
   "cell_type": "code",
   "execution_count": 226,
   "metadata": {},
   "outputs": [
    {
     "data": {
      "text/html": [
       "<div>\n",
       "<style scoped>\n",
       "    .dataframe tbody tr th:only-of-type {\n",
       "        vertical-align: middle;\n",
       "    }\n",
       "\n",
       "    .dataframe tbody tr th {\n",
       "        vertical-align: top;\n",
       "    }\n",
       "\n",
       "    .dataframe thead th {\n",
       "        text-align: right;\n",
       "    }\n",
       "</style>\n",
       "<table border=\"1\" class=\"dataframe\">\n",
       "  <thead>\n",
       "    <tr style=\"text-align: right;\">\n",
       "      <th></th>\n",
       "      <th>accuracy</th>\n",
       "      <th>npv</th>\n",
       "      <th>ppv</th>\n",
       "      <th>sens</th>\n",
       "      <th>spec</th>\n",
       "    </tr>\n",
       "  </thead>\n",
       "  <tbody>\n",
       "    <tr>\n",
       "      <th>0</th>\n",
       "      <td>0.51049</td>\n",
       "      <td>0.403509</td>\n",
       "      <td>0.931034</td>\n",
       "      <td>0.284211</td>\n",
       "      <td>0.958333</td>\n",
       "    </tr>\n",
       "  </tbody>\n",
       "</table>\n",
       "</div>"
      ],
      "text/plain": [
       "   accuracy       npv       ppv      sens      spec\n",
       "0   0.51049  0.403509  0.931034  0.284211  0.958333"
      ]
     },
     "execution_count": 226,
     "metadata": {},
     "output_type": "execute_result"
    }
   ],
   "source": [
    "final_results"
   ]
  }
 ],
 "metadata": {
  "kernelspec": {
   "display_name": "Python 3",
   "language": "python",
   "name": "python3"
  },
  "language_info": {
   "codemirror_mode": {
    "name": "ipython",
    "version": 3
   },
   "file_extension": ".py",
   "mimetype": "text/x-python",
   "name": "python",
   "nbconvert_exporter": "python",
   "pygments_lexer": "ipython3",
   "version": "3.8.5"
  }
 },
 "nbformat": 4,
 "nbformat_minor": 4
}
